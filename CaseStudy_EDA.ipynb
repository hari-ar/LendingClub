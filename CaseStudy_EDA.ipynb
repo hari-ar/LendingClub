{
  "cells": [
    {
      "cell_type": "markdown",
      "metadata": {
        "id": "view-in-github",
        "colab_type": "text"
      },
      "source": [
        "<a href=\"https://colab.research.google.com/github/hari-ar/LendingClub/blob/main/CaseStudy_EDA.ipynb\" target=\"_parent\"><img src=\"https://colab.research.google.com/assets/colab-badge.svg\" alt=\"Open In Colab\"/></a>"
      ]
    },
    {
      "cell_type": "markdown",
      "metadata": {
        "id": "hjIoCDod7zL6"
      },
      "source": [
        "#This is the notebook for the case study for Module 1 EDA."
      ]
    },
    {
      "cell_type": "markdown",
      "metadata": {
        "id": "lsbGaKzBUvJV"
      },
      "source": [
        "Imports for the analysis."
      ]
    },
    {
      "cell_type": "code",
      "execution_count": null,
      "metadata": {
        "id": "iiVx2tv27eHs"
      },
      "outputs": [],
      "source": [
        "import numpy as np\n",
        "import pandas as pd\n",
        "\n",
        "import seaborn as sns\n",
        "import matplotlib.pyplot as plt\n",
        "%matplotlib inline\n",
        "import scipy\n",
        "\n",
        "import warnings\n",
        "warnings.filterwarnings('ignore')\n",
        "import plotly.express as px #plotting"
      ]
    },
    {
      "cell_type": "markdown",
      "metadata": {
        "id": "rZqLLEjDU1pr"
      },
      "source": [
        "Load the file."
      ]
    },
    {
      "cell_type": "code",
      "execution_count": null,
      "metadata": {
        "id": "XknTlWACUz56"
      },
      "outputs": [],
      "source": [
        "imported_data = pd.read_csv(\"/content/loan.csv\")"
      ]
    },
    {
      "cell_type": "code",
      "execution_count": null,
      "metadata": {
        "colab": {
          "base_uri": "https://localhost:8080/",
          "height": 342
        },
        "id": "Xa-Z255WWDjh",
        "outputId": "99b7fc17-4f53-48ee-dcd6-75ae2b68f40f"
      },
      "outputs": [
        {
          "output_type": "execute_result",
          "data": {
            "text/plain": [
              "        id  member_id  loan_amnt  funded_amnt  funded_amnt_inv        term  \\\n",
              "0  1077501    1296599       5000         5000           4975.0   36 months   \n",
              "1  1077430    1314167       2500         2500           2500.0   60 months   \n",
              "2  1077175    1313524       2400         2400           2400.0   36 months   \n",
              "3  1076863    1277178      10000        10000          10000.0   36 months   \n",
              "4  1075358    1311748       3000         3000           3000.0   60 months   \n",
              "\n",
              "  int_rate  installment grade sub_grade  ... num_tl_90g_dpd_24m  \\\n",
              "0   10.65%       162.87     B        B2  ...                NaN   \n",
              "1   15.27%        59.83     C        C4  ...                NaN   \n",
              "2   15.96%        84.33     C        C5  ...                NaN   \n",
              "3   13.49%       339.31     C        C1  ...                NaN   \n",
              "4   12.69%        67.79     B        B5  ...                NaN   \n",
              "\n",
              "  num_tl_op_past_12m pct_tl_nvr_dlq  percent_bc_gt_75 pub_rec_bankruptcies  \\\n",
              "0                NaN            NaN               NaN                  0.0   \n",
              "1                NaN            NaN               NaN                  0.0   \n",
              "2                NaN            NaN               NaN                  0.0   \n",
              "3                NaN            NaN               NaN                  0.0   \n",
              "4                NaN            NaN               NaN                  0.0   \n",
              "\n",
              "  tax_liens tot_hi_cred_lim total_bal_ex_mort total_bc_limit  \\\n",
              "0       0.0             NaN               NaN            NaN   \n",
              "1       0.0             NaN               NaN            NaN   \n",
              "2       0.0             NaN               NaN            NaN   \n",
              "3       0.0             NaN               NaN            NaN   \n",
              "4       0.0             NaN               NaN            NaN   \n",
              "\n",
              "  total_il_high_credit_limit  \n",
              "0                        NaN  \n",
              "1                        NaN  \n",
              "2                        NaN  \n",
              "3                        NaN  \n",
              "4                        NaN  \n",
              "\n",
              "[5 rows x 111 columns]"
            ],
            "text/html": [
              "\n",
              "  <div id=\"df-786a5aae-9f0e-4088-9bc7-aa6224b53bdb\" class=\"colab-df-container\">\n",
              "    <div>\n",
              "<style scoped>\n",
              "    .dataframe tbody tr th:only-of-type {\n",
              "        vertical-align: middle;\n",
              "    }\n",
              "\n",
              "    .dataframe tbody tr th {\n",
              "        vertical-align: top;\n",
              "    }\n",
              "\n",
              "    .dataframe thead th {\n",
              "        text-align: right;\n",
              "    }\n",
              "</style>\n",
              "<table border=\"1\" class=\"dataframe\">\n",
              "  <thead>\n",
              "    <tr style=\"text-align: right;\">\n",
              "      <th></th>\n",
              "      <th>id</th>\n",
              "      <th>member_id</th>\n",
              "      <th>loan_amnt</th>\n",
              "      <th>funded_amnt</th>\n",
              "      <th>funded_amnt_inv</th>\n",
              "      <th>term</th>\n",
              "      <th>int_rate</th>\n",
              "      <th>installment</th>\n",
              "      <th>grade</th>\n",
              "      <th>sub_grade</th>\n",
              "      <th>...</th>\n",
              "      <th>num_tl_90g_dpd_24m</th>\n",
              "      <th>num_tl_op_past_12m</th>\n",
              "      <th>pct_tl_nvr_dlq</th>\n",
              "      <th>percent_bc_gt_75</th>\n",
              "      <th>pub_rec_bankruptcies</th>\n",
              "      <th>tax_liens</th>\n",
              "      <th>tot_hi_cred_lim</th>\n",
              "      <th>total_bal_ex_mort</th>\n",
              "      <th>total_bc_limit</th>\n",
              "      <th>total_il_high_credit_limit</th>\n",
              "    </tr>\n",
              "  </thead>\n",
              "  <tbody>\n",
              "    <tr>\n",
              "      <th>0</th>\n",
              "      <td>1077501</td>\n",
              "      <td>1296599</td>\n",
              "      <td>5000</td>\n",
              "      <td>5000</td>\n",
              "      <td>4975.0</td>\n",
              "      <td>36 months</td>\n",
              "      <td>10.65%</td>\n",
              "      <td>162.87</td>\n",
              "      <td>B</td>\n",
              "      <td>B2</td>\n",
              "      <td>...</td>\n",
              "      <td>NaN</td>\n",
              "      <td>NaN</td>\n",
              "      <td>NaN</td>\n",
              "      <td>NaN</td>\n",
              "      <td>0.0</td>\n",
              "      <td>0.0</td>\n",
              "      <td>NaN</td>\n",
              "      <td>NaN</td>\n",
              "      <td>NaN</td>\n",
              "      <td>NaN</td>\n",
              "    </tr>\n",
              "    <tr>\n",
              "      <th>1</th>\n",
              "      <td>1077430</td>\n",
              "      <td>1314167</td>\n",
              "      <td>2500</td>\n",
              "      <td>2500</td>\n",
              "      <td>2500.0</td>\n",
              "      <td>60 months</td>\n",
              "      <td>15.27%</td>\n",
              "      <td>59.83</td>\n",
              "      <td>C</td>\n",
              "      <td>C4</td>\n",
              "      <td>...</td>\n",
              "      <td>NaN</td>\n",
              "      <td>NaN</td>\n",
              "      <td>NaN</td>\n",
              "      <td>NaN</td>\n",
              "      <td>0.0</td>\n",
              "      <td>0.0</td>\n",
              "      <td>NaN</td>\n",
              "      <td>NaN</td>\n",
              "      <td>NaN</td>\n",
              "      <td>NaN</td>\n",
              "    </tr>\n",
              "    <tr>\n",
              "      <th>2</th>\n",
              "      <td>1077175</td>\n",
              "      <td>1313524</td>\n",
              "      <td>2400</td>\n",
              "      <td>2400</td>\n",
              "      <td>2400.0</td>\n",
              "      <td>36 months</td>\n",
              "      <td>15.96%</td>\n",
              "      <td>84.33</td>\n",
              "      <td>C</td>\n",
              "      <td>C5</td>\n",
              "      <td>...</td>\n",
              "      <td>NaN</td>\n",
              "      <td>NaN</td>\n",
              "      <td>NaN</td>\n",
              "      <td>NaN</td>\n",
              "      <td>0.0</td>\n",
              "      <td>0.0</td>\n",
              "      <td>NaN</td>\n",
              "      <td>NaN</td>\n",
              "      <td>NaN</td>\n",
              "      <td>NaN</td>\n",
              "    </tr>\n",
              "    <tr>\n",
              "      <th>3</th>\n",
              "      <td>1076863</td>\n",
              "      <td>1277178</td>\n",
              "      <td>10000</td>\n",
              "      <td>10000</td>\n",
              "      <td>10000.0</td>\n",
              "      <td>36 months</td>\n",
              "      <td>13.49%</td>\n",
              "      <td>339.31</td>\n",
              "      <td>C</td>\n",
              "      <td>C1</td>\n",
              "      <td>...</td>\n",
              "      <td>NaN</td>\n",
              "      <td>NaN</td>\n",
              "      <td>NaN</td>\n",
              "      <td>NaN</td>\n",
              "      <td>0.0</td>\n",
              "      <td>0.0</td>\n",
              "      <td>NaN</td>\n",
              "      <td>NaN</td>\n",
              "      <td>NaN</td>\n",
              "      <td>NaN</td>\n",
              "    </tr>\n",
              "    <tr>\n",
              "      <th>4</th>\n",
              "      <td>1075358</td>\n",
              "      <td>1311748</td>\n",
              "      <td>3000</td>\n",
              "      <td>3000</td>\n",
              "      <td>3000.0</td>\n",
              "      <td>60 months</td>\n",
              "      <td>12.69%</td>\n",
              "      <td>67.79</td>\n",
              "      <td>B</td>\n",
              "      <td>B5</td>\n",
              "      <td>...</td>\n",
              "      <td>NaN</td>\n",
              "      <td>NaN</td>\n",
              "      <td>NaN</td>\n",
              "      <td>NaN</td>\n",
              "      <td>0.0</td>\n",
              "      <td>0.0</td>\n",
              "      <td>NaN</td>\n",
              "      <td>NaN</td>\n",
              "      <td>NaN</td>\n",
              "      <td>NaN</td>\n",
              "    </tr>\n",
              "  </tbody>\n",
              "</table>\n",
              "<p>5 rows × 111 columns</p>\n",
              "</div>\n",
              "    <div class=\"colab-df-buttons\">\n",
              "\n",
              "  <div class=\"colab-df-container\">\n",
              "    <button class=\"colab-df-convert\" onclick=\"convertToInteractive('df-786a5aae-9f0e-4088-9bc7-aa6224b53bdb')\"\n",
              "            title=\"Convert this dataframe to an interactive table.\"\n",
              "            style=\"display:none;\">\n",
              "\n",
              "  <svg xmlns=\"http://www.w3.org/2000/svg\" height=\"24px\" viewBox=\"0 -960 960 960\">\n",
              "    <path d=\"M120-120v-720h720v720H120Zm60-500h600v-160H180v160Zm220 220h160v-160H400v160Zm0 220h160v-160H400v160ZM180-400h160v-160H180v160Zm440 0h160v-160H620v160ZM180-180h160v-160H180v160Zm440 0h160v-160H620v160Z\"/>\n",
              "  </svg>\n",
              "    </button>\n",
              "\n",
              "  <style>\n",
              "    .colab-df-container {\n",
              "      display:flex;\n",
              "      gap: 12px;\n",
              "    }\n",
              "\n",
              "    .colab-df-convert {\n",
              "      background-color: #E8F0FE;\n",
              "      border: none;\n",
              "      border-radius: 50%;\n",
              "      cursor: pointer;\n",
              "      display: none;\n",
              "      fill: #1967D2;\n",
              "      height: 32px;\n",
              "      padding: 0 0 0 0;\n",
              "      width: 32px;\n",
              "    }\n",
              "\n",
              "    .colab-df-convert:hover {\n",
              "      background-color: #E2EBFA;\n",
              "      box-shadow: 0px 1px 2px rgba(60, 64, 67, 0.3), 0px 1px 3px 1px rgba(60, 64, 67, 0.15);\n",
              "      fill: #174EA6;\n",
              "    }\n",
              "\n",
              "    .colab-df-buttons div {\n",
              "      margin-bottom: 4px;\n",
              "    }\n",
              "\n",
              "    [theme=dark] .colab-df-convert {\n",
              "      background-color: #3B4455;\n",
              "      fill: #D2E3FC;\n",
              "    }\n",
              "\n",
              "    [theme=dark] .colab-df-convert:hover {\n",
              "      background-color: #434B5C;\n",
              "      box-shadow: 0px 1px 3px 1px rgba(0, 0, 0, 0.15);\n",
              "      filter: drop-shadow(0px 1px 2px rgba(0, 0, 0, 0.3));\n",
              "      fill: #FFFFFF;\n",
              "    }\n",
              "  </style>\n",
              "\n",
              "    <script>\n",
              "      const buttonEl =\n",
              "        document.querySelector('#df-786a5aae-9f0e-4088-9bc7-aa6224b53bdb button.colab-df-convert');\n",
              "      buttonEl.style.display =\n",
              "        google.colab.kernel.accessAllowed ? 'block' : 'none';\n",
              "\n",
              "      async function convertToInteractive(key) {\n",
              "        const element = document.querySelector('#df-786a5aae-9f0e-4088-9bc7-aa6224b53bdb');\n",
              "        const dataTable =\n",
              "          await google.colab.kernel.invokeFunction('convertToInteractive',\n",
              "                                                    [key], {});\n",
              "        if (!dataTable) return;\n",
              "\n",
              "        const docLinkHtml = 'Like what you see? Visit the ' +\n",
              "          '<a target=\"_blank\" href=https://colab.research.google.com/notebooks/data_table.ipynb>data table notebook</a>'\n",
              "          + ' to learn more about interactive tables.';\n",
              "        element.innerHTML = '';\n",
              "        dataTable['output_type'] = 'display_data';\n",
              "        await google.colab.output.renderOutput(dataTable, element);\n",
              "        const docLink = document.createElement('div');\n",
              "        docLink.innerHTML = docLinkHtml;\n",
              "        element.appendChild(docLink);\n",
              "      }\n",
              "    </script>\n",
              "  </div>\n",
              "\n",
              "\n",
              "<div id=\"df-0d3523b2-92f1-4763-ba96-f9ae0331845f\">\n",
              "  <button class=\"colab-df-quickchart\" onclick=\"quickchart('df-0d3523b2-92f1-4763-ba96-f9ae0331845f')\"\n",
              "            title=\"Suggest charts\"\n",
              "            style=\"display:none;\">\n",
              "\n",
              "<svg xmlns=\"http://www.w3.org/2000/svg\" height=\"24px\"viewBox=\"0 0 24 24\"\n",
              "     width=\"24px\">\n",
              "    <g>\n",
              "        <path d=\"M19 3H5c-1.1 0-2 .9-2 2v14c0 1.1.9 2 2 2h14c1.1 0 2-.9 2-2V5c0-1.1-.9-2-2-2zM9 17H7v-7h2v7zm4 0h-2V7h2v10zm4 0h-2v-4h2v4z\"/>\n",
              "    </g>\n",
              "</svg>\n",
              "  </button>\n",
              "\n",
              "<style>\n",
              "  .colab-df-quickchart {\n",
              "      --bg-color: #E8F0FE;\n",
              "      --fill-color: #1967D2;\n",
              "      --hover-bg-color: #E2EBFA;\n",
              "      --hover-fill-color: #174EA6;\n",
              "      --disabled-fill-color: #AAA;\n",
              "      --disabled-bg-color: #DDD;\n",
              "  }\n",
              "\n",
              "  [theme=dark] .colab-df-quickchart {\n",
              "      --bg-color: #3B4455;\n",
              "      --fill-color: #D2E3FC;\n",
              "      --hover-bg-color: #434B5C;\n",
              "      --hover-fill-color: #FFFFFF;\n",
              "      --disabled-bg-color: #3B4455;\n",
              "      --disabled-fill-color: #666;\n",
              "  }\n",
              "\n",
              "  .colab-df-quickchart {\n",
              "    background-color: var(--bg-color);\n",
              "    border: none;\n",
              "    border-radius: 50%;\n",
              "    cursor: pointer;\n",
              "    display: none;\n",
              "    fill: var(--fill-color);\n",
              "    height: 32px;\n",
              "    padding: 0;\n",
              "    width: 32px;\n",
              "  }\n",
              "\n",
              "  .colab-df-quickchart:hover {\n",
              "    background-color: var(--hover-bg-color);\n",
              "    box-shadow: 0 1px 2px rgba(60, 64, 67, 0.3), 0 1px 3px 1px rgba(60, 64, 67, 0.15);\n",
              "    fill: var(--button-hover-fill-color);\n",
              "  }\n",
              "\n",
              "  .colab-df-quickchart-complete:disabled,\n",
              "  .colab-df-quickchart-complete:disabled:hover {\n",
              "    background-color: var(--disabled-bg-color);\n",
              "    fill: var(--disabled-fill-color);\n",
              "    box-shadow: none;\n",
              "  }\n",
              "\n",
              "  .colab-df-spinner {\n",
              "    border: 2px solid var(--fill-color);\n",
              "    border-color: transparent;\n",
              "    border-bottom-color: var(--fill-color);\n",
              "    animation:\n",
              "      spin 1s steps(1) infinite;\n",
              "  }\n",
              "\n",
              "  @keyframes spin {\n",
              "    0% {\n",
              "      border-color: transparent;\n",
              "      border-bottom-color: var(--fill-color);\n",
              "      border-left-color: var(--fill-color);\n",
              "    }\n",
              "    20% {\n",
              "      border-color: transparent;\n",
              "      border-left-color: var(--fill-color);\n",
              "      border-top-color: var(--fill-color);\n",
              "    }\n",
              "    30% {\n",
              "      border-color: transparent;\n",
              "      border-left-color: var(--fill-color);\n",
              "      border-top-color: var(--fill-color);\n",
              "      border-right-color: var(--fill-color);\n",
              "    }\n",
              "    40% {\n",
              "      border-color: transparent;\n",
              "      border-right-color: var(--fill-color);\n",
              "      border-top-color: var(--fill-color);\n",
              "    }\n",
              "    60% {\n",
              "      border-color: transparent;\n",
              "      border-right-color: var(--fill-color);\n",
              "    }\n",
              "    80% {\n",
              "      border-color: transparent;\n",
              "      border-right-color: var(--fill-color);\n",
              "      border-bottom-color: var(--fill-color);\n",
              "    }\n",
              "    90% {\n",
              "      border-color: transparent;\n",
              "      border-bottom-color: var(--fill-color);\n",
              "    }\n",
              "  }\n",
              "</style>\n",
              "\n",
              "  <script>\n",
              "    async function quickchart(key) {\n",
              "      const quickchartButtonEl =\n",
              "        document.querySelector('#' + key + ' button');\n",
              "      quickchartButtonEl.disabled = true;  // To prevent multiple clicks.\n",
              "      quickchartButtonEl.classList.add('colab-df-spinner');\n",
              "      try {\n",
              "        const charts = await google.colab.kernel.invokeFunction(\n",
              "            'suggestCharts', [key], {});\n",
              "      } catch (error) {\n",
              "        console.error('Error during call to suggestCharts:', error);\n",
              "      }\n",
              "      quickchartButtonEl.classList.remove('colab-df-spinner');\n",
              "      quickchartButtonEl.classList.add('colab-df-quickchart-complete');\n",
              "    }\n",
              "    (() => {\n",
              "      let quickchartButtonEl =\n",
              "        document.querySelector('#df-0d3523b2-92f1-4763-ba96-f9ae0331845f button');\n",
              "      quickchartButtonEl.style.display =\n",
              "        google.colab.kernel.accessAllowed ? 'block' : 'none';\n",
              "    })();\n",
              "  </script>\n",
              "</div>\n",
              "\n",
              "    </div>\n",
              "  </div>\n"
            ],
            "application/vnd.google.colaboratory.intrinsic+json": {
              "type": "dataframe",
              "variable_name": "imported_data"
            }
          },
          "metadata": {},
          "execution_count": 3
        }
      ],
      "source": [
        "imported_data.head()"
      ]
    },
    {
      "cell_type": "code",
      "execution_count": null,
      "metadata": {
        "colab": {
          "base_uri": "https://localhost:8080/"
        },
        "id": "pd4_M9wyWH0j",
        "outputId": "e7ad3a1b-e892-436c-95ec-57f7e4eeda05"
      },
      "outputs": [
        {
          "output_type": "execute_result",
          "data": {
            "text/plain": [
              "(2740, 111)"
            ]
          },
          "metadata": {},
          "execution_count": 4
        }
      ],
      "source": [
        "imported_data.shape\n"
      ]
    },
    {
      "cell_type": "code",
      "execution_count": null,
      "metadata": {
        "colab": {
          "base_uri": "https://localhost:8080/"
        },
        "id": "QxUkjt63i1Ls",
        "outputId": "8811003a-c29b-4342-a71a-df61d7ff3519"
      },
      "outputs": [
        {
          "output_type": "execute_result",
          "data": {
            "text/plain": [
              "['emp_title',\n",
              " 'emp_length',\n",
              " 'desc',\n",
              " 'mths_since_last_delinq',\n",
              " 'mths_since_last_record',\n",
              " 'last_pymnt_d',\n",
              " 'next_pymnt_d',\n",
              " 'mths_since_last_major_derog',\n",
              " 'annual_inc_joint',\n",
              " 'dti_joint',\n",
              " 'verification_status_joint',\n",
              " 'tot_coll_amt',\n",
              " 'tot_cur_bal',\n",
              " 'open_acc_6m',\n",
              " 'open_il_6m',\n",
              " 'open_il_12m',\n",
              " 'open_il_24m',\n",
              " 'mths_since_rcnt_il',\n",
              " 'total_bal_il',\n",
              " 'il_util',\n",
              " 'open_rv_12m',\n",
              " 'open_rv_24m',\n",
              " 'max_bal_bc',\n",
              " 'all_util',\n",
              " 'total_rev_hi_lim',\n",
              " 'inq_fi',\n",
              " 'total_cu_tl',\n",
              " 'inq_last_12m',\n",
              " 'acc_open_past_24mths',\n",
              " 'avg_cur_bal',\n",
              " 'bc_open_to_buy',\n",
              " 'bc_util',\n",
              " 'chargeoff_within_12_mths',\n",
              " 'delinq_amnt',\n",
              " 'mo_sin_old_il_acct',\n",
              " 'mo_sin_old_rev_tl_op',\n",
              " 'mo_sin_rcnt_rev_tl_op',\n",
              " 'mo_sin_rcnt_tl',\n",
              " 'mort_acc',\n",
              " 'mths_since_recent_bc',\n",
              " 'mths_since_recent_bc_dlq',\n",
              " 'mths_since_recent_inq',\n",
              " 'mths_since_recent_revol_delinq',\n",
              " 'num_accts_ever_120_pd',\n",
              " 'num_actv_bc_tl',\n",
              " 'num_actv_rev_tl',\n",
              " 'num_bc_sats',\n",
              " 'num_bc_tl',\n",
              " 'num_il_tl',\n",
              " 'num_op_rev_tl',\n",
              " 'num_rev_accts',\n",
              " 'num_rev_tl_bal_gt_0',\n",
              " 'num_sats',\n",
              " 'num_tl_120dpd_2m',\n",
              " 'num_tl_30dpd',\n",
              " 'num_tl_90g_dpd_24m',\n",
              " 'num_tl_op_past_12m',\n",
              " 'pct_tl_nvr_dlq',\n",
              " 'percent_bc_gt_75',\n",
              " 'pub_rec_bankruptcies',\n",
              " 'tax_liens',\n",
              " 'tot_hi_cred_lim',\n",
              " 'total_bal_ex_mort',\n",
              " 'total_bc_limit',\n",
              " 'total_il_high_credit_limit']"
            ]
          },
          "metadata": {},
          "execution_count": 5
        }
      ],
      "source": [
        "imported_data.columns[imported_data.isna().any()].tolist()"
      ]
    },
    {
      "cell_type": "code",
      "execution_count": null,
      "metadata": {
        "colab": {
          "base_uri": "https://localhost:8080/"
        },
        "id": "8saT1CU0WQX7",
        "outputId": "25f486ed-5da2-44fb-e3d2-340cf3aba773"
      },
      "outputs": [
        {
          "output_type": "stream",
          "name": "stdout",
          "text": [
            "Count where all values are NA is : 54\n"
          ]
        }
      ],
      "source": [
        "\n",
        "print(\"Count where all values are NA is :\" , imported_data.isnull().all(axis=0).sum())\n"
      ]
    },
    {
      "cell_type": "markdown",
      "metadata": {
        "id": "fbVougrsgpqB"
      },
      "source": [
        "54 of the columns have all empty records. Hence they are not useful for our analysis. So removing them from the dataset."
      ]
    },
    {
      "cell_type": "markdown",
      "metadata": {
        "id": "FPwCPydGFO3Q"
      },
      "source": [
        "Drop the cells with all na values and check for columns with high missing data."
      ]
    },
    {
      "cell_type": "code",
      "execution_count": null,
      "metadata": {
        "colab": {
          "base_uri": "https://localhost:8080/"
        },
        "id": "UXCTaSMPgoxH",
        "outputId": "ef436db7-2835-4811-804d-fd82ae9c6b59"
      },
      "outputs": [
        {
          "output_type": "execute_result",
          "data": {
            "text/plain": [
              "id                             0.00\n",
              "member_id                      0.00\n",
              "loan_amnt                      0.00\n",
              "funded_amnt                    0.00\n",
              "funded_amnt_inv                0.00\n",
              "term                           0.00\n",
              "int_rate                       0.00\n",
              "installment                    0.00\n",
              "grade                          0.00\n",
              "sub_grade                      0.00\n",
              "emp_title                      5.58\n",
              "emp_length                     2.52\n",
              "home_ownership                 0.00\n",
              "annual_inc                     0.00\n",
              "verification_status            0.00\n",
              "issue_d                        0.00\n",
              "loan_status                    0.00\n",
              "pymnt_plan                     0.00\n",
              "url                            0.00\n",
              "desc                          44.42\n",
              "purpose                        0.00\n",
              "title                          0.00\n",
              "zip_code                       0.00\n",
              "addr_state                     0.00\n",
              "dti                            0.00\n",
              "delinq_2yrs                    0.00\n",
              "earliest_cr_line               0.00\n",
              "inq_last_6mths                 0.00\n",
              "mths_since_last_delinq        71.64\n",
              "mths_since_last_record        97.85\n",
              "open_acc                       0.00\n",
              "pub_rec                        0.00\n",
              "revol_bal                      0.00\n",
              "revol_util                     0.00\n",
              "total_acc                      0.00\n",
              "initial_list_status            0.00\n",
              "out_prncp                      0.00\n",
              "out_prncp_inv                  0.00\n",
              "total_pymnt                    0.00\n",
              "total_pymnt_inv                0.00\n",
              "total_rec_prncp                0.00\n",
              "total_rec_int                  0.00\n",
              "total_rec_late_fee             0.00\n",
              "recoveries                     0.00\n",
              "collection_recovery_fee        0.00\n",
              "last_pymnt_d                   0.07\n",
              "last_pymnt_amnt                0.00\n",
              "next_pymnt_d                  91.97\n",
              "last_credit_pull_d             0.00\n",
              "collections_12_mths_ex_med     0.00\n",
              "policy_code                    0.00\n",
              "application_type               0.00\n",
              "acc_now_delinq                 0.00\n",
              "chargeoff_within_12_mths       0.04\n",
              "delinq_amnt                    0.04\n",
              "pub_rec_bankruptcies           0.04\n",
              "tax_liens                      0.04\n",
              "dtype: float64"
            ]
          },
          "metadata": {},
          "execution_count": 7
        }
      ],
      "source": [
        "dropped_na=imported_data.dropna(axis=1, how='all')\n",
        "round(100*dropped_na.isnull().mean(),2)\n"
      ]
    },
    {
      "cell_type": "markdown",
      "metadata": {
        "id": "db7TvTSKFe9g"
      },
      "source": [
        "**Analyze columns with hign number of NA and remove them**\n",
        "* We notice mths_since_last_record, next_pymnt_d has high nulls and can be safely removed.\n",
        "\n",
        "* mths_since_last_delinq is also on the higher side, but since that is a field with potential impact, keeping it for now."
      ]
    },
    {
      "cell_type": "code",
      "execution_count": null,
      "metadata": {
        "colab": {
          "base_uri": "https://localhost:8080/",
          "height": 342
        },
        "id": "7HEIQ0fyF_-8",
        "outputId": "8a7f6d8e-60d3-4a90-8441-a57786c7731c"
      },
      "outputs": [
        {
          "output_type": "execute_result",
          "data": {
            "text/plain": [
              "        id  member_id  loan_amnt  funded_amnt  funded_amnt_inv        term  \\\n",
              "0  1077501    1296599       5000         5000           4975.0   36 months   \n",
              "1  1077430    1314167       2500         2500           2500.0   60 months   \n",
              "2  1077175    1313524       2400         2400           2400.0   36 months   \n",
              "3  1076863    1277178      10000        10000          10000.0   36 months   \n",
              "4  1075358    1311748       3000         3000           3000.0   60 months   \n",
              "\n",
              "  int_rate  installment grade sub_grade  ... last_pymnt_amnt  \\\n",
              "0   10.65%       162.87     B        B2  ...          171.62   \n",
              "1   15.27%        59.83     C        C4  ...          119.66   \n",
              "2   15.96%        84.33     C        C5  ...          649.91   \n",
              "3   13.49%       339.31     C        C1  ...          357.48   \n",
              "4   12.69%        67.79     B        B5  ...           67.79   \n",
              "\n",
              "  last_credit_pull_d collections_12_mths_ex_med  policy_code application_type  \\\n",
              "0             May-16                          0            1       INDIVIDUAL   \n",
              "1             Sep-13                          0            1       INDIVIDUAL   \n",
              "2             May-16                          0            1       INDIVIDUAL   \n",
              "3             Apr-16                          0            1       INDIVIDUAL   \n",
              "4             May-16                          0            1       INDIVIDUAL   \n",
              "\n",
              "  acc_now_delinq chargeoff_within_12_mths delinq_amnt pub_rec_bankruptcies  \\\n",
              "0              0                      0.0         0.0                  0.0   \n",
              "1              0                      0.0         0.0                  0.0   \n",
              "2              0                      0.0         0.0                  0.0   \n",
              "3              0                      0.0         0.0                  0.0   \n",
              "4              0                      0.0         0.0                  0.0   \n",
              "\n",
              "  tax_liens  \n",
              "0       0.0  \n",
              "1       0.0  \n",
              "2       0.0  \n",
              "3       0.0  \n",
              "4       0.0  \n",
              "\n",
              "[5 rows x 55 columns]"
            ],
            "text/html": [
              "\n",
              "  <div id=\"df-3e424485-50c1-46c8-bf8f-957c56038c25\" class=\"colab-df-container\">\n",
              "    <div>\n",
              "<style scoped>\n",
              "    .dataframe tbody tr th:only-of-type {\n",
              "        vertical-align: middle;\n",
              "    }\n",
              "\n",
              "    .dataframe tbody tr th {\n",
              "        vertical-align: top;\n",
              "    }\n",
              "\n",
              "    .dataframe thead th {\n",
              "        text-align: right;\n",
              "    }\n",
              "</style>\n",
              "<table border=\"1\" class=\"dataframe\">\n",
              "  <thead>\n",
              "    <tr style=\"text-align: right;\">\n",
              "      <th></th>\n",
              "      <th>id</th>\n",
              "      <th>member_id</th>\n",
              "      <th>loan_amnt</th>\n",
              "      <th>funded_amnt</th>\n",
              "      <th>funded_amnt_inv</th>\n",
              "      <th>term</th>\n",
              "      <th>int_rate</th>\n",
              "      <th>installment</th>\n",
              "      <th>grade</th>\n",
              "      <th>sub_grade</th>\n",
              "      <th>...</th>\n",
              "      <th>last_pymnt_amnt</th>\n",
              "      <th>last_credit_pull_d</th>\n",
              "      <th>collections_12_mths_ex_med</th>\n",
              "      <th>policy_code</th>\n",
              "      <th>application_type</th>\n",
              "      <th>acc_now_delinq</th>\n",
              "      <th>chargeoff_within_12_mths</th>\n",
              "      <th>delinq_amnt</th>\n",
              "      <th>pub_rec_bankruptcies</th>\n",
              "      <th>tax_liens</th>\n",
              "    </tr>\n",
              "  </thead>\n",
              "  <tbody>\n",
              "    <tr>\n",
              "      <th>0</th>\n",
              "      <td>1077501</td>\n",
              "      <td>1296599</td>\n",
              "      <td>5000</td>\n",
              "      <td>5000</td>\n",
              "      <td>4975.0</td>\n",
              "      <td>36 months</td>\n",
              "      <td>10.65%</td>\n",
              "      <td>162.87</td>\n",
              "      <td>B</td>\n",
              "      <td>B2</td>\n",
              "      <td>...</td>\n",
              "      <td>171.62</td>\n",
              "      <td>May-16</td>\n",
              "      <td>0</td>\n",
              "      <td>1</td>\n",
              "      <td>INDIVIDUAL</td>\n",
              "      <td>0</td>\n",
              "      <td>0.0</td>\n",
              "      <td>0.0</td>\n",
              "      <td>0.0</td>\n",
              "      <td>0.0</td>\n",
              "    </tr>\n",
              "    <tr>\n",
              "      <th>1</th>\n",
              "      <td>1077430</td>\n",
              "      <td>1314167</td>\n",
              "      <td>2500</td>\n",
              "      <td>2500</td>\n",
              "      <td>2500.0</td>\n",
              "      <td>60 months</td>\n",
              "      <td>15.27%</td>\n",
              "      <td>59.83</td>\n",
              "      <td>C</td>\n",
              "      <td>C4</td>\n",
              "      <td>...</td>\n",
              "      <td>119.66</td>\n",
              "      <td>Sep-13</td>\n",
              "      <td>0</td>\n",
              "      <td>1</td>\n",
              "      <td>INDIVIDUAL</td>\n",
              "      <td>0</td>\n",
              "      <td>0.0</td>\n",
              "      <td>0.0</td>\n",
              "      <td>0.0</td>\n",
              "      <td>0.0</td>\n",
              "    </tr>\n",
              "    <tr>\n",
              "      <th>2</th>\n",
              "      <td>1077175</td>\n",
              "      <td>1313524</td>\n",
              "      <td>2400</td>\n",
              "      <td>2400</td>\n",
              "      <td>2400.0</td>\n",
              "      <td>36 months</td>\n",
              "      <td>15.96%</td>\n",
              "      <td>84.33</td>\n",
              "      <td>C</td>\n",
              "      <td>C5</td>\n",
              "      <td>...</td>\n",
              "      <td>649.91</td>\n",
              "      <td>May-16</td>\n",
              "      <td>0</td>\n",
              "      <td>1</td>\n",
              "      <td>INDIVIDUAL</td>\n",
              "      <td>0</td>\n",
              "      <td>0.0</td>\n",
              "      <td>0.0</td>\n",
              "      <td>0.0</td>\n",
              "      <td>0.0</td>\n",
              "    </tr>\n",
              "    <tr>\n",
              "      <th>3</th>\n",
              "      <td>1076863</td>\n",
              "      <td>1277178</td>\n",
              "      <td>10000</td>\n",
              "      <td>10000</td>\n",
              "      <td>10000.0</td>\n",
              "      <td>36 months</td>\n",
              "      <td>13.49%</td>\n",
              "      <td>339.31</td>\n",
              "      <td>C</td>\n",
              "      <td>C1</td>\n",
              "      <td>...</td>\n",
              "      <td>357.48</td>\n",
              "      <td>Apr-16</td>\n",
              "      <td>0</td>\n",
              "      <td>1</td>\n",
              "      <td>INDIVIDUAL</td>\n",
              "      <td>0</td>\n",
              "      <td>0.0</td>\n",
              "      <td>0.0</td>\n",
              "      <td>0.0</td>\n",
              "      <td>0.0</td>\n",
              "    </tr>\n",
              "    <tr>\n",
              "      <th>4</th>\n",
              "      <td>1075358</td>\n",
              "      <td>1311748</td>\n",
              "      <td>3000</td>\n",
              "      <td>3000</td>\n",
              "      <td>3000.0</td>\n",
              "      <td>60 months</td>\n",
              "      <td>12.69%</td>\n",
              "      <td>67.79</td>\n",
              "      <td>B</td>\n",
              "      <td>B5</td>\n",
              "      <td>...</td>\n",
              "      <td>67.79</td>\n",
              "      <td>May-16</td>\n",
              "      <td>0</td>\n",
              "      <td>1</td>\n",
              "      <td>INDIVIDUAL</td>\n",
              "      <td>0</td>\n",
              "      <td>0.0</td>\n",
              "      <td>0.0</td>\n",
              "      <td>0.0</td>\n",
              "      <td>0.0</td>\n",
              "    </tr>\n",
              "  </tbody>\n",
              "</table>\n",
              "<p>5 rows × 55 columns</p>\n",
              "</div>\n",
              "    <div class=\"colab-df-buttons\">\n",
              "\n",
              "  <div class=\"colab-df-container\">\n",
              "    <button class=\"colab-df-convert\" onclick=\"convertToInteractive('df-3e424485-50c1-46c8-bf8f-957c56038c25')\"\n",
              "            title=\"Convert this dataframe to an interactive table.\"\n",
              "            style=\"display:none;\">\n",
              "\n",
              "  <svg xmlns=\"http://www.w3.org/2000/svg\" height=\"24px\" viewBox=\"0 -960 960 960\">\n",
              "    <path d=\"M120-120v-720h720v720H120Zm60-500h600v-160H180v160Zm220 220h160v-160H400v160Zm0 220h160v-160H400v160ZM180-400h160v-160H180v160Zm440 0h160v-160H620v160ZM180-180h160v-160H180v160Zm440 0h160v-160H620v160Z\"/>\n",
              "  </svg>\n",
              "    </button>\n",
              "\n",
              "  <style>\n",
              "    .colab-df-container {\n",
              "      display:flex;\n",
              "      gap: 12px;\n",
              "    }\n",
              "\n",
              "    .colab-df-convert {\n",
              "      background-color: #E8F0FE;\n",
              "      border: none;\n",
              "      border-radius: 50%;\n",
              "      cursor: pointer;\n",
              "      display: none;\n",
              "      fill: #1967D2;\n",
              "      height: 32px;\n",
              "      padding: 0 0 0 0;\n",
              "      width: 32px;\n",
              "    }\n",
              "\n",
              "    .colab-df-convert:hover {\n",
              "      background-color: #E2EBFA;\n",
              "      box-shadow: 0px 1px 2px rgba(60, 64, 67, 0.3), 0px 1px 3px 1px rgba(60, 64, 67, 0.15);\n",
              "      fill: #174EA6;\n",
              "    }\n",
              "\n",
              "    .colab-df-buttons div {\n",
              "      margin-bottom: 4px;\n",
              "    }\n",
              "\n",
              "    [theme=dark] .colab-df-convert {\n",
              "      background-color: #3B4455;\n",
              "      fill: #D2E3FC;\n",
              "    }\n",
              "\n",
              "    [theme=dark] .colab-df-convert:hover {\n",
              "      background-color: #434B5C;\n",
              "      box-shadow: 0px 1px 3px 1px rgba(0, 0, 0, 0.15);\n",
              "      filter: drop-shadow(0px 1px 2px rgba(0, 0, 0, 0.3));\n",
              "      fill: #FFFFFF;\n",
              "    }\n",
              "  </style>\n",
              "\n",
              "    <script>\n",
              "      const buttonEl =\n",
              "        document.querySelector('#df-3e424485-50c1-46c8-bf8f-957c56038c25 button.colab-df-convert');\n",
              "      buttonEl.style.display =\n",
              "        google.colab.kernel.accessAllowed ? 'block' : 'none';\n",
              "\n",
              "      async function convertToInteractive(key) {\n",
              "        const element = document.querySelector('#df-3e424485-50c1-46c8-bf8f-957c56038c25');\n",
              "        const dataTable =\n",
              "          await google.colab.kernel.invokeFunction('convertToInteractive',\n",
              "                                                    [key], {});\n",
              "        if (!dataTable) return;\n",
              "\n",
              "        const docLinkHtml = 'Like what you see? Visit the ' +\n",
              "          '<a target=\"_blank\" href=https://colab.research.google.com/notebooks/data_table.ipynb>data table notebook</a>'\n",
              "          + ' to learn more about interactive tables.';\n",
              "        element.innerHTML = '';\n",
              "        dataTable['output_type'] = 'display_data';\n",
              "        await google.colab.output.renderOutput(dataTable, element);\n",
              "        const docLink = document.createElement('div');\n",
              "        docLink.innerHTML = docLinkHtml;\n",
              "        element.appendChild(docLink);\n",
              "      }\n",
              "    </script>\n",
              "  </div>\n",
              "\n",
              "\n",
              "<div id=\"df-70df2f6b-0592-4201-a6c4-c8ed02a5729e\">\n",
              "  <button class=\"colab-df-quickchart\" onclick=\"quickchart('df-70df2f6b-0592-4201-a6c4-c8ed02a5729e')\"\n",
              "            title=\"Suggest charts\"\n",
              "            style=\"display:none;\">\n",
              "\n",
              "<svg xmlns=\"http://www.w3.org/2000/svg\" height=\"24px\"viewBox=\"0 0 24 24\"\n",
              "     width=\"24px\">\n",
              "    <g>\n",
              "        <path d=\"M19 3H5c-1.1 0-2 .9-2 2v14c0 1.1.9 2 2 2h14c1.1 0 2-.9 2-2V5c0-1.1-.9-2-2-2zM9 17H7v-7h2v7zm4 0h-2V7h2v10zm4 0h-2v-4h2v4z\"/>\n",
              "    </g>\n",
              "</svg>\n",
              "  </button>\n",
              "\n",
              "<style>\n",
              "  .colab-df-quickchart {\n",
              "      --bg-color: #E8F0FE;\n",
              "      --fill-color: #1967D2;\n",
              "      --hover-bg-color: #E2EBFA;\n",
              "      --hover-fill-color: #174EA6;\n",
              "      --disabled-fill-color: #AAA;\n",
              "      --disabled-bg-color: #DDD;\n",
              "  }\n",
              "\n",
              "  [theme=dark] .colab-df-quickchart {\n",
              "      --bg-color: #3B4455;\n",
              "      --fill-color: #D2E3FC;\n",
              "      --hover-bg-color: #434B5C;\n",
              "      --hover-fill-color: #FFFFFF;\n",
              "      --disabled-bg-color: #3B4455;\n",
              "      --disabled-fill-color: #666;\n",
              "  }\n",
              "\n",
              "  .colab-df-quickchart {\n",
              "    background-color: var(--bg-color);\n",
              "    border: none;\n",
              "    border-radius: 50%;\n",
              "    cursor: pointer;\n",
              "    display: none;\n",
              "    fill: var(--fill-color);\n",
              "    height: 32px;\n",
              "    padding: 0;\n",
              "    width: 32px;\n",
              "  }\n",
              "\n",
              "  .colab-df-quickchart:hover {\n",
              "    background-color: var(--hover-bg-color);\n",
              "    box-shadow: 0 1px 2px rgba(60, 64, 67, 0.3), 0 1px 3px 1px rgba(60, 64, 67, 0.15);\n",
              "    fill: var(--button-hover-fill-color);\n",
              "  }\n",
              "\n",
              "  .colab-df-quickchart-complete:disabled,\n",
              "  .colab-df-quickchart-complete:disabled:hover {\n",
              "    background-color: var(--disabled-bg-color);\n",
              "    fill: var(--disabled-fill-color);\n",
              "    box-shadow: none;\n",
              "  }\n",
              "\n",
              "  .colab-df-spinner {\n",
              "    border: 2px solid var(--fill-color);\n",
              "    border-color: transparent;\n",
              "    border-bottom-color: var(--fill-color);\n",
              "    animation:\n",
              "      spin 1s steps(1) infinite;\n",
              "  }\n",
              "\n",
              "  @keyframes spin {\n",
              "    0% {\n",
              "      border-color: transparent;\n",
              "      border-bottom-color: var(--fill-color);\n",
              "      border-left-color: var(--fill-color);\n",
              "    }\n",
              "    20% {\n",
              "      border-color: transparent;\n",
              "      border-left-color: var(--fill-color);\n",
              "      border-top-color: var(--fill-color);\n",
              "    }\n",
              "    30% {\n",
              "      border-color: transparent;\n",
              "      border-left-color: var(--fill-color);\n",
              "      border-top-color: var(--fill-color);\n",
              "      border-right-color: var(--fill-color);\n",
              "    }\n",
              "    40% {\n",
              "      border-color: transparent;\n",
              "      border-right-color: var(--fill-color);\n",
              "      border-top-color: var(--fill-color);\n",
              "    }\n",
              "    60% {\n",
              "      border-color: transparent;\n",
              "      border-right-color: var(--fill-color);\n",
              "    }\n",
              "    80% {\n",
              "      border-color: transparent;\n",
              "      border-right-color: var(--fill-color);\n",
              "      border-bottom-color: var(--fill-color);\n",
              "    }\n",
              "    90% {\n",
              "      border-color: transparent;\n",
              "      border-bottom-color: var(--fill-color);\n",
              "    }\n",
              "  }\n",
              "</style>\n",
              "\n",
              "  <script>\n",
              "    async function quickchart(key) {\n",
              "      const quickchartButtonEl =\n",
              "        document.querySelector('#' + key + ' button');\n",
              "      quickchartButtonEl.disabled = true;  // To prevent multiple clicks.\n",
              "      quickchartButtonEl.classList.add('colab-df-spinner');\n",
              "      try {\n",
              "        const charts = await google.colab.kernel.invokeFunction(\n",
              "            'suggestCharts', [key], {});\n",
              "      } catch (error) {\n",
              "        console.error('Error during call to suggestCharts:', error);\n",
              "      }\n",
              "      quickchartButtonEl.classList.remove('colab-df-spinner');\n",
              "      quickchartButtonEl.classList.add('colab-df-quickchart-complete');\n",
              "    }\n",
              "    (() => {\n",
              "      let quickchartButtonEl =\n",
              "        document.querySelector('#df-70df2f6b-0592-4201-a6c4-c8ed02a5729e button');\n",
              "      quickchartButtonEl.style.display =\n",
              "        google.colab.kernel.accessAllowed ? 'block' : 'none';\n",
              "    })();\n",
              "  </script>\n",
              "</div>\n",
              "\n",
              "    </div>\n",
              "  </div>\n"
            ],
            "application/vnd.google.colaboratory.intrinsic+json": {
              "type": "dataframe",
              "variable_name": "filtered"
            }
          },
          "metadata": {},
          "execution_count": 8
        }
      ],
      "source": [
        "filtered = dropped_na.drop(['mths_since_last_record', 'next_pymnt_d'], axis=1)\n",
        "filtered.head()\n",
        "\n"
      ]
    },
    {
      "cell_type": "markdown",
      "metadata": {
        "id": "BsNqLe32Mjdi"
      },
      "source": []
    },
    {
      "cell_type": "markdown",
      "metadata": {
        "id": "je-hVRUmZgJV"
      },
      "source": [
        "*   There are several columns which are single valued\n",
        "\n",
        "\n"
      ]
    },
    {
      "cell_type": "code",
      "execution_count": null,
      "metadata": {
        "colab": {
          "base_uri": "https://localhost:8080/"
        },
        "id": "GqQ1x8mGMjKR",
        "outputId": "444793ab-bc8b-4375-af10-75db992128c4"
      },
      "outputs": [
        {
          "output_type": "stream",
          "name": "stdout",
          "text": [
            "<class 'pandas.core.frame.DataFrame'>\n",
            "RangeIndex: 2740 entries, 0 to 2739\n",
            "Data columns (total 55 columns):\n",
            " #   Column                      Non-Null Count  Dtype  \n",
            "---  ------                      --------------  -----  \n",
            " 0   id                          2740 non-null   int64  \n",
            " 1   member_id                   2740 non-null   int64  \n",
            " 2   loan_amnt                   2740 non-null   int64  \n",
            " 3   funded_amnt                 2740 non-null   int64  \n",
            " 4   funded_amnt_inv             2740 non-null   float64\n",
            " 5   term                        2740 non-null   object \n",
            " 6   int_rate                    2740 non-null   object \n",
            " 7   installment                 2740 non-null   float64\n",
            " 8   grade                       2740 non-null   object \n",
            " 9   sub_grade                   2740 non-null   object \n",
            " 10  emp_title                   2587 non-null   object \n",
            " 11  emp_length                  2671 non-null   object \n",
            " 12  home_ownership              2740 non-null   object \n",
            " 13  annual_inc                  2740 non-null   float64\n",
            " 14  verification_status         2740 non-null   object \n",
            " 15  issue_d                     2740 non-null   object \n",
            " 16  loan_status                 2740 non-null   object \n",
            " 17  pymnt_plan                  2740 non-null   object \n",
            " 18  url                         2740 non-null   object \n",
            " 19  desc                        1523 non-null   object \n",
            " 20  purpose                     2740 non-null   object \n",
            " 21  title                       2740 non-null   object \n",
            " 22  zip_code                    2740 non-null   object \n",
            " 23  addr_state                  2740 non-null   object \n",
            " 24  dti                         2740 non-null   float64\n",
            " 25  delinq_2yrs                 2740 non-null   int64  \n",
            " 26  earliest_cr_line            2740 non-null   object \n",
            " 27  inq_last_6mths              2740 non-null   int64  \n",
            " 28  mths_since_last_delinq      777 non-null    float64\n",
            " 29  open_acc                    2740 non-null   int64  \n",
            " 30  pub_rec                     2740 non-null   int64  \n",
            " 31  revol_bal                   2740 non-null   int64  \n",
            " 32  revol_util                  2740 non-null   object \n",
            " 33  total_acc                   2740 non-null   int64  \n",
            " 34  initial_list_status         2740 non-null   object \n",
            " 35  out_prncp                   2740 non-null   float64\n",
            " 36  out_prncp_inv               2740 non-null   float64\n",
            " 37  total_pymnt                 2740 non-null   float64\n",
            " 38  total_pymnt_inv             2740 non-null   float64\n",
            " 39  total_rec_prncp             2740 non-null   float64\n",
            " 40  total_rec_int               2740 non-null   float64\n",
            " 41  total_rec_late_fee          2740 non-null   float64\n",
            " 42  recoveries                  2740 non-null   float64\n",
            " 43  collection_recovery_fee     2740 non-null   float64\n",
            " 44  last_pymnt_d                2738 non-null   object \n",
            " 45  last_pymnt_amnt             2740 non-null   float64\n",
            " 46  last_credit_pull_d          2740 non-null   object \n",
            " 47  collections_12_mths_ex_med  2740 non-null   int64  \n",
            " 48  policy_code                 2740 non-null   int64  \n",
            " 49  application_type            2740 non-null   object \n",
            " 50  acc_now_delinq              2740 non-null   int64  \n",
            " 51  chargeoff_within_12_mths    2739 non-null   float64\n",
            " 52  delinq_amnt                 2739 non-null   float64\n",
            " 53  pub_rec_bankruptcies        2739 non-null   float64\n",
            " 54  tax_liens                   2739 non-null   float64\n",
            "dtypes: float64(19), int64(13), object(23)\n",
            "memory usage: 1.1+ MB\n"
          ]
        }
      ],
      "source": [
        "filtered.info()"
      ]
    },
    {
      "cell_type": "markdown",
      "metadata": {
        "id": "Kt9F65oIZCte"
      },
      "source": [
        "* We notice some numeric columns are objects like term, int_rate. So, check what is causing that."
      ]
    },
    {
      "cell_type": "code",
      "execution_count": null,
      "metadata": {
        "colab": {
          "base_uri": "https://localhost:8080/"
        },
        "id": "XalCOr68B4qE",
        "outputId": "2501619c-c65b-4fe3-aeda-4c6a4812523b"
      },
      "outputs": [
        {
          "output_type": "execute_result",
          "data": {
            "text/plain": [
              "array([' 36 months', ' 60 months'], dtype=object)"
            ]
          },
          "metadata": {},
          "execution_count": 10
        }
      ],
      "source": [
        "filtered.term.unique()"
      ]
    },
    {
      "cell_type": "markdown",
      "metadata": {
        "id": "buaXEVI7DNKT"
      },
      "source": [
        "* Since the data contains only 2 values 36 months and 60 months we can leave it as is, instead of converting them to numeric values."
      ]
    },
    {
      "cell_type": "code",
      "execution_count": null,
      "metadata": {
        "colab": {
          "base_uri": "https://localhost:8080/"
        },
        "id": "PL7Cqvr4DY5z",
        "outputId": "d1c81539-49ca-419a-b821-19aad666f8d1"
      },
      "outputs": [
        {
          "output_type": "execute_result",
          "data": {
            "text/plain": [
              "array(['10.65%', '15.27%', '15.96%', '13.49%', '12.69%', '7.90%',\n",
              "       '18.64%', '21.28%', '14.65%', '9.91%', '16.29%', '6.03%', '11.71%',\n",
              "       '12.42%', '14.27%', '16.77%', '7.51%', '8.90%', '18.25%', '6.62%',\n",
              "       '19.91%', '17.27%', '17.58%', '21.67%', '19.42%', '22.06%',\n",
              "       '20.89%', '20.30%', '23.91%', '19.03%', '23.52%', '23.13%',\n",
              "       '22.74%', '22.35%', '24.11%', '6.00%'], dtype=object)"
            ]
          },
          "metadata": {},
          "execution_count": 11
        }
      ],
      "source": [
        "filtered.int_rate.unique()"
      ]
    },
    {
      "cell_type": "markdown",
      "metadata": {
        "id": "Y0cZUZTmDrwP"
      },
      "source": [
        "Since the rate contains % we can convert this to numeric if we strip the percentage."
      ]
    },
    {
      "cell_type": "markdown",
      "metadata": {
        "id": "Gw_uXmpzESND"
      },
      "source": [
        "* This shows the rates vary from about 6 all the way upto 24 in some instances.\n",
        "\n",
        "Let us check the variance of the columns, remove outliers or columns with same values."
      ]
    },
    {
      "cell_type": "code",
      "execution_count": null,
      "metadata": {
        "colab": {
          "base_uri": "https://localhost:8080/"
        },
        "id": "CUs0NoWPEiD4",
        "outputId": "5de9f5ae-b42f-4fb5-d049-f61e878ee8d2"
      },
      "outputs": [
        {
          "output_type": "execute_result",
          "data": {
            "text/plain": [
              "tax_liens                     0.000000e+00\n",
              "delinq_amnt                   0.000000e+00\n",
              "chargeoff_within_12_mths      0.000000e+00\n",
              "acc_now_delinq                0.000000e+00\n",
              "policy_code                   0.000000e+00\n",
              "collections_12_mths_ex_med    0.000000e+00\n",
              "pub_rec_bankruptcies          1.722382e-02\n",
              "pub_rec                       2.107688e-02\n",
              "delinq_2yrs                   1.557469e-01\n",
              "inq_last_6mths                9.642024e-01\n",
              "open_acc                      1.472742e+01\n",
              "dti                           3.978957e+01\n",
              "total_rec_late_fee            4.709606e+01\n",
              "total_acc                     1.023793e+02\n",
              "mths_since_last_delinq        4.672036e+02\n",
              "collection_recovery_fee       1.655317e+04\n",
              "installment                   4.483130e+04\n",
              "out_prncp_inv                 7.190630e+05\n",
              "out_prncp                     7.209032e+05\n",
              "recoveries                    8.298303e+05\n",
              "total_rec_int                 1.036879e+07\n",
              "last_pymnt_amnt               2.630267e+07\n",
              "total_rec_prncp               5.480001e+07\n",
              "funded_amnt_inv               5.722218e+07\n",
              "funded_amnt                   5.763292e+07\n",
              "loan_amnt                     6.169880e+07\n",
              "total_pymnt_inv               9.303635e+07\n",
              "total_pymnt                   9.420535e+07\n",
              "revol_bal                     1.218750e+08\n",
              "id                            4.205614e+08\n",
              "member_id                     5.755386e+08\n",
              "annual_inc                    1.422484e+09\n",
              "dtype: float64"
            ]
          },
          "metadata": {},
          "execution_count": 12
        }
      ],
      "source": [
        "filtered.var().sort_values()"
      ]
    },
    {
      "cell_type": "markdown",
      "metadata": {
        "id": "j6YspAhnF93A"
      },
      "source": [
        "There are some columns with 0 variance they can be safely removed."
      ]
    },
    {
      "cell_type": "code",
      "execution_count": null,
      "metadata": {
        "id": "JEprLlGTGDJ-"
      },
      "outputs": [],
      "source": [
        "filtered = filtered.drop(['delinq_amnt', 'tax_liens', 'chargeoff_within_12_mths', 'acc_now_delinq', 'policy_code', 'collections_12_mths_ex_med'], axis=1)\n"
      ]
    },
    {
      "cell_type": "code",
      "execution_count": null,
      "metadata": {
        "colab": {
          "base_uri": "https://localhost:8080/"
        },
        "id": "y1re1o1hDiKy",
        "outputId": "69982b8d-524d-41b5-a117-e3836d3a18fe"
      },
      "outputs": [
        {
          "output_type": "execute_result",
          "data": {
            "text/plain": [
              "array([10.65, 15.27, 15.96, 13.49, 12.69,  7.9 , 18.64, 21.28, 14.65,\n",
              "        9.91, 16.29,  6.03, 11.71, 12.42, 14.27, 16.77,  7.51,  8.9 ,\n",
              "       18.25,  6.62, 19.91, 17.27, 17.58, 21.67, 19.42, 22.06, 20.89,\n",
              "       20.3 , 23.91, 19.03, 23.52, 23.13, 22.74, 22.35, 24.11,  6.  ])"
            ]
          },
          "metadata": {},
          "execution_count": 14
        }
      ],
      "source": [
        "filtered['int_rate']=filtered.int_rate.apply(lambda x: float(str(x).replace(\"%\", \"\")))\n",
        "filtered.int_rate.unique()"
      ]
    },
    {
      "cell_type": "code",
      "source": [
        "#converting issue_d`to date type\n",
        "filtered['issue_d'] = pd.to_datetime(filtered.issue_d, format='%b-%y')\n",
        "filtered['issue_d']"
      ],
      "metadata": {
        "colab": {
          "base_uri": "https://localhost:8080/"
        },
        "id": "9OQuehmmWrI5",
        "outputId": "0e82a604-b7a8-4341-f44f-de8f5ac0d358"
      },
      "execution_count": null,
      "outputs": [
        {
          "output_type": "execute_result",
          "data": {
            "text/plain": [
              "0      2011-12-01\n",
              "1      2011-12-01\n",
              "2      2011-12-01\n",
              "3      2011-12-01\n",
              "4      2011-12-01\n",
              "          ...    \n",
              "2735   2011-12-01\n",
              "2736   2011-11-01\n",
              "2737   2011-12-01\n",
              "2738   2011-11-01\n",
              "2739   2011-12-01\n",
              "Name: issue_d, Length: 2740, dtype: datetime64[ns]"
            ]
          },
          "metadata": {},
          "execution_count": 15
        }
      ]
    },
    {
      "cell_type": "markdown",
      "metadata": {
        "id": "87tSnHuJIuaR"
      },
      "source": [
        "Next up, while analysing the loan_status we see there are some loans with status as current. We might not need those rows as we do not have the signal of any default."
      ]
    },
    {
      "cell_type": "code",
      "execution_count": null,
      "metadata": {
        "colab": {
          "base_uri": "https://localhost:8080/"
        },
        "id": "o0mbMqa3Iv5j",
        "outputId": "fdcb6804-0ce8-4fdb-f0e8-e43f6b9dc229"
      },
      "outputs": [
        {
          "output_type": "stream",
          "name": "stdout",
          "text": [
            "<class 'pandas.core.frame.DataFrame'>\n",
            "Int64Index: 2520 entries, 0 to 2738\n",
            "Data columns (total 49 columns):\n",
            " #   Column                   Non-Null Count  Dtype         \n",
            "---  ------                   --------------  -----         \n",
            " 0   id                       2520 non-null   int64         \n",
            " 1   member_id                2520 non-null   int64         \n",
            " 2   loan_amnt                2520 non-null   int64         \n",
            " 3   funded_amnt              2520 non-null   int64         \n",
            " 4   funded_amnt_inv          2520 non-null   float64       \n",
            " 5   term                     2520 non-null   object        \n",
            " 6   int_rate                 2520 non-null   float64       \n",
            " 7   installment              2520 non-null   float64       \n",
            " 8   grade                    2520 non-null   object        \n",
            " 9   sub_grade                2520 non-null   object        \n",
            " 10  emp_title                2378 non-null   object        \n",
            " 11  emp_length               2458 non-null   object        \n",
            " 12  home_ownership           2520 non-null   object        \n",
            " 13  annual_inc               2520 non-null   float64       \n",
            " 14  verification_status      2520 non-null   object        \n",
            " 15  issue_d                  2520 non-null   datetime64[ns]\n",
            " 16  loan_status              2520 non-null   object        \n",
            " 17  pymnt_plan               2520 non-null   object        \n",
            " 18  url                      2520 non-null   object        \n",
            " 19  desc                     1379 non-null   object        \n",
            " 20  purpose                  2520 non-null   object        \n",
            " 21  title                    2520 non-null   object        \n",
            " 22  zip_code                 2520 non-null   object        \n",
            " 23  addr_state               2520 non-null   object        \n",
            " 24  dti                      2520 non-null   float64       \n",
            " 25  delinq_2yrs              2520 non-null   int64         \n",
            " 26  earliest_cr_line         2520 non-null   object        \n",
            " 27  inq_last_6mths           2520 non-null   int64         \n",
            " 28  mths_since_last_delinq   720 non-null    float64       \n",
            " 29  open_acc                 2520 non-null   int64         \n",
            " 30  pub_rec                  2520 non-null   int64         \n",
            " 31  revol_bal                2520 non-null   int64         \n",
            " 32  revol_util               2520 non-null   object        \n",
            " 33  total_acc                2520 non-null   int64         \n",
            " 34  initial_list_status      2520 non-null   object        \n",
            " 35  out_prncp                2520 non-null   float64       \n",
            " 36  out_prncp_inv            2520 non-null   float64       \n",
            " 37  total_pymnt              2520 non-null   float64       \n",
            " 38  total_pymnt_inv          2520 non-null   float64       \n",
            " 39  total_rec_prncp          2520 non-null   float64       \n",
            " 40  total_rec_int            2520 non-null   float64       \n",
            " 41  total_rec_late_fee       2520 non-null   float64       \n",
            " 42  recoveries               2520 non-null   float64       \n",
            " 43  collection_recovery_fee  2520 non-null   float64       \n",
            " 44  last_pymnt_d             2518 non-null   object        \n",
            " 45  last_pymnt_amnt          2520 non-null   float64       \n",
            " 46  last_credit_pull_d       2520 non-null   object        \n",
            " 47  application_type         2520 non-null   object        \n",
            " 48  pub_rec_bankruptcies     2520 non-null   float64       \n",
            "dtypes: datetime64[ns](1), float64(17), int64(10), object(21)\n",
            "memory usage: 984.4+ KB\n"
          ]
        }
      ],
      "source": [
        "filtered = filtered[filtered.loan_status.str.lower() != 'current']\n",
        "filtered.info()"
      ]
    },
    {
      "cell_type": "markdown",
      "source": [
        "#Derived Columns"
      ],
      "metadata": {
        "id": "HmWkUASaVvVm"
      }
    },
    {
      "cell_type": "code",
      "source": [
        "# Creating a dervied columns for issue month and issue year from issues date\n",
        "filtered['issue_year']=pd.DatetimeIndex(filtered['issue_d']).year\n",
        "filtered['issue_month']=pd.DatetimeIndex(filtered['issue_d']).month"
      ],
      "metadata": {
        "id": "nBjII5UxV0hT"
      },
      "execution_count": null,
      "outputs": []
    },
    {
      "cell_type": "code",
      "execution_count": null,
      "metadata": {
        "colab": {
          "base_uri": "https://localhost:8080/"
        },
        "id": "mIwnIvPRIJIu",
        "outputId": "9b05ddb7-0414-4f46-d098-b04af3eb7e72"
      },
      "outputs": [
        {
          "output_type": "execute_result",
          "data": {
            "text/plain": [
              "array(['Fully Paid', 'Charged Off'], dtype=object)"
            ]
          },
          "metadata": {},
          "execution_count": 18
        }
      ],
      "source": [
        "filtered.loan_status.unique()"
      ]
    },
    {
      "cell_type": "markdown",
      "metadata": {
        "id": "pXb7sBV6HvrX"
      },
      "source": [
        "**Analysis**\n",
        "\n",
        "* Since the assignment is about, understanding how likely it is for a person to default, we can skip univariate analysis and focus on bi-variate analysis.\n",
        "\n",
        "* For further analysis, lets split the data into two sets. ChargedOff and Fullypaid."
      ]
    },
    {
      "cell_type": "code",
      "execution_count": null,
      "metadata": {
        "id": "s5NvYOUCKKO8"
      },
      "outputs": [],
      "source": [
        "chargedOff=filtered[filtered.loan_status == 'Charged Off']\n",
        "fullyPaid=filtered[filtered.loan_status == 'Fully Paid']"
      ]
    },
    {
      "cell_type": "markdown",
      "metadata": {
        "id": "YvOeqQ44LxBE"
      },
      "source": [
        "Let's analyze the interest rates of Defaulters vs Non Defaulters"
      ]
    },
    {
      "cell_type": "markdown",
      "metadata": {
        "id": "aHoaGM3NX6ra"
      },
      "source": [
        "## Visualizing Categorical Data\n",
        "Univariate Analysis"
      ]
    },
    {
      "cell_type": "code",
      "execution_count": null,
      "metadata": {
        "colab": {
          "base_uri": "https://localhost:8080/",
          "height": 508
        },
        "id": "HBTfh0wYYX4U",
        "outputId": "2eabe0aa-995e-4d32-95ea-58718636361a"
      },
      "outputs": [
        {
          "output_type": "stream",
          "name": "stdout",
          "text": [
            "Fully Paid     81.388889\n",
            "Charged Off    18.611111\n",
            "Name: loan_status, dtype: float64\n"
          ]
        },
        {
          "output_type": "execute_result",
          "data": {
            "text/plain": [
              "Text(0.75, 0.1, 'Charged Off')"
            ]
          },
          "metadata": {},
          "execution_count": 20
        },
        {
          "output_type": "display_data",
          "data": {
            "text/plain": [
              "<Figure size 1000x500 with 1 Axes>"
            ],
            "image/png": "[encoded data removed]"
          },
          "metadata": {}
        }
      ],
      "source": [
        "#sns.countplot(x = 'loan_status', data = filtered)\n",
        "# Loan status\n",
        "print(filtered.loan_status.value_counts()*100/filtered.loan_status.count())\n",
        "# 0=Fully Paid, 1=Charged Off\n",
        "plt.figure(figsize=(10,5))\n",
        "ax=sns.countplot(x=filtered.loan_status)\n",
        "ax.annotate('Fully Paid',xy=(0.25,0.3),xycoords='axes fraction',horizontalalignment='center',verticalalignment='center',fontsize=12)\n",
        "ax.annotate('Charged Off',xy=(0.75,0.1),xycoords='axes fraction',horizontalalignment='center',verticalalignment='center',fontsize=12)\n"
      ]
    },
    {
      "cell_type": "code",
      "execution_count": null,
      "metadata": {
        "colab": {
          "base_uri": "https://localhost:8080/",
          "height": 523
        },
        "id": "NP-66BY_yzKF",
        "outputId": "fd290514-df90-4ff5-cde9-a335b71499a7"
      },
      "outputs": [
        {
          "output_type": "stream",
          "name": "stdout",
          "text": [
            "count     2520.000000\n",
            "mean     12634.791667\n",
            "std       7681.189556\n",
            "min       1000.000000\n",
            "25%       7000.000000\n",
            "50%      11000.000000\n",
            "75%      17000.000000\n",
            "max      35000.000000\n",
            "Name: loan_amnt, dtype: float64\n"
          ]
        },
        {
          "output_type": "display_data",
          "data": {
            "text/html": [
              "<html>\n",
              "<head><meta charset=\"utf-8\" /></head>\n",
              "<body>\n",
              "    <div>            <script src=\"https://cdnjs.cloudflare.com/ajax/libs/mathjax/2.7.5/MathJax.js?config=TeX-AMS-MML_SVG\"></script><script type=\"text/javascript\">if (window.MathJax && window.MathJax.Hub && window.MathJax.Hub.Config) {window.MathJax.Hub.Config({SVG: {font: \"STIX-Web\"}});}</script>                <script type=\"text/javascript\">window.PlotlyConfig = {MathJaxConfig: 'local'};</script>\n",
              "        <script charset=\"utf-8\" src=\"https://cdn.plot.ly/plotly-2.24.1.min.js\"></script>                <div id=\"f3f04b36-8442-42f0-9bc3-191141b9cd8d\" class=\"plotly-graph-div\" style=\"height:350px; width:750px;\"></div>            <script type=\"text/javascript\">                                    window.PLOTLYENV=window.PLOTLYENV || {};                                    if (document.getElementById(\"f3f04b36-8442-42f0-9bc3-191141b9cd8d\")) {                    Plotly.newPlot(                        \"f3f04b36-8442-42f0-9bc3-191141b9cd8d\",                        [{\"alignmentgroup\":\"True\",\"hovertemplate\":\"Loan Amount=%{x}\\u003cextra\\u003e\\u003c\\u002fextra\\u003e\",\"legendgroup\":\"\",\"marker\":{\"color\":\"#636efa\"},\"name\":\"\",\"notched\":false,\"offsetgroup\":\"\",\"orientation\":\"h\",\"showlegend\":false,\"x\":[5000,2500,2400,10000,5000,7000,3000,5600,5375,6500,12000,9000,3000,10000,1000,10000,3600,6000,9200,20250,21000,10000,10000,6000,15000,15000,5000,4000,8500,4375,31825,5000,7000,12400,10800,15000,6000,9600,12000,3000,4400,6000,14000,5000,10000,10000,11000,15000,25600,7000,12000,12000,21000,16000,10000,10000,7100,13000,17500,17675,8000,10000,3500,12500,16425,8200,15000,20975,6400,3000,12000,14400,12000,11000,7250,15000,18000,35000,10000,11800,4500,7000,9200,4500,12000,12000,12000,7000,8200,10500,7000,20000,17500,3500,6200,6000,7200,9500,18825,24000,6000,6000,2100,5500,11000,26800,8000,10000,8000,10000,12000,10000,12000,25000,19750,10000,13650,28000,18000,2500,21000,35000,10000,7000,24000,10625,5000,8850,6375,6000,11100,10000,6200,15000,4200,14000,8875,13500,12000,16000,21600,6000,8450,20000,10000,12000,13475,7200,5600,12000,8500,8000,8000,16000,15000,10000,10000,8000,22000,6000,16000,2500,13500,25000,10000,2500,7325,4000,10000,7750,20000,9600,21000,14000,13350,15000,15000,35000,9000,22475,16000,13500,24000,12000,8400,28000,14000,12000,25000,9000,13250,20000,3000,7350,11500,13650,10500,12000,6000,11500,7000,29500,2000,11625,15075,5300,8200,12000,8650,12000,9500,7400,14400,24250,7200,26000,7000,4000,1500,19600,2500,10000,10000,4225,3500,12000,16500,22000,12000,15600,10800,14000,6000,12000,10000,8000,14125,14000,13200,4000,4000,10500,5500,7350,10000,12000,5000,8000,4500,18000,12000,10000,6000,12000,12000,7000,35000,1400,16000,3200,8000,11875,5000,1800,35000,18000,14000,5000,8000,10000,10000,12000,23200,4800,7300,10400,6600,12000,13250,12000,25000,6000,12000,14400,10000,8000,8000,30000,18000,13250,14000,20000,10000,35000,4000,13000,28000,10000,20000,18000,9000,25000,10000,4200,20000,18000,24000,4475,12000,18000,5000,3000,12000,20000,10000,15000,12000,6300,35000,8250,10000,24000,14400,6000,22000,12000,16000,10000,16000,10000,3500,9600,9875,21500,4800,7800,20000,9750,18000,5000,9000,7200,25000,25000,10000,8875,15550,7500,8875,4500,5800,10000,10000,14000,25000,12000,24000,14000,12000,15000,8050,5600,7500,7000,5400,16000,35000,6000,4125,9800,15700,5000,9900,4000,15000,6250,6400,8850,12000,15000,6500,8000,30000,15000,10200,9000,6500,23000,2000,8000,8875,1500,8000,20000,6500,9600,10000,15000,9000,10000,1000,14000,8500,15000,4500,3000,10000,21250,33425,7200,18000,23000,20000,7000,21000,8250,13000,18000,7200,16500,8125,18800,26800,19200,12875,4000,4000,12000,2625,7000,11300,4000,8000,14400,4375,4100,6000,4200,4000,3000,5400,15000,20000,10400,4500,11500,10000,18225,3600,18500,16800,10000,15000,8000,25000,16000,8000,7200,12000,2200,28000,6000,8000,14400,20000,14050,6000,35000,10525,7200,18500,12000,12000,3000,9500,19775,12000,28000,30000,16000,14500,11700,4150,24000,21250,10000,25000,4000,15000,20000,15000,3600,6000,15000,12000,12375,4000,13000,5000,5000,26000,15000,4000,8000,1700,16000,20000,12000,7000,8000,13000,20000,18000,10000,22250,24000,11200,7000,8000,22500,12000,22000,6200,15900,5000,16000,5000,3150,12000,28000,5000,3000,3000,8400,7000,2000,8575,28000,10000,25000,8000,16000,25000,2000,16800,8000,12000,11000,5000,18000,10000,5000,10000,25000,2400,3000,7700,2400,5000,14000,24500,2400,1800,22200,21400,13000,8000,3600,12375,9400,9600,17000,30000,10800,6000,35000,10000,15000,5000,7100,12000,22400,5825,22250,6000,7650,20675,13200,12000,20000,15000,27050,22500,20500,12800,27575,7000,29000,10000,14125,12000,9575,12000,12000,10000,10000,24000,14575,9000,10000,7125,15000,13000,18000,30000,21600,7000,7000,3600,3500,5000,10000,4500,12000,12000,10700,6000,20000,10800,25000,20000,3600,6000,10375,25000,10000,5600,6000,8000,10000,11000,5000,6500,20000,12000,8250,21000,8400,7000,12000,7200,12000,12800,3050,9000,10000,10000,10000,8500,7200,21000,27000,28625,4000,7300,18000,5000,10000,3000,28000,10000,12000,10000,11000,10000,5000,5000,5000,6000,5000,20050,7000,25000,3000,8400,24925,5000,12000,12000,13200,6000,10000,17500,6500,10000,12000,10000,12375,10000,20000,4400,25000,14125,35000,13600,20000,18000,13000,35000,35000,7200,25000,4000,7000,15000,35000,7200,13000,28000,12000,16000,14000,11500,10500,14400,16000,5375,12000,12000,17000,30000,13000,7125,8000,12500,10000,14000,7500,19200,9000,16000,20000,9000,9600,12000,1000,15000,12000,14000,15600,10000,7200,22250,26400,11000,9600,10000,11000,5000,6000,3000,8200,17000,5000,6400,13000,18000,16000,13200,10000,15000,5000,7200,15000,15700,5000,9600,16000,35000,12000,6000,6000,7150,13000,32000,8000,7000,12000,10400,12000,16000,4500,5000,3600,21000,7000,27575,15000,2250,17050,16500,3250,7000,24000,13200,22750,12000,30000,1200,4800,18000,7200,15000,10500,15000,5000,12800,4000,14000,27000,15000,35000,2400,5900,5000,13250,12600,20000,18000,19200,7000,25000,10000,2250,23000,6750,10000,16000,5600,4800,25000,10000,2200,24000,16000,10000,10625,9600,7200,12000,5000,12000,18000,10000,10000,26000,17475,10400,10000,17250,10000,12000,19075,20000,24000,17200,15000,10625,8400,16000,18000,15000,20675,13225,11775,16400,10075,10000,14000,13000,15000,9350,30000,18225,18000,3600,29000,5000,6400,12000,35000,18000,8075,15625,24000,5000,7200,5000,6600,7000,20000,8000,12000,20000,10000,16000,10000,18000,4000,15000,10000,29500,20125,30000,24000,14000,5375,8300,7000,2425,6950,12375,35000,14000,14000,5500,4800,9000,16000,5000,18500,5350,25000,10000,12000,18000,3000,6000,20000,35000,10000,5875,10000,28000,11200,10000,20000,9450,19000,18825,20400,21650,24000,9000,15000,6000,5600,7000,20300,6000,30000,12000,13650,24000,6200,25000,12000,2300,8875,18800,12000,9000,7600,16000,12000,22500,20000,6000,7200,8000,24575,19000,14400,8400,7500,30000,12375,10000,22000,12000,5000,21000,24000,6000,4800,5000,5850,21000,17475,4750,12000,5275,9175,9600,34475,22500,12000,12000,10050,15000,19400,10000,10000,4800,35000,18200,6400,2500,6300,4400,6000,20500,17000,18000,10000,16000,34000,16000,11100,12000,5000,21000,10625,18500,3600,8500,12000,11700,15000,13000,9500,1800,20000,6000,13000,14400,5000,12000,25000,21650,19500,5000,5200,6000,4000,15000,8000,16500,11900,4000,12000,10200,12000,3000,3500,11000,17000,15000,12000,29100,5000,25850,16400,12000,9600,8000,17500,16000,35000,4000,1500,8000,8000,25000,4000,20400,10000,10000,6000,18000,3300,15000,6000,35000,20000,12200,4200,25000,22575,20000,18000,10000,12000,8000,7175,15000,35000,12000,35000,20000,15000,12500,15000,16750,8000,10400,6000,7000,10000,12000,12000,17000,16000,10000,8000,24000,7700,15000,30000,12000,1200,9000,12000,5000,10400,3500,15000,10000,8400,12000,22750,20000,8875,5000,11200,4000,15000,15000,2500,14000,6625,10000,12000,14000,35000,12875,1400,22000,12000,9000,12000,17000,18000,2000,8000,10000,6900,6000,13000,18650,2400,8000,5000,12500,20000,4800,30000,25000,9250,2400,12000,3000,12000,10000,10000,20000,16000,22800,18000,3500,20000,3000,27300,12250,20000,4350,2700,8000,6000,7000,7000,6025,15000,18000,3825,10000,6000,2400,7200,14000,13000,4200,7000,13250,3600,14000,6000,9000,15000,10000,9000,5325,12000,14000,20000,16000,35000,11000,5000,20000,12000,14150,4000,12000,6000,17000,15000,4200,15000,18000,19000,30000,35000,16000,4000,7000,12000,7000,10000,1600,12000,7200,12000,5000,8200,6000,8000,20000,3600,5000,8000,16000,35000,5000,12000,2800,12000,4000,7000,5600,12000,18975,5000,12000,5500,6500,12000,12000,4000,1000,25000,9000,8575,5400,10000,6000,10000,2575,10000,8000,12000,12000,10000,6000,12600,10000,14000,5000,10000,15000,6000,5450,13500,20000,3000,5000,7000,3800,28000,15000,6000,4000,15000,7500,12000,2125,25000,7200,10000,7000,14000,6000,8000,3000,10000,5000,6000,5500,6000,10000,5000,4000,8000,6000,12000,9500,15600,10000,12000,10000,25000,5300,8000,1000,3800,20000,4200,3500,6000,15000,30000,18000,10000,6500,25000,15000,22000,9600,14650,11250,31000,14000,9000,6500,16500,14000,25000,5600,10000,25000,5000,3600,10800,4800,9600,5200,11000,35000,11000,20500,15000,8475,9250,6000,9400,5000,3500,7500,3625,4000,18825,5500,31300,26000,12000,4250,6000,18000,3250,8000,12650,8875,20000,27600,23000,12000,6000,7500,10000,35000,12000,13150,1200,5000,12000,20000,4300,2200,28000,5300,7500,12600,9250,7000,20000,24000,10275,10000,24250,12000,7400,12000,10000,13200,20000,20400,7500,23600,13000,25000,3000,10000,12000,4800,15000,24000,20000,25000,3000,7875,35000,10000,5600,21000,12300,6000,14550,25600,35000,7000,9000,8000,6500,4000,7000,15000,9925,15850,9000,1325,35000,6000,15000,35000,10000,3000,12000,6325,10000,12000,4000,6500,29700,4000,15000,20000,24000,6500,19750,9000,14400,10000,35000,24250,7800,15000,24000,10000,12000,5500,4000,8000,25975,25000,30000,13000,15200,16000,10000,28100,15000,12000,6000,5000,30000,8000,5000,22000,21000,5000,6250,28000,6800,12000,20000,16800,30000,9000,5200,6000,15600,18000,11325,14000,13975,24000,7000,6000,14000,13800,24000,18000,35000,8000,25000,1000,5000,8500,10000,6000,30000,16000,12000,35000,5000,13000,11200,12000,15000,35000,3200,6000,3100,5000,25000,5000,8800,6000,12000,8000,10000,19075,3000,5000,10625,12000,9750,12000,21600,6000,25450,3575,12000,3000,7000,21000,25000,12000,25000,6075,5000,10400,8000,11000,12000,12000,11100,20000,3000,15075,15000,24000,8500,28000,23000,5500,15000,5000,8875,8000,4500,35000,10000,18650,23700,6400,7000,3500,10200,12000,9000,4000,35000,20000,5000,20000,7200,5500,3000,9000,9000,6000,4000,21200,25000,12000,17000,20000,5000,7700,14000,10000,6475,12000,15600,25000,14400,25000,18000,12000,4000,30000,12000,10000,16000,5000,25000,8000,17375,2500,6000,35000,15000,18500,35000,6000,15000,4800,20000,29000,14125,17625,5000,10000,10000,2400,4000,12000,24000,4000,3200,14000,10000,15000,10000,1000,10075,19400,22400,20000,35000,25000,35000,15000,30000,22000,21000,22500,5000,9600,4500,3000,16100,18200,35000,15000,10000,8500,1800,14000,3000,17200,6000,16675,4000,12875,7000,1500,5300,4200,2400,12000,10000,20000,7800,22950,1000,1950,4650,20000,12000,9450,16000,16000,4800,5000,7100,6000,9000,5000,10000,25000,15000,15000,8400,6000,6000,2500,12000,1500,8000,7200,4400,23000,2000,12000,17000,3000,15000,28625,14000,10200,24000,10250,6100,5800,24000,6000,1000,11000,9000,3000,2000,12500,13000,21000,15000,15000,5000,10000,30000,12000,7200,20000,5500,17625,25000,8325,7000,10500,17000,5000,25000,18000,2000,2500,10000,15600,6000,4500,21600,5500,4850,10000,15000,7000,25000,10000,25000,9425,5500,6400,13500,10000,30000,18000,8575,18000,18000,25000,3000,30000,3600,9600,4500,5000,35000,19500,4200,10000,5250,3000,11000,24000,2000,35000,12700,20000,7000,12000,5000,6600,25475,22250,11000,8000,6000,10000,24000,12000,18000,20000,14850,15000,12650,17500,15000,9500,13000,12000,8000,10000,12000,4125,7000,6000,33000,6000,10000,1500,13200,25000,6000,5150,5000,21625,18000,3000,7500,5000,15000,12000,14000,10200,15000,2700,16000,18000,12000,7500,1800,12000,8000,6250,11000,20000,20000,3775,6000,15000,7750,7000,9800,25000,4000,12000,21575,3300,5400,12000,16000,16250,12000,6000,10000,20000,12000,13200,11625,15000,18000,8300,7000,7000,35000,18000,10800,20000,10000,18000,10000,7200,5000,25000,8375,30000,19075,1200,15000,3000,35000,8000,16000,10000,27050,8000,7500,12000,8500,12000,10000,15000,15000,10000,35000,12000,6800,30000,12000,18725,13000,18000,12000,16500,18000,20000,12000,12000,1000,20000,24000,15000,12000,17000,12000,20000,24000,7500,20000,7000,12800,3000,10000,15000,30000,12000,11125,20000,3525,3000,10000,5000,3000,11200,4800,6000,3500,13350,15000,25000,5600,16000,24000,2400,11500,2100,6000,14000,8000,12400,15000,7200,8000,10000,21200,9300,21500,15000,30000,19125,17000,20000,5000,5000,3800,5000,29000,12000,23000,14000,5000,2500,12000,5000,19800,22000,15000,7200,10000,8000,4800,5000,10000,15000,25000,25000,12000,10000,20000,20000,21000,8000,15500,5575,30000,10000,20000,10000,12000,1450,30000,24000,2000,7000,10000,7750,20000,29100,12000,10150,3800,10000,7000,15000,10000,22000,18825,10000,20000,8000,12000,20450,12000,24000,7000,17500,6400,13000,18000,8000,7800,15000,15000,24000,23500,35000,2100,16600,18000,16000,12000,18000,10800,15000,7100,10000,6000,10400,2000,8000,10000,12000,35000,4500,12000,20000,10000,20000,4000,12000,12000,20000,8000,20000,20000,3500,5000,1300,7500,7800,6925,12800,15000,8000,5375,2500,17625,6000,7100,2800,14000,12000,6625,14675,15000,12000,13000,12000,10000,11550,6000,9000,12000,28000,17400,13000,17000,6000,20000,1100,10000,7000,14000,5000,8500,19750,21000,15000,12000,9000,18000,10000,7000,8000,26000,28000,35000,5500,14400,10000,28000,5000,20000,7000,10000,10000,10000,20000,6000,16000,3400,6000,7000,7875,17000,6000,9500,16000,35000,1200,20000,5000,5400,12000,12775,5000,15000,15600,5050,12000,24000,25000,12000,10000,2400,5825,20000,16000,1500,12500,12000,6000,3500,4000,12100,20000,8500,15000,15600,10000,2400,12000,19000,8000,10000,9000,10000,10000,12600,6000,12800,13000,8000,6975,13000,12000,5000,17000,12800,1600,1200,26300,18800,12000,28000,20000,20000,5000,19000,35000,8000,7200,2400,25000,24250,12000,9500,20000,9000,16000,19600,10000,20000,9750,20000,12000,8000,28000,6000,16000,19600,11500,3000,5000,7000,23325,22200,14400,12000,15000,15000,15850,12000,1800,3200,17000,5500,10000,16000,11100,13000,12250,29100,21600,10000,29100,2000,9500,21000,11300,12000,15800,18000,6400,6000,6000,5000,26400,11300,14000,15000,23600,5100,7500,10000,6000,2000,6000,18000,10000,24000,10000,10000,10175,17000,5600,20000,10000,5600,2800,9600,24000,18400,9000,30750,6000,5000,33600,10000,16800,22000,10800,7200,10625,5000,10000,5000,8400,25000,24000,4800,14000,7000,15000,13000,30000,6400,5650,7000,8500,28000,7000,30000,20000,6000,10000,12000,12500,16450,2500,6200,12000,10000,4800,17050,12700,35000,12000,15000,24000,35000,11200,7000,6200,20000,35000,12000,8500,12000,12000,20000,10400,5000,8400,24000,20000,11000,18950,12000,20000,12000,7200,33950,12600,15000,4250,7000,1500,25000,15600,21000,20000,20000,12000,10000,5800,2400,28100,4500,4800,5000,18000,25000,18000,6000,35000,27000,3000,10000,10125,8000,10000,35000,21600,12000,6000,14000,8000,8000,21000,22000,6000,15000,5200,17500,6400,3825,21000,14000,18950,3000,2400,6000,16000,18000,10000,2125,7500,10000,25000,16000,20000,3600,20000,10000,8000,1000,4000,18800,14000,16775,6325,5700,13225,10000,13500,12000,15000,20200,20000,12000,10600,13475,4000,7500,21000,9600,10000,3725,19425,25900,30000,13000,15600,20000,10000,8000,12000,12000,4000,9750,24000,35000,3125,12000,17500,6000,8000,28000,30000],\"x0\":\" \",\"xaxis\":\"x\",\"y0\":\" \",\"yaxis\":\"y\",\"type\":\"box\"}],                        {\"template\":{\"data\":{\"histogram2dcontour\":[{\"type\":\"histogram2dcontour\",\"colorbar\":{\"outlinewidth\":0,\"ticks\":\"\"},\"colorscale\":[[0.0,\"#0d0887\"],[0.1111111111111111,\"#46039f\"],[0.2222222222222222,\"#7201a8\"],[0.3333333333333333,\"#9c179e\"],[0.4444444444444444,\"#bd3786\"],[0.5555555555555556,\"#d8576b\"],[0.6666666666666666,\"#ed7953\"],[0.7777777777777778,\"#fb9f3a\"],[0.8888888888888888,\"#fdca26\"],[1.0,\"#f0f921\"]]}],\"choropleth\":[{\"type\":\"choropleth\",\"colorbar\":{\"outlinewidth\":0,\"ticks\":\"\"}}],\"histogram2d\":[{\"type\":\"histogram2d\",\"colorbar\":{\"outlinewidth\":0,\"ticks\":\"\"},\"colorscale\":[[0.0,\"#0d0887\"],[0.1111111111111111,\"#46039f\"],[0.2222222222222222,\"#7201a8\"],[0.3333333333333333,\"#9c179e\"],[0.4444444444444444,\"#bd3786\"],[0.5555555555555556,\"#d8576b\"],[0.6666666666666666,\"#ed7953\"],[0.7777777777777778,\"#fb9f3a\"],[0.8888888888888888,\"#fdca26\"],[1.0,\"#f0f921\"]]}],\"heatmap\":[{\"type\":\"heatmap\",\"colorbar\":{\"outlinewidth\":0,\"ticks\":\"\"},\"colorscale\":[[0.0,\"#0d0887\"],[0.1111111111111111,\"#46039f\"],[0.2222222222222222,\"#7201a8\"],[0.3333333333333333,\"#9c179e\"],[0.4444444444444444,\"#bd3786\"],[0.5555555555555556,\"#d8576b\"],[0.6666666666666666,\"#ed7953\"],[0.7777777777777778,\"#fb9f3a\"],[0.8888888888888888,\"#fdca26\"],[1.0,\"#f0f921\"]]}],\"heatmapgl\":[{\"type\":\"heatmapgl\",\"colorbar\":{\"outlinewidth\":0,\"ticks\":\"\"},\"colorscale\":[[0.0,\"#0d0887\"],[0.1111111111111111,\"#46039f\"],[0.2222222222222222,\"#7201a8\"],[0.3333333333333333,\"#9c179e\"],[0.4444444444444444,\"#bd3786\"],[0.5555555555555556,\"#d8576b\"],[0.6666666666666666,\"#ed7953\"],[0.7777777777777778,\"#fb9f3a\"],[0.8888888888888888,\"#fdca26\"],[1.0,\"#f0f921\"]]}],\"contourcarpet\":[{\"type\":\"contourcarpet\",\"colorbar\":{\"outlinewidth\":0,\"ticks\":\"\"}}],\"contour\":[{\"type\":\"contour\",\"colorbar\":{\"outlinewidth\":0,\"ticks\":\"\"},\"colorscale\":[[0.0,\"#0d0887\"],[0.1111111111111111,\"#46039f\"],[0.2222222222222222,\"#7201a8\"],[0.3333333333333333,\"#9c179e\"],[0.4444444444444444,\"#bd3786\"],[0.5555555555555556,\"#d8576b\"],[0.6666666666666666,\"#ed7953\"],[0.7777777777777778,\"#fb9f3a\"],[0.8888888888888888,\"#fdca26\"],[1.0,\"#f0f921\"]]}],\"surface\":[{\"type\":\"surface\",\"colorbar\":{\"outlinewidth\":0,\"ticks\":\"\"},\"colorscale\":[[0.0,\"#0d0887\"],[0.1111111111111111,\"#46039f\"],[0.2222222222222222,\"#7201a8\"],[0.3333333333333333,\"#9c179e\"],[0.4444444444444444,\"#bd3786\"],[0.5555555555555556,\"#d8576b\"],[0.6666666666666666,\"#ed7953\"],[0.7777777777777778,\"#fb9f3a\"],[0.8888888888888888,\"#fdca26\"],[1.0,\"#f0f921\"]]}],\"mesh3d\":[{\"type\":\"mesh3d\",\"colorbar\":{\"outlinewidth\":0,\"ticks\":\"\"}}],\"scatter\":[{\"fillpattern\":{\"fillmode\":\"overlay\",\"size\":10,\"solidity\":0.2},\"type\":\"scatter\"}],\"parcoords\":[{\"type\":\"parcoords\",\"line\":{\"colorbar\":{\"outlinewidth\":0,\"ticks\":\"\"}}}],\"scatterpolargl\":[{\"type\":\"scatterpolargl\",\"marker\":{\"colorbar\":{\"outlinewidth\":0,\"ticks\":\"\"}}}],\"bar\":[{\"error_x\":{\"color\":\"#2a3f5f\"},\"error_y\":{\"color\":\"#2a3f5f\"},\"marker\":{\"line\":{\"color\":\"#E5ECF6\",\"width\":0.5},\"pattern\":{\"fillmode\":\"overlay\",\"size\":10,\"solidity\":0.2}},\"type\":\"bar\"}],\"scattergeo\":[{\"type\":\"scattergeo\",\"marker\":{\"colorbar\":{\"outlinewidth\":0,\"ticks\":\"\"}}}],\"scatterpolar\":[{\"type\":\"scatterpolar\",\"marker\":{\"colorbar\":{\"outlinewidth\":0,\"ticks\":\"\"}}}],\"histogram\":[{\"marker\":{\"pattern\":{\"fillmode\":\"overlay\",\"size\":10,\"solidity\":0.2}},\"type\":\"histogram\"}],\"scattergl\":[{\"type\":\"scattergl\",\"marker\":{\"colorbar\":{\"outlinewidth\":0,\"ticks\":\"\"}}}],\"scatter3d\":[{\"type\":\"scatter3d\",\"line\":{\"colorbar\":{\"outlinewidth\":0,\"ticks\":\"\"}},\"marker\":{\"colorbar\":{\"outlinewidth\":0,\"ticks\":\"\"}}}],\"scattermapbox\":[{\"type\":\"scattermapbox\",\"marker\":{\"colorbar\":{\"outlinewidth\":0,\"ticks\":\"\"}}}],\"scatterternary\":[{\"type\":\"scatterternary\",\"marker\":{\"colorbar\":{\"outlinewidth\":0,\"ticks\":\"\"}}}],\"scattercarpet\":[{\"type\":\"scattercarpet\",\"marker\":{\"colorbar\":{\"outlinewidth\":0,\"ticks\":\"\"}}}],\"carpet\":[{\"aaxis\":{\"endlinecolor\":\"#2a3f5f\",\"gridcolor\":\"white\",\"linecolor\":\"white\",\"minorgridcolor\":\"white\",\"startlinecolor\":\"#2a3f5f\"},\"baxis\":{\"endlinecolor\":\"#2a3f5f\",\"gridcolor\":\"white\",\"linecolor\":\"white\",\"minorgridcolor\":\"white\",\"startlinecolor\":\"#2a3f5f\"},\"type\":\"carpet\"}],\"table\":[{\"cells\":{\"fill\":{\"color\":\"#EBF0F8\"},\"line\":{\"color\":\"white\"}},\"header\":{\"fill\":{\"color\":\"#C8D4E3\"},\"line\":{\"color\":\"white\"}},\"type\":\"table\"}],\"barpolar\":[{\"marker\":{\"line\":{\"color\":\"#E5ECF6\",\"width\":0.5},\"pattern\":{\"fillmode\":\"overlay\",\"size\":10,\"solidity\":0.2}},\"type\":\"barpolar\"}],\"pie\":[{\"automargin\":true,\"type\":\"pie\"}]},\"layout\":{\"autotypenumbers\":\"strict\",\"colorway\":[\"#636efa\",\"#EF553B\",\"#00cc96\",\"#ab63fa\",\"#FFA15A\",\"#19d3f3\",\"#FF6692\",\"#B6E880\",\"#FF97FF\",\"#FECB52\"],\"font\":{\"color\":\"#2a3f5f\"},\"hovermode\":\"closest\",\"hoverlabel\":{\"align\":\"left\"},\"paper_bgcolor\":\"white\",\"plot_bgcolor\":\"#E5ECF6\",\"polar\":{\"bgcolor\":\"#E5ECF6\",\"angularaxis\":{\"gridcolor\":\"white\",\"linecolor\":\"white\",\"ticks\":\"\"},\"radialaxis\":{\"gridcolor\":\"white\",\"linecolor\":\"white\",\"ticks\":\"\"}},\"ternary\":{\"bgcolor\":\"#E5ECF6\",\"aaxis\":{\"gridcolor\":\"white\",\"linecolor\":\"white\",\"ticks\":\"\"},\"baxis\":{\"gridcolor\":\"white\",\"linecolor\":\"white\",\"ticks\":\"\"},\"caxis\":{\"gridcolor\":\"white\",\"linecolor\":\"white\",\"ticks\":\"\"}},\"coloraxis\":{\"colorbar\":{\"outlinewidth\":0,\"ticks\":\"\"}},\"colorscale\":{\"sequential\":[[0.0,\"#0d0887\"],[0.1111111111111111,\"#46039f\"],[0.2222222222222222,\"#7201a8\"],[0.3333333333333333,\"#9c179e\"],[0.4444444444444444,\"#bd3786\"],[0.5555555555555556,\"#d8576b\"],[0.6666666666666666,\"#ed7953\"],[0.7777777777777778,\"#fb9f3a\"],[0.8888888888888888,\"#fdca26\"],[1.0,\"#f0f921\"]],\"sequentialminus\":[[0.0,\"#0d0887\"],[0.1111111111111111,\"#46039f\"],[0.2222222222222222,\"#7201a8\"],[0.3333333333333333,\"#9c179e\"],[0.4444444444444444,\"#bd3786\"],[0.5555555555555556,\"#d8576b\"],[0.6666666666666666,\"#ed7953\"],[0.7777777777777778,\"#fb9f3a\"],[0.8888888888888888,\"#fdca26\"],[1.0,\"#f0f921\"]],\"diverging\":[[0,\"#8e0152\"],[0.1,\"#c51b7d\"],[0.2,\"#de77ae\"],[0.3,\"#f1b6da\"],[0.4,\"#fde0ef\"],[0.5,\"#f7f7f7\"],[0.6,\"#e6f5d0\"],[0.7,\"#b8e186\"],[0.8,\"#7fbc41\"],[0.9,\"#4d9221\"],[1,\"#276419\"]]},\"xaxis\":{\"gridcolor\":\"white\",\"linecolor\":\"white\",\"ticks\":\"\",\"title\":{\"standoff\":15},\"zerolinecolor\":\"white\",\"automargin\":true,\"zerolinewidth\":2},\"yaxis\":{\"gridcolor\":\"white\",\"linecolor\":\"white\",\"ticks\":\"\",\"title\":{\"standoff\":15},\"zerolinecolor\":\"white\",\"automargin\":true,\"zerolinewidth\":2},\"scene\":{\"xaxis\":{\"backgroundcolor\":\"#E5ECF6\",\"gridcolor\":\"white\",\"linecolor\":\"white\",\"showbackground\":true,\"ticks\":\"\",\"zerolinecolor\":\"white\",\"gridwidth\":2},\"yaxis\":{\"backgroundcolor\":\"#E5ECF6\",\"gridcolor\":\"white\",\"linecolor\":\"white\",\"showbackground\":true,\"ticks\":\"\",\"zerolinecolor\":\"white\",\"gridwidth\":2},\"zaxis\":{\"backgroundcolor\":\"#E5ECF6\",\"gridcolor\":\"white\",\"linecolor\":\"white\",\"showbackground\":true,\"ticks\":\"\",\"zerolinecolor\":\"white\",\"gridwidth\":2}},\"shapedefaults\":{\"line\":{\"color\":\"#2a3f5f\"}},\"annotationdefaults\":{\"arrowcolor\":\"#2a3f5f\",\"arrowhead\":0,\"arrowwidth\":1},\"geo\":{\"bgcolor\":\"white\",\"landcolor\":\"#E5ECF6\",\"subunitcolor\":\"white\",\"showland\":true,\"showlakes\":true,\"lakecolor\":\"white\"},\"title\":{\"x\":0.05},\"mapbox\":{\"style\":\"light\"}}},\"xaxis\":{\"anchor\":\"y\",\"domain\":[0.0,1.0],\"title\":{\"text\":\"Loan Amount\"}},\"yaxis\":{\"anchor\":\"x\",\"domain\":[0.0,1.0]},\"legend\":{\"tracegroupgap\":0},\"title\":{\"text\":\"Distribution of Loan Amount\"},\"boxmode\":\"group\",\"height\":350,\"width\":750},                        {\"responsive\": true}                    ).then(function(){\n",
              "                            \n",
              "var gd = document.getElementById('f3f04b36-8442-42f0-9bc3-191141b9cd8d');\n",
              "var x = new MutationObserver(function (mutations, observer) {{\n",
              "        var display = window.getComputedStyle(gd).display;\n",
              "        if (!display || display === 'none') {{\n",
              "            console.log([gd, 'removed!']);\n",
              "            Plotly.purge(gd);\n",
              "            observer.disconnect();\n",
              "        }}\n",
              "}});\n",
              "\n",
              "// Listen for the removal of the full notebook cells\n",
              "var notebookContainer = gd.closest('#notebook-container');\n",
              "if (notebookContainer) {{\n",
              "    x.observe(notebookContainer, {childList: true});\n",
              "}}\n",
              "\n",
              "// Listen for the clearing of the current output cell\n",
              "var outputEl = gd.closest('.output');\n",
              "if (outputEl) {{\n",
              "    x.observe(outputEl, {childList: true});\n",
              "}}\n",
              "\n",
              "                        })                };                            </script>        </div>\n",
              "</body>\n",
              "</html>"
            ]
          },
          "metadata": {}
        }
      ],
      "source": [
        "# Loan Amount\n",
        "print(filtered.loan_amnt.describe())\n",
        "#Plotting histogram of loan amount\n",
        "px.box(filtered,x='loan_amnt',width=750,height=350,title='Distribution of Loan Amount',labels={'loan_amnt':'Loan Amount'}).show()"
      ]
    },
    {
      "cell_type": "code",
      "execution_count": null,
      "metadata": {
        "colab": {
          "base_uri": "https://localhost:8080/",
          "height": 454
        },
        "id": "omU8-d0qL4ja",
        "outputId": "b8759783-e09d-46f5-a271-5a20a85732e3"
      },
      "outputs": [
        {
          "output_type": "display_data",
          "data": {
            "text/plain": [
              "<Figure size 640x480 with 2 Axes>"
            ],
            "image/png": "[encoded data removed]"
          },
          "metadata": {}
        }
      ],
      "source": [
        "plt.subplot(1,2,1)\n",
        "sns.boxplot(y=chargedOff.int_rate)\n",
        "plt.title(\"\\n Interest rate for ChargedOff\")\n",
        "plt.ylabel('Interest rate (%)')\n",
        "\n",
        "\n",
        "plt.subplot(1,2,2)\n",
        "sns.boxplot(y=fullyPaid.int_rate)\n",
        "plt.title(\"\\n Interest rate for fullyPaid\")\n",
        "plt.ylabel('Interest rate (%)')\n",
        "\n",
        "plt.show()"
      ]
    },
    {
      "cell_type": "markdown",
      "metadata": {
        "id": "xGUT5SgDMYp6"
      },
      "source": [
        "* It is observed that, charged off applicants have high median interest rate. One possible explanation is based on their credit score or risk. Which inturn resullts in high defualt."
      ]
    },
    {
      "cell_type": "code",
      "source": [
        "    sns.boxplot(x=filtered['loan_status'], y=filtered['dti'])\n",
        "    plt.show()"
      ],
      "metadata": {
        "colab": {
          "base_uri": "https://localhost:8080/",
          "height": 450
        },
        "id": "4YAhTeyLkNKC",
        "outputId": "ebf1ebcc-bd99-4b60-efed-ae84f1627dec"
      },
      "execution_count": null,
      "outputs": [
        {
          "output_type": "display_data",
          "data": {
            "text/plain": [
              "<Figure size 640x480 with 1 Axes>"
            ],
            "image/png": "[encoded data removed]"
          },
          "metadata": {}
        }
      ]
    },
    {
      "cell_type": "markdown",
      "source": [
        "* We notice dti median is also slightly higher for Charged Off loans, compared to FUlly Paid."
      ],
      "metadata": {
        "id": "OyYqrFcIlX3_"
      }
    },
    {
      "cell_type": "code",
      "execution_count": null,
      "metadata": {
        "colab": {
          "base_uri": "https://localhost:8080/",
          "height": 511
        },
        "id": "IKG9k3cXzN2Y",
        "outputId": "f5dd78c2-e033-490b-9044-ece8ac46dc1f"
      },
      "outputs": [
        {
          "output_type": "stream",
          "name": "stdout",
          "text": [
            " 36 months    75.0\n",
            " 60 months    25.0\n",
            "Name: term, dtype: float64\n"
          ]
        },
        {
          "output_type": "display_data",
          "data": {
            "text/plain": [
              "<Figure size 1000x500 with 1 Axes>"
            ],
            "image/png": "[encoded data removed]"
          },
          "metadata": {}
        }
      ],
      "source": [
        "# Term of loan\n",
        "print(filtered.term.value_counts()*100/filtered.term.count())\n",
        "# 0=Fully Paid, 1=Charged Off\n",
        "plt.figure(figsize=(10,5))\n",
        "ax=sns.countplot(x=filtered.term)\n",
        "ax.set_title('Count of loan taken for given Term')\n",
        "ax.set_xlabel('Term duration in months')\n",
        "ax.set_ylabel('Count')\n",
        "plt.show()"
      ]
    },
    {
      "cell_type": "code",
      "execution_count": null,
      "metadata": {
        "colab": {
          "base_uri": "https://localhost:8080/",
          "height": 461
        },
        "id": "i0Z7xWsmz6E4",
        "outputId": "33a5b7cc-68bf-4abb-b38d-7627fda10e3e"
      },
      "outputs": [
        {
          "output_type": "display_data",
          "data": {
            "text/plain": [
              "<Figure size 1000x500 with 1 Axes>"
            ],
            "image/png": "[encoded data removed]"
          },
          "metadata": {}
        }
      ],
      "source": [
        "# Distribution of interest rate\n",
        "plt.figure(figsize=(10,5))\n",
        "sns.distplot(sorted(filtered.int_rate),kde=True,bins=20)\n",
        "plt.xlabel('Interest Rate')\n",
        "plt.ylabel('Density')\n",
        "plt.title('Distribution of Interest Rate')\n",
        "plt.show()"
      ]
    },
    {
      "cell_type": "markdown",
      "source": [
        "Analyzing home_ownership"
      ],
      "metadata": {
        "id": "EeEIZ32FLIHz"
      }
    },
    {
      "cell_type": "code",
      "source": [
        "#checking unique values for home_ownership\n",
        "filtered['home_ownership'].unique()"
      ],
      "metadata": {
        "colab": {
          "base_uri": "https://localhost:8080/"
        },
        "id": "ZIm3NyGYLGZc",
        "outputId": "0522884d-57ea-4d7b-b01f-8e0b4a25dda9"
      },
      "execution_count": null,
      "outputs": [
        {
          "output_type": "execute_result",
          "data": {
            "text/plain": [
              "array(['RENT', 'OWN', 'MORTGAGE'], dtype=object)"
            ]
          },
          "metadata": {},
          "execution_count": 26
        }
      ]
    },
    {
      "cell_type": "code",
      "source": [
        "# There are only 3 records with 'NONE' value in the data. So replacing the value with 'OTHER'\n",
        "#replacing 'NONE' with 'OTHERS'\n",
        "filtered['home_ownership'].replace(to_replace = ['NONE'],value='OTHER',inplace = True)"
      ],
      "metadata": {
        "id": "YTRw5mzvLXFq"
      },
      "execution_count": null,
      "outputs": []
    },
    {
      "cell_type": "code",
      "source": [
        "#checking unique values for home_ownership again\n",
        "filtered['home_ownership'].unique()"
      ],
      "metadata": {
        "colab": {
          "base_uri": "https://localhost:8080/"
        },
        "id": "EbMwdpRrLm5C",
        "outputId": "dd1f8190-95a2-4a8a-b490-3010e9cdd5ab"
      },
      "execution_count": null,
      "outputs": [
        {
          "output_type": "execute_result",
          "data": {
            "text/plain": [
              "array(['RENT', 'OWN', 'MORTGAGE'], dtype=object)"
            ]
          },
          "metadata": {},
          "execution_count": 28
        }
      ]
    },
    {
      "cell_type": "code",
      "source": [
        "#Bucketing Annual Income\n",
        "def bucket_annual_inc(column):\n",
        "    if column <= 40000:\n",
        "        return '0 - 40k' # 25% quartile\n",
        "    elif (column >40000) and (column <= 50000):\n",
        "        return '40k - 50k'\n",
        "    elif (column >50000) and (column <= 60000):\n",
        "        return '50k to 60k'\n",
        "    elif (column >60000) and (column <= 70000):\n",
        "        return '60k to 70k'\n",
        "    elif (column >70000) and (column <= 80000):\n",
        "        return '70k to 80k'\n",
        "    else:\n",
        "        return '80k - above' # 75% quartile\n",
        "\n",
        "filtered['annual_inc_b'] = filtered.apply(lambda x: bucket_annual_inc(x['annual_inc']), axis = 1)"
      ],
      "metadata": {
        "id": "zrJgpUIBGk1a"
      },
      "execution_count": null,
      "outputs": []
    },
    {
      "cell_type": "code",
      "source": [
        "# Bucketing interest rate\n",
        "def bucket_int_rate(column):\n",
        "    if column <= 9:\n",
        "        return 'Very Low' # 25% quartile\n",
        "    elif (column >9) and (column <= 11):\n",
        "        return 'Low'\n",
        "    elif (column >11) and (column <= 13):\n",
        "        return 'Moderate'\n",
        "    elif (column >13) and (column <= 15):\n",
        "        return 'High'\n",
        "    else:\n",
        "        return 'Very High' # 75% quartile\n",
        "\n",
        "filtered['int_rate_b'] = filtered.apply(lambda x : bucket_int_rate(x.int_rate), axis = 1)"
      ],
      "metadata": {
        "id": "3qe_zrIHHs2-"
      },
      "execution_count": null,
      "outputs": []
    },
    {
      "cell_type": "code",
      "source": [
        "# Bucketing dti\n",
        "def bucket_dti(column):\n",
        "    if column <= 8:\n",
        "        return 'Very Low' # 25% quartile\n",
        "    elif (column >8) and (column <= 12):\n",
        "        return 'Low'\n",
        "    elif (column >12) and (column <= 16):\n",
        "        return 'Moderate'\n",
        "    elif (column >16) and (column <= 20):\n",
        "        return 'High'\n",
        "    else:\n",
        "        return 'Very High' # 75% quartile\n",
        "\n",
        "filtered['dti_b'] = filtered.apply(lambda x : bucket_dti(x.dti), axis = 1)"
      ],
      "metadata": {
        "id": "Hbd6oifvM3ZN"
      },
      "execution_count": null,
      "outputs": []
    },
    {
      "cell_type": "markdown",
      "source": [
        "**Unordered Categorical Variable Analysis**"
      ],
      "metadata": {
        "id": "wF3d9hEO-LSg"
      }
    },
    {
      "cell_type": "code",
      "source": [
        "# Majority of loan applicants are either living on Rent or on Mortgage\n",
        "filtered['home_ownership'].value_counts().plot.bar()"
      ],
      "metadata": {
        "colab": {
          "base_uri": "https://localhost:8080/",
          "height": 512
        },
        "id": "GhnKFMrr9azc",
        "outputId": "b877bcb2-93fd-453f-ca42-c8b8846dba71"
      },
      "execution_count": null,
      "outputs": [
        {
          "output_type": "execute_result",
          "data": {
            "text/plain": [
              "<Axes: >"
            ]
          },
          "metadata": {},
          "execution_count": 32
        },
        {
          "output_type": "display_data",
          "data": {
            "text/plain": [
              "<Figure size 640x480 with 1 Axes>"
            ],
            "image/png": "[encoded data removed]"
          },
          "metadata": {}
        }
      ]
    },
    {
      "cell_type": "code",
      "source": [
        "# Most of the loan applicants are for debt_consolidations.\n",
        "filtered['purpose'].value_counts().plot.bar()"
      ],
      "metadata": {
        "colab": {
          "base_uri": "https://localhost:8080/",
          "height": 572
        },
        "id": "Dhplv8xI-cTR",
        "outputId": "dab0af94-3fe5-4ba8-e612-cca695099490"
      },
      "execution_count": null,
      "outputs": [
        {
          "output_type": "execute_result",
          "data": {
            "text/plain": [
              "<Axes: >"
            ]
          },
          "metadata": {},
          "execution_count": 33
        },
        {
          "output_type": "display_data",
          "data": {
            "text/plain": [
              "<Figure size 640x480 with 1 Axes>"
            ],
            "image/png": "[encoded data removed]"
          },
          "metadata": {}
        }
      ]
    },
    {
      "cell_type": "code",
      "source": [
        "# Most of the Loan applicants are from CA(State).\n",
        "filtered['addr_state'].value_counts().plot(kind=\"pie\")"
      ],
      "metadata": {
        "colab": {
          "base_uri": "https://localhost:8080/",
          "height": 423
        },
        "id": "t1DiUu7l-wt9",
        "outputId": "6045da78-d14f-449a-b1c7-cd3f53609f58"
      },
      "execution_count": null,
      "outputs": [
        {
          "output_type": "execute_result",
          "data": {
            "text/plain": [
              "<Axes: ylabel='addr_state'>"
            ]
          },
          "metadata": {},
          "execution_count": 34
        },
        {
          "output_type": "display_data",
          "data": {
            "text/plain": [
              "<Figure size 640x480 with 1 Axes>"
            ],
            "image/png": "[encoded data removed]"
          },
          "metadata": {}
        }
      ]
    },
    {
      "cell_type": "markdown",
      "source": [
        "**Ordered Categorical Variable Analysis**"
      ],
      "metadata": {
        "id": "2892NgGN_t4W"
      }
    },
    {
      "cell_type": "code",
      "source": [
        "#Most of the applications are having 10+ yrs of Exp.\n",
        "filtered['emp_length'].value_counts().plot(kind=\"pie\")"
      ],
      "metadata": {
        "colab": {
          "base_uri": "https://localhost:8080/",
          "height": 423
        },
        "id": "EzzpjhBE_fKx",
        "outputId": "03857b78-11bb-4c1b-a7f6-b000f8080af8"
      },
      "execution_count": null,
      "outputs": [
        {
          "output_type": "execute_result",
          "data": {
            "text/plain": [
              "<Axes: ylabel='emp_length'>"
            ]
          },
          "metadata": {},
          "execution_count": 35
        },
        {
          "output_type": "display_data",
          "data": {
            "text/plain": [
              "<Figure size 640x480 with 1 Axes>"
            ],
            "image/png": "[encoded data removed]"
          },
          "metadata": {}
        }
      ]
    },
    {
      "cell_type": "markdown",
      "source": [
        "**Bivariate Analysis**"
      ],
      "metadata": {
        "id": "aAHY4uk1BQK0"
      }
    },
    {
      "cell_type": "code",
      "source": [
        "inc_range_vs_loan=filtered.groupby(['annual_inc_b', 'loan_status']).loan_status.count().unstack().fillna(0).reset_index()\n",
        "inc_range_vs_loan['Total'] = inc_range_vs_loan['Charged Off']+ inc_range_vs_loan['Fully Paid']\n",
        "inc_range_vs_loan['Chargedoff_Proportion'] = inc_range_vs_loan['Charged Off'] / inc_range_vs_loan['Total']\n",
        "inc_range_vs_loan.sort_values('Chargedoff_Proportion', ascending=False)"
      ],
      "metadata": {
        "colab": {
          "base_uri": "https://localhost:8080/",
          "height": 237
        },
        "id": "u0OpJRyVA5qj",
        "outputId": "9a7902a0-7909-47e4-a64d-ed5669269dcd"
      },
      "execution_count": null,
      "outputs": [
        {
          "output_type": "execute_result",
          "data": {
            "text/plain": [
              "loan_status annual_inc_b  Charged Off  Fully Paid  Total  \\\n",
              "2             50k to 60k           81         284    365   \n",
              "0                0 - 40k          138         512    650   \n",
              "1              40k - 50k           81         368    449   \n",
              "4             70k to 80k           44         205    249   \n",
              "3             60k to 70k           47         222    269   \n",
              "5            80k - above           78         460    538   \n",
              "\n",
              "loan_status  Chargedoff_Proportion  \n",
              "2                         0.221918  \n",
              "0                         0.212308  \n",
              "1                         0.180401  \n",
              "4                         0.176707  \n",
              "3                         0.174721  \n",
              "5                         0.144981  "
            ],
            "text/html": [
              "\n",
              "  <div id=\"df-2bbca9af-fca7-44e3-a0a0-4ece5a9d1499\" class=\"colab-df-container\">\n",
              "    <div>\n",
              "<style scoped>\n",
              "    .dataframe tbody tr th:only-of-type {\n",
              "        vertical-align: middle;\n",
              "    }\n",
              "\n",
              "    .dataframe tbody tr th {\n",
              "        vertical-align: top;\n",
              "    }\n",
              "\n",
              "    .dataframe thead th {\n",
              "        text-align: right;\n",
              "    }\n",
              "</style>\n",
              "<table border=\"1\" class=\"dataframe\">\n",
              "  <thead>\n",
              "    <tr style=\"text-align: right;\">\n",
              "      <th>loan_status</th>\n",
              "      <th>annual_inc_b</th>\n",
              "      <th>Charged Off</th>\n",
              "      <th>Fully Paid</th>\n",
              "      <th>Total</th>\n",
              "      <th>Chargedoff_Proportion</th>\n",
              "    </tr>\n",
              "  </thead>\n",
              "  <tbody>\n",
              "    <tr>\n",
              "      <th>2</th>\n",
              "      <td>50k to 60k</td>\n",
              "      <td>81</td>\n",
              "      <td>284</td>\n",
              "      <td>365</td>\n",
              "      <td>0.221918</td>\n",
              "    </tr>\n",
              "    <tr>\n",
              "      <th>0</th>\n",
              "      <td>0 - 40k</td>\n",
              "      <td>138</td>\n",
              "      <td>512</td>\n",
              "      <td>650</td>\n",
              "      <td>0.212308</td>\n",
              "    </tr>\n",
              "    <tr>\n",
              "      <th>1</th>\n",
              "      <td>40k - 50k</td>\n",
              "      <td>81</td>\n",
              "      <td>368</td>\n",
              "      <td>449</td>\n",
              "      <td>0.180401</td>\n",
              "    </tr>\n",
              "    <tr>\n",
              "      <th>4</th>\n",
              "      <td>70k to 80k</td>\n",
              "      <td>44</td>\n",
              "      <td>205</td>\n",
              "      <td>249</td>\n",
              "      <td>0.176707</td>\n",
              "    </tr>\n",
              "    <tr>\n",
              "      <th>3</th>\n",
              "      <td>60k to 70k</td>\n",
              "      <td>47</td>\n",
              "      <td>222</td>\n",
              "      <td>269</td>\n",
              "      <td>0.174721</td>\n",
              "    </tr>\n",
              "    <tr>\n",
              "      <th>5</th>\n",
              "      <td>80k - above</td>\n",
              "      <td>78</td>\n",
              "      <td>460</td>\n",
              "      <td>538</td>\n",
              "      <td>0.144981</td>\n",
              "    </tr>\n",
              "  </tbody>\n",
              "</table>\n",
              "</div>\n",
              "    <div class=\"colab-df-buttons\">\n",
              "\n",
              "  <div class=\"colab-df-container\">\n",
              "    <button class=\"colab-df-convert\" onclick=\"convertToInteractive('df-2bbca9af-fca7-44e3-a0a0-4ece5a9d1499')\"\n",
              "            title=\"Convert this dataframe to an interactive table.\"\n",
              "            style=\"display:none;\">\n",
              "\n",
              "  <svg xmlns=\"http://www.w3.org/2000/svg\" height=\"24px\" viewBox=\"0 -960 960 960\">\n",
              "    <path d=\"M120-120v-720h720v720H120Zm60-500h600v-160H180v160Zm220 220h160v-160H400v160Zm0 220h160v-160H400v160ZM180-400h160v-160H180v160Zm440 0h160v-160H620v160ZM180-180h160v-160H180v160Zm440 0h160v-160H620v160Z\"/>\n",
              "  </svg>\n",
              "    </button>\n",
              "\n",
              "  <style>\n",
              "    .colab-df-container {\n",
              "      display:flex;\n",
              "      gap: 12px;\n",
              "    }\n",
              "\n",
              "    .colab-df-convert {\n",
              "      background-color: #E8F0FE;\n",
              "      border: none;\n",
              "      border-radius: 50%;\n",
              "      cursor: pointer;\n",
              "      display: none;\n",
              "      fill: #1967D2;\n",
              "      height: 32px;\n",
              "      padding: 0 0 0 0;\n",
              "      width: 32px;\n",
              "    }\n",
              "\n",
              "    .colab-df-convert:hover {\n",
              "      background-color: #E2EBFA;\n",
              "      box-shadow: 0px 1px 2px rgba(60, 64, 67, 0.3), 0px 1px 3px 1px rgba(60, 64, 67, 0.15);\n",
              "      fill: #174EA6;\n",
              "    }\n",
              "\n",
              "    .colab-df-buttons div {\n",
              "      margin-bottom: 4px;\n",
              "    }\n",
              "\n",
              "    [theme=dark] .colab-df-convert {\n",
              "      background-color: #3B4455;\n",
              "      fill: #D2E3FC;\n",
              "    }\n",
              "\n",
              "    [theme=dark] .colab-df-convert:hover {\n",
              "      background-color: #434B5C;\n",
              "      box-shadow: 0px 1px 3px 1px rgba(0, 0, 0, 0.15);\n",
              "      filter: drop-shadow(0px 1px 2px rgba(0, 0, 0, 0.3));\n",
              "      fill: #FFFFFF;\n",
              "    }\n",
              "  </style>\n",
              "\n",
              "    <script>\n",
              "      const buttonEl =\n",
              "        document.querySelector('#df-2bbca9af-fca7-44e3-a0a0-4ece5a9d1499 button.colab-df-convert');\n",
              "      buttonEl.style.display =\n",
              "        google.colab.kernel.accessAllowed ? 'block' : 'none';\n",
              "\n",
              "      async function convertToInteractive(key) {\n",
              "        const element = document.querySelector('#df-2bbca9af-fca7-44e3-a0a0-4ece5a9d1499');\n",
              "        const dataTable =\n",
              "          await google.colab.kernel.invokeFunction('convertToInteractive',\n",
              "                                                    [key], {});\n",
              "        if (!dataTable) return;\n",
              "\n",
              "        const docLinkHtml = 'Like what you see? Visit the ' +\n",
              "          '<a target=\"_blank\" href=https://colab.research.google.com/notebooks/data_table.ipynb>data table notebook</a>'\n",
              "          + ' to learn more about interactive tables.';\n",
              "        element.innerHTML = '';\n",
              "        dataTable['output_type'] = 'display_data';\n",
              "        await google.colab.output.renderOutput(dataTable, element);\n",
              "        const docLink = document.createElement('div');\n",
              "        docLink.innerHTML = docLinkHtml;\n",
              "        element.appendChild(docLink);\n",
              "      }\n",
              "    </script>\n",
              "  </div>\n",
              "\n",
              "\n",
              "<div id=\"df-2447d585-4996-4d3b-ae20-ee98ffb03a32\">\n",
              "  <button class=\"colab-df-quickchart\" onclick=\"quickchart('df-2447d585-4996-4d3b-ae20-ee98ffb03a32')\"\n",
              "            title=\"Suggest charts\"\n",
              "            style=\"display:none;\">\n",
              "\n",
              "<svg xmlns=\"http://www.w3.org/2000/svg\" height=\"24px\"viewBox=\"0 0 24 24\"\n",
              "     width=\"24px\">\n",
              "    <g>\n",
              "        <path d=\"M19 3H5c-1.1 0-2 .9-2 2v14c0 1.1.9 2 2 2h14c1.1 0 2-.9 2-2V5c0-1.1-.9-2-2-2zM9 17H7v-7h2v7zm4 0h-2V7h2v10zm4 0h-2v-4h2v4z\"/>\n",
              "    </g>\n",
              "</svg>\n",
              "  </button>\n",
              "\n",
              "<style>\n",
              "  .colab-df-quickchart {\n",
              "      --bg-color: #E8F0FE;\n",
              "      --fill-color: #1967D2;\n",
              "      --hover-bg-color: #E2EBFA;\n",
              "      --hover-fill-color: #174EA6;\n",
              "      --disabled-fill-color: #AAA;\n",
              "      --disabled-bg-color: #DDD;\n",
              "  }\n",
              "\n",
              "  [theme=dark] .colab-df-quickchart {\n",
              "      --bg-color: #3B4455;\n",
              "      --fill-color: #D2E3FC;\n",
              "      --hover-bg-color: #434B5C;\n",
              "      --hover-fill-color: #FFFFFF;\n",
              "      --disabled-bg-color: #3B4455;\n",
              "      --disabled-fill-color: #666;\n",
              "  }\n",
              "\n",
              "  .colab-df-quickchart {\n",
              "    background-color: var(--bg-color);\n",
              "    border: none;\n",
              "    border-radius: 50%;\n",
              "    cursor: pointer;\n",
              "    display: none;\n",
              "    fill: var(--fill-color);\n",
              "    height: 32px;\n",
              "    padding: 0;\n",
              "    width: 32px;\n",
              "  }\n",
              "\n",
              "  .colab-df-quickchart:hover {\n",
              "    background-color: var(--hover-bg-color);\n",
              "    box-shadow: 0 1px 2px rgba(60, 64, 67, 0.3), 0 1px 3px 1px rgba(60, 64, 67, 0.15);\n",
              "    fill: var(--button-hover-fill-color);\n",
              "  }\n",
              "\n",
              "  .colab-df-quickchart-complete:disabled,\n",
              "  .colab-df-quickchart-complete:disabled:hover {\n",
              "    background-color: var(--disabled-bg-color);\n",
              "    fill: var(--disabled-fill-color);\n",
              "    box-shadow: none;\n",
              "  }\n",
              "\n",
              "  .colab-df-spinner {\n",
              "    border: 2px solid var(--fill-color);\n",
              "    border-color: transparent;\n",
              "    border-bottom-color: var(--fill-color);\n",
              "    animation:\n",
              "      spin 1s steps(1) infinite;\n",
              "  }\n",
              "\n",
              "  @keyframes spin {\n",
              "    0% {\n",
              "      border-color: transparent;\n",
              "      border-bottom-color: var(--fill-color);\n",
              "      border-left-color: var(--fill-color);\n",
              "    }\n",
              "    20% {\n",
              "      border-color: transparent;\n",
              "      border-left-color: var(--fill-color);\n",
              "      border-top-color: var(--fill-color);\n",
              "    }\n",
              "    30% {\n",
              "      border-color: transparent;\n",
              "      border-left-color: var(--fill-color);\n",
              "      border-top-color: var(--fill-color);\n",
              "      border-right-color: var(--fill-color);\n",
              "    }\n",
              "    40% {\n",
              "      border-color: transparent;\n",
              "      border-right-color: var(--fill-color);\n",
              "      border-top-color: var(--fill-color);\n",
              "    }\n",
              "    60% {\n",
              "      border-color: transparent;\n",
              "      border-right-color: var(--fill-color);\n",
              "    }\n",
              "    80% {\n",
              "      border-color: transparent;\n",
              "      border-right-color: var(--fill-color);\n",
              "      border-bottom-color: var(--fill-color);\n",
              "    }\n",
              "    90% {\n",
              "      border-color: transparent;\n",
              "      border-bottom-color: var(--fill-color);\n",
              "    }\n",
              "  }\n",
              "</style>\n",
              "\n",
              "  <script>\n",
              "    async function quickchart(key) {\n",
              "      const quickchartButtonEl =\n",
              "        document.querySelector('#' + key + ' button');\n",
              "      quickchartButtonEl.disabled = true;  // To prevent multiple clicks.\n",
              "      quickchartButtonEl.classList.add('colab-df-spinner');\n",
              "      try {\n",
              "        const charts = await google.colab.kernel.invokeFunction(\n",
              "            'suggestCharts', [key], {});\n",
              "      } catch (error) {\n",
              "        console.error('Error during call to suggestCharts:', error);\n",
              "      }\n",
              "      quickchartButtonEl.classList.remove('colab-df-spinner');\n",
              "      quickchartButtonEl.classList.add('colab-df-quickchart-complete');\n",
              "    }\n",
              "    (() => {\n",
              "      let quickchartButtonEl =\n",
              "        document.querySelector('#df-2447d585-4996-4d3b-ae20-ee98ffb03a32 button');\n",
              "      quickchartButtonEl.style.display =\n",
              "        google.colab.kernel.accessAllowed ? 'block' : 'none';\n",
              "    })();\n",
              "  </script>\n",
              "</div>\n",
              "\n",
              "    </div>\n",
              "  </div>\n"
            ],
            "application/vnd.google.colaboratory.intrinsic+json": {
              "type": "dataframe",
              "summary": "{\n  \"name\": \"inc_range_vs_loan\",\n  \"rows\": 6,\n  \"fields\": [\n    {\n      \"column\": \"annual_inc_b\",\n      \"properties\": {\n        \"dtype\": \"string\",\n        \"num_unique_values\": 6,\n        \"samples\": [\n          \"50k to 60k\",\n          \"0 - 40k\",\n          \"80k - above\"\n        ],\n        \"semantic_type\": \"\",\n        \"description\": \"\"\n      }\n    },\n    {\n      \"column\": \"Charged Off\",\n      \"properties\": {\n        \"dtype\": \"number\",\n        \"std\": 33,\n        \"min\": 44,\n        \"max\": 138,\n        \"num_unique_values\": 5,\n        \"samples\": [\n          138,\n          78,\n          44\n        ],\n        \"semantic_type\": \"\",\n        \"description\": \"\"\n      }\n    },\n    {\n      \"column\": \"Fully Paid\",\n      \"properties\": {\n        \"dtype\": \"number\",\n        \"std\": 126,\n        \"min\": 205,\n        \"max\": 512,\n        \"num_unique_values\": 6,\n        \"samples\": [\n          284,\n          512,\n          460\n        ],\n        \"semantic_type\": \"\",\n        \"description\": \"\"\n      }\n    },\n    {\n      \"column\": \"Total\",\n      \"properties\": {\n        \"dtype\": \"number\",\n        \"std\": 156,\n        \"min\": 249,\n        \"max\": 650,\n        \"num_unique_values\": 6,\n        \"samples\": [\n          365,\n          650,\n          538\n        ],\n        \"semantic_type\": \"\",\n        \"description\": \"\"\n      }\n    },\n    {\n      \"column\": \"Chargedoff_Proportion\",\n      \"properties\": {\n        \"dtype\": \"number\",\n        \"std\": 0.02794825789878912,\n        \"min\": 0.1449814126394052,\n        \"max\": 0.2219178082191781,\n        \"num_unique_values\": 6,\n        \"samples\": [\n          0.2219178082191781,\n          0.2123076923076923,\n          0.1449814126394052\n        ],\n        \"semantic_type\": \"\",\n        \"description\": \"\"\n      }\n    }\n  ]\n}"
            }
          },
          "metadata": {},
          "execution_count": 36
        }
      ]
    },
    {
      "cell_type": "code",
      "source": [
        "# Lets draw bar plots on data calculated above. Try to visualize the pattern to understand the data better.\n",
        "\n",
        "fig, ax1 = plt.subplots(figsize=(12, 8),facecolor='b')\n",
        "ax1.set_title('Annual Income vs Chargedoff Proportion',fontsize=15,color = 'w')\n",
        "ax1=sns.barplot(x='annual_inc_b', y='Chargedoff_Proportion', data=inc_range_vs_loan)\n",
        "ax1.set_ylabel('Chargedoff Proportion',fontsize=14,color = 'w')\n",
        "ax1.set_xlabel('Annual Income',fontsize=14,color='w')\n",
        "plt.show()\n",
        "# Observations:\n",
        "# Income range 80000+  has less chances of charged off.\n",
        "# Income range 0-20000 has high chances of charged off.\n",
        "# Notice that with increase in annual income charged off proportion got decreased."
      ],
      "metadata": {
        "colab": {
          "base_uri": "https://localhost:8080/",
          "height": 581
        },
        "id": "OZ7qiX-SGtvy",
        "outputId": "9246081c-fe23-4755-fd57-0092d8125735"
      },
      "execution_count": null,
      "outputs": [
        {
          "output_type": "display_data",
          "data": {
            "text/plain": [
              "<Figure size 1200x800 with 1 Axes>"
            ],
            "image/png": "[encoded data removed]"
          },
          "metadata": {}
        }
      ]
    },
    {
      "cell_type": "code",
      "source": [
        "#Bivariate Analysis on Intrest rate  against Chargedoff_Proportion -\n",
        "\n",
        "interest_vs_loan = filtered.groupby(['int_rate_b', 'loan_status']).loan_status.count().unstack().fillna(0).reset_index()\n",
        "interest_vs_loan['Total'] = interest_vs_loan['Charged Off']+ interest_vs_loan['Fully Paid']\n",
        "interest_vs_loan['Chargedoff_Proportion'] = interest_vs_loan['Charged Off'] / interest_vs_loan['Total']\n",
        "interest_vs_loan.sort_values('Chargedoff_Proportion', ascending=False)"
      ],
      "metadata": {
        "colab": {
          "base_uri": "https://localhost:8080/",
          "height": 206
        },
        "id": "_0npmGfXHT4C",
        "outputId": "1d650ede-5c04-48dc-fc0b-8c4347311860"
      },
      "execution_count": null,
      "outputs": [
        {
          "output_type": "execute_result",
          "data": {
            "text/plain": [
              "loan_status int_rate_b  Charged Off  Fully Paid  Total  Chargedoff_Proportion\n",
              "3            Very High          229         493    722               0.317175\n",
              "0                 High           71         318    389               0.182519\n",
              "2             Moderate           90         454    544               0.165441\n",
              "4             Very Low           54         512    566               0.095406\n",
              "1                  Low           25         274    299               0.083612"
            ],
            "text/html": [
              "\n",
              "  <div id=\"df-7ee8872f-c025-489c-a9b0-91ce2acf03e3\" class=\"colab-df-container\">\n",
              "    <div>\n",
              "<style scoped>\n",
              "    .dataframe tbody tr th:only-of-type {\n",
              "        vertical-align: middle;\n",
              "    }\n",
              "\n",
              "    .dataframe tbody tr th {\n",
              "        vertical-align: top;\n",
              "    }\n",
              "\n",
              "    .dataframe thead th {\n",
              "        text-align: right;\n",
              "    }\n",
              "</style>\n",
              "<table border=\"1\" class=\"dataframe\">\n",
              "  <thead>\n",
              "    <tr style=\"text-align: right;\">\n",
              "      <th>loan_status</th>\n",
              "      <th>int_rate_b</th>\n",
              "      <th>Charged Off</th>\n",
              "      <th>Fully Paid</th>\n",
              "      <th>Total</th>\n",
              "      <th>Chargedoff_Proportion</th>\n",
              "    </tr>\n",
              "  </thead>\n",
              "  <tbody>\n",
              "    <tr>\n",
              "      <th>3</th>\n",
              "      <td>Very High</td>\n",
              "      <td>229</td>\n",
              "      <td>493</td>\n",
              "      <td>722</td>\n",
              "      <td>0.317175</td>\n",
              "    </tr>\n",
              "    <tr>\n",
              "      <th>0</th>\n",
              "      <td>High</td>\n",
              "      <td>71</td>\n",
              "      <td>318</td>\n",
              "      <td>389</td>\n",
              "      <td>0.182519</td>\n",
              "    </tr>\n",
              "    <tr>\n",
              "      <th>2</th>\n",
              "      <td>Moderate</td>\n",
              "      <td>90</td>\n",
              "      <td>454</td>\n",
              "      <td>544</td>\n",
              "      <td>0.165441</td>\n",
              "    </tr>\n",
              "    <tr>\n",
              "      <th>4</th>\n",
              "      <td>Very Low</td>\n",
              "      <td>54</td>\n",
              "      <td>512</td>\n",
              "      <td>566</td>\n",
              "      <td>0.095406</td>\n",
              "    </tr>\n",
              "    <tr>\n",
              "      <th>1</th>\n",
              "      <td>Low</td>\n",
              "      <td>25</td>\n",
              "      <td>274</td>\n",
              "      <td>299</td>\n",
              "      <td>0.083612</td>\n",
              "    </tr>\n",
              "  </tbody>\n",
              "</table>\n",
              "</div>\n",
              "    <div class=\"colab-df-buttons\">\n",
              "\n",
              "  <div class=\"colab-df-container\">\n",
              "    <button class=\"colab-df-convert\" onclick=\"convertToInteractive('df-7ee8872f-c025-489c-a9b0-91ce2acf03e3')\"\n",
              "            title=\"Convert this dataframe to an interactive table.\"\n",
              "            style=\"display:none;\">\n",
              "\n",
              "  <svg xmlns=\"http://www.w3.org/2000/svg\" height=\"24px\" viewBox=\"0 -960 960 960\">\n",
              "    <path d=\"M120-120v-720h720v720H120Zm60-500h600v-160H180v160Zm220 220h160v-160H400v160Zm0 220h160v-160H400v160ZM180-400h160v-160H180v160Zm440 0h160v-160H620v160ZM180-180h160v-160H180v160Zm440 0h160v-160H620v160Z\"/>\n",
              "  </svg>\n",
              "    </button>\n",
              "\n",
              "  <style>\n",
              "    .colab-df-container {\n",
              "      display:flex;\n",
              "      gap: 12px;\n",
              "    }\n",
              "\n",
              "    .colab-df-convert {\n",
              "      background-color: #E8F0FE;\n",
              "      border: none;\n",
              "      border-radius: 50%;\n",
              "      cursor: pointer;\n",
              "      display: none;\n",
              "      fill: #1967D2;\n",
              "      height: 32px;\n",
              "      padding: 0 0 0 0;\n",
              "      width: 32px;\n",
              "    }\n",
              "\n",
              "    .colab-df-convert:hover {\n",
              "      background-color: #E2EBFA;\n",
              "      box-shadow: 0px 1px 2px rgba(60, 64, 67, 0.3), 0px 1px 3px 1px rgba(60, 64, 67, 0.15);\n",
              "      fill: #174EA6;\n",
              "    }\n",
              "\n",
              "    .colab-df-buttons div {\n",
              "      margin-bottom: 4px;\n",
              "    }\n",
              "\n",
              "    [theme=dark] .colab-df-convert {\n",
              "      background-color: #3B4455;\n",
              "      fill: #D2E3FC;\n",
              "    }\n",
              "\n",
              "    [theme=dark] .colab-df-convert:hover {\n",
              "      background-color: #434B5C;\n",
              "      box-shadow: 0px 1px 3px 1px rgba(0, 0, 0, 0.15);\n",
              "      filter: drop-shadow(0px 1px 2px rgba(0, 0, 0, 0.3));\n",
              "      fill: #FFFFFF;\n",
              "    }\n",
              "  </style>\n",
              "\n",
              "    <script>\n",
              "      const buttonEl =\n",
              "        document.querySelector('#df-7ee8872f-c025-489c-a9b0-91ce2acf03e3 button.colab-df-convert');\n",
              "      buttonEl.style.display =\n",
              "        google.colab.kernel.accessAllowed ? 'block' : 'none';\n",
              "\n",
              "      async function convertToInteractive(key) {\n",
              "        const element = document.querySelector('#df-7ee8872f-c025-489c-a9b0-91ce2acf03e3');\n",
              "        const dataTable =\n",
              "          await google.colab.kernel.invokeFunction('convertToInteractive',\n",
              "                                                    [key], {});\n",
              "        if (!dataTable) return;\n",
              "\n",
              "        const docLinkHtml = 'Like what you see? Visit the ' +\n",
              "          '<a target=\"_blank\" href=https://colab.research.google.com/notebooks/data_table.ipynb>data table notebook</a>'\n",
              "          + ' to learn more about interactive tables.';\n",
              "        element.innerHTML = '';\n",
              "        dataTable['output_type'] = 'display_data';\n",
              "        await google.colab.output.renderOutput(dataTable, element);\n",
              "        const docLink = document.createElement('div');\n",
              "        docLink.innerHTML = docLinkHtml;\n",
              "        element.appendChild(docLink);\n",
              "      }\n",
              "    </script>\n",
              "  </div>\n",
              "\n",
              "\n",
              "<div id=\"df-c7c1d374-72f4-421b-bd3c-82f36ca8551e\">\n",
              "  <button class=\"colab-df-quickchart\" onclick=\"quickchart('df-c7c1d374-72f4-421b-bd3c-82f36ca8551e')\"\n",
              "            title=\"Suggest charts\"\n",
              "            style=\"display:none;\">\n",
              "\n",
              "<svg xmlns=\"http://www.w3.org/2000/svg\" height=\"24px\"viewBox=\"0 0 24 24\"\n",
              "     width=\"24px\">\n",
              "    <g>\n",
              "        <path d=\"M19 3H5c-1.1 0-2 .9-2 2v14c0 1.1.9 2 2 2h14c1.1 0 2-.9 2-2V5c0-1.1-.9-2-2-2zM9 17H7v-7h2v7zm4 0h-2V7h2v10zm4 0h-2v-4h2v4z\"/>\n",
              "    </g>\n",
              "</svg>\n",
              "  </button>\n",
              "\n",
              "<style>\n",
              "  .colab-df-quickchart {\n",
              "      --bg-color: #E8F0FE;\n",
              "      --fill-color: #1967D2;\n",
              "      --hover-bg-color: #E2EBFA;\n",
              "      --hover-fill-color: #174EA6;\n",
              "      --disabled-fill-color: #AAA;\n",
              "      --disabled-bg-color: #DDD;\n",
              "  }\n",
              "\n",
              "  [theme=dark] .colab-df-quickchart {\n",
              "      --bg-color: #3B4455;\n",
              "      --fill-color: #D2E3FC;\n",
              "      --hover-bg-color: #434B5C;\n",
              "      --hover-fill-color: #FFFFFF;\n",
              "      --disabled-bg-color: #3B4455;\n",
              "      --disabled-fill-color: #666;\n",
              "  }\n",
              "\n",
              "  .colab-df-quickchart {\n",
              "    background-color: var(--bg-color);\n",
              "    border: none;\n",
              "    border-radius: 50%;\n",
              "    cursor: pointer;\n",
              "    display: none;\n",
              "    fill: var(--fill-color);\n",
              "    height: 32px;\n",
              "    padding: 0;\n",
              "    width: 32px;\n",
              "  }\n",
              "\n",
              "  .colab-df-quickchart:hover {\n",
              "    background-color: var(--hover-bg-color);\n",
              "    box-shadow: 0 1px 2px rgba(60, 64, 67, 0.3), 0 1px 3px 1px rgba(60, 64, 67, 0.15);\n",
              "    fill: var(--button-hover-fill-color);\n",
              "  }\n",
              "\n",
              "  .colab-df-quickchart-complete:disabled,\n",
              "  .colab-df-quickchart-complete:disabled:hover {\n",
              "    background-color: var(--disabled-bg-color);\n",
              "    fill: var(--disabled-fill-color);\n",
              "    box-shadow: none;\n",
              "  }\n",
              "\n",
              "  .colab-df-spinner {\n",
              "    border: 2px solid var(--fill-color);\n",
              "    border-color: transparent;\n",
              "    border-bottom-color: var(--fill-color);\n",
              "    animation:\n",
              "      spin 1s steps(1) infinite;\n",
              "  }\n",
              "\n",
              "  @keyframes spin {\n",
              "    0% {\n",
              "      border-color: transparent;\n",
              "      border-bottom-color: var(--fill-color);\n",
              "      border-left-color: var(--fill-color);\n",
              "    }\n",
              "    20% {\n",
              "      border-color: transparent;\n",
              "      border-left-color: var(--fill-color);\n",
              "      border-top-color: var(--fill-color);\n",
              "    }\n",
              "    30% {\n",
              "      border-color: transparent;\n",
              "      border-left-color: var(--fill-color);\n",
              "      border-top-color: var(--fill-color);\n",
              "      border-right-color: var(--fill-color);\n",
              "    }\n",
              "    40% {\n",
              "      border-color: transparent;\n",
              "      border-right-color: var(--fill-color);\n",
              "      border-top-color: var(--fill-color);\n",
              "    }\n",
              "    60% {\n",
              "      border-color: transparent;\n",
              "      border-right-color: var(--fill-color);\n",
              "    }\n",
              "    80% {\n",
              "      border-color: transparent;\n",
              "      border-right-color: var(--fill-color);\n",
              "      border-bottom-color: var(--fill-color);\n",
              "    }\n",
              "    90% {\n",
              "      border-color: transparent;\n",
              "      border-bottom-color: var(--fill-color);\n",
              "    }\n",
              "  }\n",
              "</style>\n",
              "\n",
              "  <script>\n",
              "    async function quickchart(key) {\n",
              "      const quickchartButtonEl =\n",
              "        document.querySelector('#' + key + ' button');\n",
              "      quickchartButtonEl.disabled = true;  // To prevent multiple clicks.\n",
              "      quickchartButtonEl.classList.add('colab-df-spinner');\n",
              "      try {\n",
              "        const charts = await google.colab.kernel.invokeFunction(\n",
              "            'suggestCharts', [key], {});\n",
              "      } catch (error) {\n",
              "        console.error('Error during call to suggestCharts:', error);\n",
              "      }\n",
              "      quickchartButtonEl.classList.remove('colab-df-spinner');\n",
              "      quickchartButtonEl.classList.add('colab-df-quickchart-complete');\n",
              "    }\n",
              "    (() => {\n",
              "      let quickchartButtonEl =\n",
              "        document.querySelector('#df-c7c1d374-72f4-421b-bd3c-82f36ca8551e button');\n",
              "      quickchartButtonEl.style.display =\n",
              "        google.colab.kernel.accessAllowed ? 'block' : 'none';\n",
              "    })();\n",
              "  </script>\n",
              "</div>\n",
              "\n",
              "    </div>\n",
              "  </div>\n"
            ],
            "application/vnd.google.colaboratory.intrinsic+json": {
              "type": "dataframe",
              "summary": "{\n  \"name\": \"interest_vs_loan\",\n  \"rows\": 5,\n  \"fields\": [\n    {\n      \"column\": \"int_rate_b\",\n      \"properties\": {\n        \"dtype\": \"string\",\n        \"num_unique_values\": 5,\n        \"samples\": [\n          \"High\",\n          \"Low\",\n          \"Moderate\"\n        ],\n        \"semantic_type\": \"\",\n        \"description\": \"\"\n      }\n    },\n    {\n      \"column\": \"Charged Off\",\n      \"properties\": {\n        \"dtype\": \"number\",\n        \"std\": 79,\n        \"min\": 25,\n        \"max\": 229,\n        \"num_unique_values\": 5,\n        \"samples\": [\n          71,\n          25,\n          90\n        ],\n        \"semantic_type\": \"\",\n        \"description\": \"\"\n      }\n    },\n    {\n      \"column\": \"Fully Paid\",\n      \"properties\": {\n        \"dtype\": \"number\",\n        \"std\": 107,\n        \"min\": 274,\n        \"max\": 512,\n        \"num_unique_values\": 5,\n        \"samples\": [\n          318,\n          274,\n          454\n        ],\n        \"semantic_type\": \"\",\n        \"description\": \"\"\n      }\n    },\n    {\n      \"column\": \"Total\",\n      \"properties\": {\n        \"dtype\": \"number\",\n        \"std\": 164,\n        \"min\": 299,\n        \"max\": 722,\n        \"num_unique_values\": 5,\n        \"samples\": [\n          389,\n          299,\n          544\n        ],\n        \"semantic_type\": \"\",\n        \"description\": \"\"\n      }\n    },\n    {\n      \"column\": \"Chargedoff_Proportion\",\n      \"properties\": {\n        \"dtype\": \"number\",\n        \"std\": 0.09335162993752909,\n        \"min\": 0.08361204013377926,\n        \"max\": 0.3171745152354571,\n        \"num_unique_values\": 5,\n        \"samples\": [\n          0.18251928020565553,\n          0.08361204013377926,\n          0.16544117647058823\n        ],\n        \"semantic_type\": \"\",\n        \"description\": \"\"\n      }\n    }\n  ]\n}"
            }
          },
          "metadata": {},
          "execution_count": 38
        }
      ]
    },
    {
      "cell_type": "code",
      "source": [
        "## plot the diagram.\n",
        "fig, ax1 = plt.subplots(figsize=(12, 8),facecolor='b')\n",
        "ax1.set_title('Interest Rate vs Chargedoff Proportion',fontsize=15,color='w')\n",
        "ax1=sns.barplot(x='int_rate_b', y='Chargedoff_Proportion', data=interest_vs_loan)\n",
        "ax1.set_xlabel('Interest Rate',fontsize=14,color='w')\n",
        "ax1.set_ylabel('Chargedoff Proportion',fontsize=14,color = 'w')\n",
        "plt.show()\n",
        "\n",
        "# Observations:\n",
        "# interest rate less than 10% or very low has very less chances of charged off. Intrest rates are starting from minimin 5 %.\n",
        "# interest rate more than 16% or very high has good chnaces of charged off as compared to other category intrest rates.\n",
        "# Charged off proportion is increasing with higher intrest rates."
      ],
      "metadata": {
        "colab": {
          "base_uri": "https://localhost:8080/",
          "height": 581
        },
        "id": "1fUBo5b_ICIS",
        "outputId": "6ebe1c9f-4ab2-4bb5-a5dd-8ab66bcb82c7"
      },
      "execution_count": null,
      "outputs": [
        {
          "output_type": "display_data",
          "data": {
            "text/plain": [
              "<Figure size 1200x800 with 1 Axes>"
            ],
            "image/png": "[encoded data removed]"
          },
          "metadata": {}
        }
      ]
    },
    {
      "cell_type": "markdown",
      "source": [
        "Another inference form the houseowner variable those who are not owning the house are most likely to be charged off."
      ],
      "metadata": {
        "id": "Ev8aOVW6Ii8w"
      }
    },
    {
      "cell_type": "code",
      "source": [
        "#Bivariate Analysis of Home Ownership against Chargedoff_Proportion -\n",
        "\n",
        "home_ownership_vs_loan = filtered.groupby(['home_ownership', 'loan_status']).loan_status.count().unstack().fillna(0).reset_index()\n",
        "home_ownership_vs_loan['Total'] = home_ownership_vs_loan['Charged Off']+ home_ownership_vs_loan['Fully Paid']\n",
        "home_ownership_vs_loan['Chargedoff_Proportion'] = home_ownership_vs_loan['Charged Off'] / home_ownership_vs_loan['Total']\n",
        "home_ownership_vs_loan.sort_values('Chargedoff_Proportion', ascending=False)"
      ],
      "metadata": {
        "colab": {
          "base_uri": "https://localhost:8080/",
          "height": 143
        },
        "id": "ILi0Mca2IM7b",
        "outputId": "2c5a413d-1bf1-4cda-97f2-9d36bdd5a465"
      },
      "execution_count": null,
      "outputs": [
        {
          "output_type": "execute_result",
          "data": {
            "text/plain": [
              "loan_status home_ownership  Charged Off  Fully Paid  Total  \\\n",
              "2                     RENT          288        1134   1422   \n",
              "1                      OWN           39         164    203   \n",
              "0                 MORTGAGE          142         753    895   \n",
              "\n",
              "loan_status  Chargedoff_Proportion  \n",
              "2                         0.202532  \n",
              "1                         0.192118  \n",
              "0                         0.158659  "
            ],
            "text/html": [
              "\n",
              "  <div id=\"df-e8926d06-940e-4fff-83e7-c9ce75797b82\" class=\"colab-df-container\">\n",
              "    <div>\n",
              "<style scoped>\n",
              "    .dataframe tbody tr th:only-of-type {\n",
              "        vertical-align: middle;\n",
              "    }\n",
              "\n",
              "    .dataframe tbody tr th {\n",
              "        vertical-align: top;\n",
              "    }\n",
              "\n",
              "    .dataframe thead th {\n",
              "        text-align: right;\n",
              "    }\n",
              "</style>\n",
              "<table border=\"1\" class=\"dataframe\">\n",
              "  <thead>\n",
              "    <tr style=\"text-align: right;\">\n",
              "      <th>loan_status</th>\n",
              "      <th>home_ownership</th>\n",
              "      <th>Charged Off</th>\n",
              "      <th>Fully Paid</th>\n",
              "      <th>Total</th>\n",
              "      <th>Chargedoff_Proportion</th>\n",
              "    </tr>\n",
              "  </thead>\n",
              "  <tbody>\n",
              "    <tr>\n",
              "      <th>2</th>\n",
              "      <td>RENT</td>\n",
              "      <td>288</td>\n",
              "      <td>1134</td>\n",
              "      <td>1422</td>\n",
              "      <td>0.202532</td>\n",
              "    </tr>\n",
              "    <tr>\n",
              "      <th>1</th>\n",
              "      <td>OWN</td>\n",
              "      <td>39</td>\n",
              "      <td>164</td>\n",
              "      <td>203</td>\n",
              "      <td>0.192118</td>\n",
              "    </tr>\n",
              "    <tr>\n",
              "      <th>0</th>\n",
              "      <td>MORTGAGE</td>\n",
              "      <td>142</td>\n",
              "      <td>753</td>\n",
              "      <td>895</td>\n",
              "      <td>0.158659</td>\n",
              "    </tr>\n",
              "  </tbody>\n",
              "</table>\n",
              "</div>\n",
              "    <div class=\"colab-df-buttons\">\n",
              "\n",
              "  <div class=\"colab-df-container\">\n",
              "    <button class=\"colab-df-convert\" onclick=\"convertToInteractive('df-e8926d06-940e-4fff-83e7-c9ce75797b82')\"\n",
              "            title=\"Convert this dataframe to an interactive table.\"\n",
              "            style=\"display:none;\">\n",
              "\n",
              "  <svg xmlns=\"http://www.w3.org/2000/svg\" height=\"24px\" viewBox=\"0 -960 960 960\">\n",
              "    <path d=\"M120-120v-720h720v720H120Zm60-500h600v-160H180v160Zm220 220h160v-160H400v160Zm0 220h160v-160H400v160ZM180-400h160v-160H180v160Zm440 0h160v-160H620v160ZM180-180h160v-160H180v160Zm440 0h160v-160H620v160Z\"/>\n",
              "  </svg>\n",
              "    </button>\n",
              "\n",
              "  <style>\n",
              "    .colab-df-container {\n",
              "      display:flex;\n",
              "      gap: 12px;\n",
              "    }\n",
              "\n",
              "    .colab-df-convert {\n",
              "      background-color: #E8F0FE;\n",
              "      border: none;\n",
              "      border-radius: 50%;\n",
              "      cursor: pointer;\n",
              "      display: none;\n",
              "      fill: #1967D2;\n",
              "      height: 32px;\n",
              "      padding: 0 0 0 0;\n",
              "      width: 32px;\n",
              "    }\n",
              "\n",
              "    .colab-df-convert:hover {\n",
              "      background-color: #E2EBFA;\n",
              "      box-shadow: 0px 1px 2px rgba(60, 64, 67, 0.3), 0px 1px 3px 1px rgba(60, 64, 67, 0.15);\n",
              "      fill: #174EA6;\n",
              "    }\n",
              "\n",
              "    .colab-df-buttons div {\n",
              "      margin-bottom: 4px;\n",
              "    }\n",
              "\n",
              "    [theme=dark] .colab-df-convert {\n",
              "      background-color: #3B4455;\n",
              "      fill: #D2E3FC;\n",
              "    }\n",
              "\n",
              "    [theme=dark] .colab-df-convert:hover {\n",
              "      background-color: #434B5C;\n",
              "      box-shadow: 0px 1px 3px 1px rgba(0, 0, 0, 0.15);\n",
              "      filter: drop-shadow(0px 1px 2px rgba(0, 0, 0, 0.3));\n",
              "      fill: #FFFFFF;\n",
              "    }\n",
              "  </style>\n",
              "\n",
              "    <script>\n",
              "      const buttonEl =\n",
              "        document.querySelector('#df-e8926d06-940e-4fff-83e7-c9ce75797b82 button.colab-df-convert');\n",
              "      buttonEl.style.display =\n",
              "        google.colab.kernel.accessAllowed ? 'block' : 'none';\n",
              "\n",
              "      async function convertToInteractive(key) {\n",
              "        const element = document.querySelector('#df-e8926d06-940e-4fff-83e7-c9ce75797b82');\n",
              "        const dataTable =\n",
              "          await google.colab.kernel.invokeFunction('convertToInteractive',\n",
              "                                                    [key], {});\n",
              "        if (!dataTable) return;\n",
              "\n",
              "        const docLinkHtml = 'Like what you see? Visit the ' +\n",
              "          '<a target=\"_blank\" href=https://colab.research.google.com/notebooks/data_table.ipynb>data table notebook</a>'\n",
              "          + ' to learn more about interactive tables.';\n",
              "        element.innerHTML = '';\n",
              "        dataTable['output_type'] = 'display_data';\n",
              "        await google.colab.output.renderOutput(dataTable, element);\n",
              "        const docLink = document.createElement('div');\n",
              "        docLink.innerHTML = docLinkHtml;\n",
              "        element.appendChild(docLink);\n",
              "      }\n",
              "    </script>\n",
              "  </div>\n",
              "\n",
              "\n",
              "<div id=\"df-ed96b8da-cc89-4766-aea6-07449ef95af7\">\n",
              "  <button class=\"colab-df-quickchart\" onclick=\"quickchart('df-ed96b8da-cc89-4766-aea6-07449ef95af7')\"\n",
              "            title=\"Suggest charts\"\n",
              "            style=\"display:none;\">\n",
              "\n",
              "<svg xmlns=\"http://www.w3.org/2000/svg\" height=\"24px\"viewBox=\"0 0 24 24\"\n",
              "     width=\"24px\">\n",
              "    <g>\n",
              "        <path d=\"M19 3H5c-1.1 0-2 .9-2 2v14c0 1.1.9 2 2 2h14c1.1 0 2-.9 2-2V5c0-1.1-.9-2-2-2zM9 17H7v-7h2v7zm4 0h-2V7h2v10zm4 0h-2v-4h2v4z\"/>\n",
              "    </g>\n",
              "</svg>\n",
              "  </button>\n",
              "\n",
              "<style>\n",
              "  .colab-df-quickchart {\n",
              "      --bg-color: #E8F0FE;\n",
              "      --fill-color: #1967D2;\n",
              "      --hover-bg-color: #E2EBFA;\n",
              "      --hover-fill-color: #174EA6;\n",
              "      --disabled-fill-color: #AAA;\n",
              "      --disabled-bg-color: #DDD;\n",
              "  }\n",
              "\n",
              "  [theme=dark] .colab-df-quickchart {\n",
              "      --bg-color: #3B4455;\n",
              "      --fill-color: #D2E3FC;\n",
              "      --hover-bg-color: #434B5C;\n",
              "      --hover-fill-color: #FFFFFF;\n",
              "      --disabled-bg-color: #3B4455;\n",
              "      --disabled-fill-color: #666;\n",
              "  }\n",
              "\n",
              "  .colab-df-quickchart {\n",
              "    background-color: var(--bg-color);\n",
              "    border: none;\n",
              "    border-radius: 50%;\n",
              "    cursor: pointer;\n",
              "    display: none;\n",
              "    fill: var(--fill-color);\n",
              "    height: 32px;\n",
              "    padding: 0;\n",
              "    width: 32px;\n",
              "  }\n",
              "\n",
              "  .colab-df-quickchart:hover {\n",
              "    background-color: var(--hover-bg-color);\n",
              "    box-shadow: 0 1px 2px rgba(60, 64, 67, 0.3), 0 1px 3px 1px rgba(60, 64, 67, 0.15);\n",
              "    fill: var(--button-hover-fill-color);\n",
              "  }\n",
              "\n",
              "  .colab-df-quickchart-complete:disabled,\n",
              "  .colab-df-quickchart-complete:disabled:hover {\n",
              "    background-color: var(--disabled-bg-color);\n",
              "    fill: var(--disabled-fill-color);\n",
              "    box-shadow: none;\n",
              "  }\n",
              "\n",
              "  .colab-df-spinner {\n",
              "    border: 2px solid var(--fill-color);\n",
              "    border-color: transparent;\n",
              "    border-bottom-color: var(--fill-color);\n",
              "    animation:\n",
              "      spin 1s steps(1) infinite;\n",
              "  }\n",
              "\n",
              "  @keyframes spin {\n",
              "    0% {\n",
              "      border-color: transparent;\n",
              "      border-bottom-color: var(--fill-color);\n",
              "      border-left-color: var(--fill-color);\n",
              "    }\n",
              "    20% {\n",
              "      border-color: transparent;\n",
              "      border-left-color: var(--fill-color);\n",
              "      border-top-color: var(--fill-color);\n",
              "    }\n",
              "    30% {\n",
              "      border-color: transparent;\n",
              "      border-left-color: var(--fill-color);\n",
              "      border-top-color: var(--fill-color);\n",
              "      border-right-color: var(--fill-color);\n",
              "    }\n",
              "    40% {\n",
              "      border-color: transparent;\n",
              "      border-right-color: var(--fill-color);\n",
              "      border-top-color: var(--fill-color);\n",
              "    }\n",
              "    60% {\n",
              "      border-color: transparent;\n",
              "      border-right-color: var(--fill-color);\n",
              "    }\n",
              "    80% {\n",
              "      border-color: transparent;\n",
              "      border-right-color: var(--fill-color);\n",
              "      border-bottom-color: var(--fill-color);\n",
              "    }\n",
              "    90% {\n",
              "      border-color: transparent;\n",
              "      border-bottom-color: var(--fill-color);\n",
              "    }\n",
              "  }\n",
              "</style>\n",
              "\n",
              "  <script>\n",
              "    async function quickchart(key) {\n",
              "      const quickchartButtonEl =\n",
              "        document.querySelector('#' + key + ' button');\n",
              "      quickchartButtonEl.disabled = true;  // To prevent multiple clicks.\n",
              "      quickchartButtonEl.classList.add('colab-df-spinner');\n",
              "      try {\n",
              "        const charts = await google.colab.kernel.invokeFunction(\n",
              "            'suggestCharts', [key], {});\n",
              "      } catch (error) {\n",
              "        console.error('Error during call to suggestCharts:', error);\n",
              "      }\n",
              "      quickchartButtonEl.classList.remove('colab-df-spinner');\n",
              "      quickchartButtonEl.classList.add('colab-df-quickchart-complete');\n",
              "    }\n",
              "    (() => {\n",
              "      let quickchartButtonEl =\n",
              "        document.querySelector('#df-ed96b8da-cc89-4766-aea6-07449ef95af7 button');\n",
              "      quickchartButtonEl.style.display =\n",
              "        google.colab.kernel.accessAllowed ? 'block' : 'none';\n",
              "    })();\n",
              "  </script>\n",
              "</div>\n",
              "\n",
              "    </div>\n",
              "  </div>\n"
            ],
            "application/vnd.google.colaboratory.intrinsic+json": {
              "type": "dataframe",
              "summary": "{\n  \"name\": \"home_ownership_vs_loan\",\n  \"rows\": 3,\n  \"fields\": [\n    {\n      \"column\": \"home_ownership\",\n      \"properties\": {\n        \"dtype\": \"string\",\n        \"num_unique_values\": 3,\n        \"samples\": [\n          \"RENT\",\n          \"OWN\",\n          \"MORTGAGE\"\n        ],\n        \"semantic_type\": \"\",\n        \"description\": \"\"\n      }\n    },\n    {\n      \"column\": \"Charged Off\",\n      \"properties\": {\n        \"dtype\": \"number\",\n        \"std\": 125,\n        \"min\": 39,\n        \"max\": 288,\n        \"num_unique_values\": 3,\n        \"samples\": [\n          288,\n          39,\n          142\n        ],\n        \"semantic_type\": \"\",\n        \"description\": \"\"\n      }\n    },\n    {\n      \"column\": \"Fully Paid\",\n      \"properties\": {\n        \"dtype\": \"number\",\n        \"std\": 488,\n        \"min\": 164,\n        \"max\": 1134,\n        \"num_unique_values\": 3,\n        \"samples\": [\n          1134,\n          164,\n          753\n        ],\n        \"semantic_type\": \"\",\n        \"description\": \"\"\n      }\n    },\n    {\n      \"column\": \"Total\",\n      \"properties\": {\n        \"dtype\": \"number\",\n        \"std\": 611,\n        \"min\": 203,\n        \"max\": 1422,\n        \"num_unique_values\": 3,\n        \"samples\": [\n          1422,\n          203,\n          895\n        ],\n        \"semantic_type\": \"\",\n        \"description\": \"\"\n      }\n    },\n    {\n      \"column\": \"Chargedoff_Proportion\",\n      \"properties\": {\n        \"dtype\": \"number\",\n        \"std\": 0.02292282149241068,\n        \"min\": 0.15865921787709497,\n        \"max\": 0.20253164556962025,\n        \"num_unique_values\": 3,\n        \"samples\": [\n          0.20253164556962025,\n          0.1921182266009852,\n          0.15865921787709497\n        ],\n        \"semantic_type\": \"\",\n        \"description\": \"\"\n      }\n    }\n  ]\n}"
            }
          },
          "metadata": {},
          "execution_count": 40
        }
      ]
    },
    {
      "cell_type": "code",
      "source": [
        "fig, ax1 = plt.subplots(figsize=(12, 8),facecolor='b')\n",
        "ax1.set_title('Home Ownership vs Chargedoff Proportion',fontsize=15,color='w')\n",
        "ax1=sns.barplot(x='home_ownership', y='Chargedoff_Proportion', data=home_ownership_vs_loan)\n",
        "ax1.set_xlabel('Home Ownership',fontsize=14,color='w')\n",
        "ax1.set_ylabel('Chargedoff Proportion',fontsize=14,color = 'w')\n",
        "plt.show()"
      ],
      "metadata": {
        "colab": {
          "base_uri": "https://localhost:8080/",
          "height": 576
        },
        "id": "Irh5QKdSIzAr",
        "outputId": "bf7f7a13-3fcd-4201-843a-2525ebe24279"
      },
      "execution_count": null,
      "outputs": [
        {
          "output_type": "display_data",
          "data": {
            "text/plain": [
              "<Figure size 1200x800 with 1 Axes>"
            ],
            "image/png": "[encoded data removed]"
          },
          "metadata": {}
        }
      ]
    },
    {
      "cell_type": "markdown",
      "source": [
        "# observation:\n",
        "# Those who are not owning the home is having high chances of loan defaults."
      ],
      "metadata": {
        "id": "9gSr64Q3JQBQ"
      }
    },
    {
      "cell_type": "code",
      "source": [
        "#Bivariate Analysis on Purpose of loan against Chargedoff_Proportion -\n",
        "\n",
        "purpose_vs_loan = filtered.groupby(['purpose', 'loan_status']).loan_status.count().unstack().fillna(0).reset_index()\n",
        "purpose_vs_loan['Total'] = purpose_vs_loan['Charged Off']+ purpose_vs_loan['Fully Paid']\n",
        "purpose_vs_loan['Chargedoff_Proportion'] = purpose_vs_loan['Charged Off'] / purpose_vs_loan['Total']\n",
        "purpose_vs_loan.sort_values('Chargedoff_Proportion', ascending=False)"
      ],
      "metadata": {
        "colab": {
          "base_uri": "https://localhost:8080/",
          "height": 457
        },
        "id": "esYR2pvWJpER",
        "outputId": "075396e2-6c78-4f71-b12a-ff8b8e7a4221"
      },
      "execution_count": null,
      "outputs": [
        {
          "output_type": "execute_result",
          "data": {
            "text/plain": [
              "loan_status             purpose  Charged Off  Fully Paid   Total  \\\n",
              "10               small_business         24.0        54.0    78.0   \n",
              "8                         other         39.0       130.0   169.0   \n",
              "12                      wedding          7.0        26.0    33.0   \n",
              "2            debt_consolidation        263.0      1055.0  1318.0   \n",
              "11                     vacation          4.0        17.0    21.0   \n",
              "4                         house          3.0        13.0    16.0   \n",
              "3              home_improvement         20.0        87.0   107.0   \n",
              "7                        moving          5.0        23.0    28.0   \n",
              "0                           car          9.0        42.0    51.0   \n",
              "6                       medical          4.0        23.0    27.0   \n",
              "1                   credit_card         87.0       519.0   606.0   \n",
              "5                major_purchase          4.0        60.0    64.0   \n",
              "9              renewable_energy          0.0         2.0     2.0   \n",
              "\n",
              "loan_status  Chargedoff_Proportion  \n",
              "10                        0.307692  \n",
              "8                         0.230769  \n",
              "12                        0.212121  \n",
              "2                         0.199545  \n",
              "11                        0.190476  \n",
              "4                         0.187500  \n",
              "3                         0.186916  \n",
              "7                         0.178571  \n",
              "0                         0.176471  \n",
              "6                         0.148148  \n",
              "1                         0.143564  \n",
              "5                         0.062500  \n",
              "9                         0.000000  "
            ],
            "text/html": [
              "\n",
              "  <div id=\"df-c62cda08-a4d4-415b-a75c-bedf3fe62f26\" class=\"colab-df-container\">\n",
              "    <div>\n",
              "<style scoped>\n",
              "    .dataframe tbody tr th:only-of-type {\n",
              "        vertical-align: middle;\n",
              "    }\n",
              "\n",
              "    .dataframe tbody tr th {\n",
              "        vertical-align: top;\n",
              "    }\n",
              "\n",
              "    .dataframe thead th {\n",
              "        text-align: right;\n",
              "    }\n",
              "</style>\n",
              "<table border=\"1\" class=\"dataframe\">\n",
              "  <thead>\n",
              "    <tr style=\"text-align: right;\">\n",
              "      <th>loan_status</th>\n",
              "      <th>purpose</th>\n",
              "      <th>Charged Off</th>\n",
              "      <th>Fully Paid</th>\n",
              "      <th>Total</th>\n",
              "      <th>Chargedoff_Proportion</th>\n",
              "    </tr>\n",
              "  </thead>\n",
              "  <tbody>\n",
              "    <tr>\n",
              "      <th>10</th>\n",
              "      <td>small_business</td>\n",
              "      <td>24.0</td>\n",
              "      <td>54.0</td>\n",
              "      <td>78.0</td>\n",
              "      <td>0.307692</td>\n",
              "    </tr>\n",
              "    <tr>\n",
              "      <th>8</th>\n",
              "      <td>other</td>\n",
              "      <td>39.0</td>\n",
              "      <td>130.0</td>\n",
              "      <td>169.0</td>\n",
              "      <td>0.230769</td>\n",
              "    </tr>\n",
              "    <tr>\n",
              "      <th>12</th>\n",
              "      <td>wedding</td>\n",
              "      <td>7.0</td>\n",
              "      <td>26.0</td>\n",
              "      <td>33.0</td>\n",
              "      <td>0.212121</td>\n",
              "    </tr>\n",
              "    <tr>\n",
              "      <th>2</th>\n",
              "      <td>debt_consolidation</td>\n",
              "      <td>263.0</td>\n",
              "      <td>1055.0</td>\n",
              "      <td>1318.0</td>\n",
              "      <td>0.199545</td>\n",
              "    </tr>\n",
              "    <tr>\n",
              "      <th>11</th>\n",
              "      <td>vacation</td>\n",
              "      <td>4.0</td>\n",
              "      <td>17.0</td>\n",
              "      <td>21.0</td>\n",
              "      <td>0.190476</td>\n",
              "    </tr>\n",
              "    <tr>\n",
              "      <th>4</th>\n",
              "      <td>house</td>\n",
              "      <td>3.0</td>\n",
              "      <td>13.0</td>\n",
              "      <td>16.0</td>\n",
              "      <td>0.187500</td>\n",
              "    </tr>\n",
              "    <tr>\n",
              "      <th>3</th>\n",
              "      <td>home_improvement</td>\n",
              "      <td>20.0</td>\n",
              "      <td>87.0</td>\n",
              "      <td>107.0</td>\n",
              "      <td>0.186916</td>\n",
              "    </tr>\n",
              "    <tr>\n",
              "      <th>7</th>\n",
              "      <td>moving</td>\n",
              "      <td>5.0</td>\n",
              "      <td>23.0</td>\n",
              "      <td>28.0</td>\n",
              "      <td>0.178571</td>\n",
              "    </tr>\n",
              "    <tr>\n",
              "      <th>0</th>\n",
              "      <td>car</td>\n",
              "      <td>9.0</td>\n",
              "      <td>42.0</td>\n",
              "      <td>51.0</td>\n",
              "      <td>0.176471</td>\n",
              "    </tr>\n",
              "    <tr>\n",
              "      <th>6</th>\n",
              "      <td>medical</td>\n",
              "      <td>4.0</td>\n",
              "      <td>23.0</td>\n",
              "      <td>27.0</td>\n",
              "      <td>0.148148</td>\n",
              "    </tr>\n",
              "    <tr>\n",
              "      <th>1</th>\n",
              "      <td>credit_card</td>\n",
              "      <td>87.0</td>\n",
              "      <td>519.0</td>\n",
              "      <td>606.0</td>\n",
              "      <td>0.143564</td>\n",
              "    </tr>\n",
              "    <tr>\n",
              "      <th>5</th>\n",
              "      <td>major_purchase</td>\n",
              "      <td>4.0</td>\n",
              "      <td>60.0</td>\n",
              "      <td>64.0</td>\n",
              "      <td>0.062500</td>\n",
              "    </tr>\n",
              "    <tr>\n",
              "      <th>9</th>\n",
              "      <td>renewable_energy</td>\n",
              "      <td>0.0</td>\n",
              "      <td>2.0</td>\n",
              "      <td>2.0</td>\n",
              "      <td>0.000000</td>\n",
              "    </tr>\n",
              "  </tbody>\n",
              "</table>\n",
              "</div>\n",
              "    <div class=\"colab-df-buttons\">\n",
              "\n",
              "  <div class=\"colab-df-container\">\n",
              "    <button class=\"colab-df-convert\" onclick=\"convertToInteractive('df-c62cda08-a4d4-415b-a75c-bedf3fe62f26')\"\n",
              "            title=\"Convert this dataframe to an interactive table.\"\n",
              "            style=\"display:none;\">\n",
              "\n",
              "  <svg xmlns=\"http://www.w3.org/2000/svg\" height=\"24px\" viewBox=\"0 -960 960 960\">\n",
              "    <path d=\"M120-120v-720h720v720H120Zm60-500h600v-160H180v160Zm220 220h160v-160H400v160Zm0 220h160v-160H400v160ZM180-400h160v-160H180v160Zm440 0h160v-160H620v160ZM180-180h160v-160H180v160Zm440 0h160v-160H620v160Z\"/>\n",
              "  </svg>\n",
              "    </button>\n",
              "\n",
              "  <style>\n",
              "    .colab-df-container {\n",
              "      display:flex;\n",
              "      gap: 12px;\n",
              "    }\n",
              "\n",
              "    .colab-df-convert {\n",
              "      background-color: #E8F0FE;\n",
              "      border: none;\n",
              "      border-radius: 50%;\n",
              "      cursor: pointer;\n",
              "      display: none;\n",
              "      fill: #1967D2;\n",
              "      height: 32px;\n",
              "      padding: 0 0 0 0;\n",
              "      width: 32px;\n",
              "    }\n",
              "\n",
              "    .colab-df-convert:hover {\n",
              "      background-color: #E2EBFA;\n",
              "      box-shadow: 0px 1px 2px rgba(60, 64, 67, 0.3), 0px 1px 3px 1px rgba(60, 64, 67, 0.15);\n",
              "      fill: #174EA6;\n",
              "    }\n",
              "\n",
              "    .colab-df-buttons div {\n",
              "      margin-bottom: 4px;\n",
              "    }\n",
              "\n",
              "    [theme=dark] .colab-df-convert {\n",
              "      background-color: #3B4455;\n",
              "      fill: #D2E3FC;\n",
              "    }\n",
              "\n",
              "    [theme=dark] .colab-df-convert:hover {\n",
              "      background-color: #434B5C;\n",
              "      box-shadow: 0px 1px 3px 1px rgba(0, 0, 0, 0.15);\n",
              "      filter: drop-shadow(0px 1px 2px rgba(0, 0, 0, 0.3));\n",
              "      fill: #FFFFFF;\n",
              "    }\n",
              "  </style>\n",
              "\n",
              "    <script>\n",
              "      const buttonEl =\n",
              "        document.querySelector('#df-c62cda08-a4d4-415b-a75c-bedf3fe62f26 button.colab-df-convert');\n",
              "      buttonEl.style.display =\n",
              "        google.colab.kernel.accessAllowed ? 'block' : 'none';\n",
              "\n",
              "      async function convertToInteractive(key) {\n",
              "        const element = document.querySelector('#df-c62cda08-a4d4-415b-a75c-bedf3fe62f26');\n",
              "        const dataTable =\n",
              "          await google.colab.kernel.invokeFunction('convertToInteractive',\n",
              "                                                    [key], {});\n",
              "        if (!dataTable) return;\n",
              "\n",
              "        const docLinkHtml = 'Like what you see? Visit the ' +\n",
              "          '<a target=\"_blank\" href=https://colab.research.google.com/notebooks/data_table.ipynb>data table notebook</a>'\n",
              "          + ' to learn more about interactive tables.';\n",
              "        element.innerHTML = '';\n",
              "        dataTable['output_type'] = 'display_data';\n",
              "        await google.colab.output.renderOutput(dataTable, element);\n",
              "        const docLink = document.createElement('div');\n",
              "        docLink.innerHTML = docLinkHtml;\n",
              "        element.appendChild(docLink);\n",
              "      }\n",
              "    </script>\n",
              "  </div>\n",
              "\n",
              "\n",
              "<div id=\"df-fc64416c-4061-48b8-8f71-9f917b09d499\">\n",
              "  <button class=\"colab-df-quickchart\" onclick=\"quickchart('df-fc64416c-4061-48b8-8f71-9f917b09d499')\"\n",
              "            title=\"Suggest charts\"\n",
              "            style=\"display:none;\">\n",
              "\n",
              "<svg xmlns=\"http://www.w3.org/2000/svg\" height=\"24px\"viewBox=\"0 0 24 24\"\n",
              "     width=\"24px\">\n",
              "    <g>\n",
              "        <path d=\"M19 3H5c-1.1 0-2 .9-2 2v14c0 1.1.9 2 2 2h14c1.1 0 2-.9 2-2V5c0-1.1-.9-2-2-2zM9 17H7v-7h2v7zm4 0h-2V7h2v10zm4 0h-2v-4h2v4z\"/>\n",
              "    </g>\n",
              "</svg>\n",
              "  </button>\n",
              "\n",
              "<style>\n",
              "  .colab-df-quickchart {\n",
              "      --bg-color: #E8F0FE;\n",
              "      --fill-color: #1967D2;\n",
              "      --hover-bg-color: #E2EBFA;\n",
              "      --hover-fill-color: #174EA6;\n",
              "      --disabled-fill-color: #AAA;\n",
              "      --disabled-bg-color: #DDD;\n",
              "  }\n",
              "\n",
              "  [theme=dark] .colab-df-quickchart {\n",
              "      --bg-color: #3B4455;\n",
              "      --fill-color: #D2E3FC;\n",
              "      --hover-bg-color: #434B5C;\n",
              "      --hover-fill-color: #FFFFFF;\n",
              "      --disabled-bg-color: #3B4455;\n",
              "      --disabled-fill-color: #666;\n",
              "  }\n",
              "\n",
              "  .colab-df-quickchart {\n",
              "    background-color: var(--bg-color);\n",
              "    border: none;\n",
              "    border-radius: 50%;\n",
              "    cursor: pointer;\n",
              "    display: none;\n",
              "    fill: var(--fill-color);\n",
              "    height: 32px;\n",
              "    padding: 0;\n",
              "    width: 32px;\n",
              "  }\n",
              "\n",
              "  .colab-df-quickchart:hover {\n",
              "    background-color: var(--hover-bg-color);\n",
              "    box-shadow: 0 1px 2px rgba(60, 64, 67, 0.3), 0 1px 3px 1px rgba(60, 64, 67, 0.15);\n",
              "    fill: var(--button-hover-fill-color);\n",
              "  }\n",
              "\n",
              "  .colab-df-quickchart-complete:disabled,\n",
              "  .colab-df-quickchart-complete:disabled:hover {\n",
              "    background-color: var(--disabled-bg-color);\n",
              "    fill: var(--disabled-fill-color);\n",
              "    box-shadow: none;\n",
              "  }\n",
              "\n",
              "  .colab-df-spinner {\n",
              "    border: 2px solid var(--fill-color);\n",
              "    border-color: transparent;\n",
              "    border-bottom-color: var(--fill-color);\n",
              "    animation:\n",
              "      spin 1s steps(1) infinite;\n",
              "  }\n",
              "\n",
              "  @keyframes spin {\n",
              "    0% {\n",
              "      border-color: transparent;\n",
              "      border-bottom-color: var(--fill-color);\n",
              "      border-left-color: var(--fill-color);\n",
              "    }\n",
              "    20% {\n",
              "      border-color: transparent;\n",
              "      border-left-color: var(--fill-color);\n",
              "      border-top-color: var(--fill-color);\n",
              "    }\n",
              "    30% {\n",
              "      border-color: transparent;\n",
              "      border-left-color: var(--fill-color);\n",
              "      border-top-color: var(--fill-color);\n",
              "      border-right-color: var(--fill-color);\n",
              "    }\n",
              "    40% {\n",
              "      border-color: transparent;\n",
              "      border-right-color: var(--fill-color);\n",
              "      border-top-color: var(--fill-color);\n",
              "    }\n",
              "    60% {\n",
              "      border-color: transparent;\n",
              "      border-right-color: var(--fill-color);\n",
              "    }\n",
              "    80% {\n",
              "      border-color: transparent;\n",
              "      border-right-color: var(--fill-color);\n",
              "      border-bottom-color: var(--fill-color);\n",
              "    }\n",
              "    90% {\n",
              "      border-color: transparent;\n",
              "      border-bottom-color: var(--fill-color);\n",
              "    }\n",
              "  }\n",
              "</style>\n",
              "\n",
              "  <script>\n",
              "    async function quickchart(key) {\n",
              "      const quickchartButtonEl =\n",
              "        document.querySelector('#' + key + ' button');\n",
              "      quickchartButtonEl.disabled = true;  // To prevent multiple clicks.\n",
              "      quickchartButtonEl.classList.add('colab-df-spinner');\n",
              "      try {\n",
              "        const charts = await google.colab.kernel.invokeFunction(\n",
              "            'suggestCharts', [key], {});\n",
              "      } catch (error) {\n",
              "        console.error('Error during call to suggestCharts:', error);\n",
              "      }\n",
              "      quickchartButtonEl.classList.remove('colab-df-spinner');\n",
              "      quickchartButtonEl.classList.add('colab-df-quickchart-complete');\n",
              "    }\n",
              "    (() => {\n",
              "      let quickchartButtonEl =\n",
              "        document.querySelector('#df-fc64416c-4061-48b8-8f71-9f917b09d499 button');\n",
              "      quickchartButtonEl.style.display =\n",
              "        google.colab.kernel.accessAllowed ? 'block' : 'none';\n",
              "    })();\n",
              "  </script>\n",
              "</div>\n",
              "\n",
              "    </div>\n",
              "  </div>\n"
            ],
            "application/vnd.google.colaboratory.intrinsic+json": {
              "type": "dataframe",
              "summary": "{\n  \"name\": \"purpose_vs_loan\",\n  \"rows\": 13,\n  \"fields\": [\n    {\n      \"column\": \"purpose\",\n      \"properties\": {\n        \"dtype\": \"string\",\n        \"num_unique_values\": 13,\n        \"samples\": [\n          \"major_purchase\",\n          \"medical\",\n          \"small_business\"\n        ],\n        \"semantic_type\": \"\",\n        \"description\": \"\"\n      }\n    },\n    {\n      \"column\": \"Charged Off\",\n      \"properties\": {\n        \"dtype\": \"number\",\n        \"std\": 72.18432602079847,\n        \"min\": 0.0,\n        \"max\": 263.0,\n        \"num_unique_values\": 11,\n        \"samples\": [\n          3.0,\n          24.0,\n          87.0\n        ],\n        \"semantic_type\": \"\",\n        \"description\": \"\"\n      }\n    },\n    {\n      \"column\": \"Fully Paid\",\n      \"properties\": {\n        \"dtype\": \"number\",\n        \"std\": 301.9031726249753,\n        \"min\": 2.0,\n        \"max\": 1055.0,\n        \"num_unique_values\": 12,\n        \"samples\": [\n          60.0,\n          519.0,\n          54.0\n        ],\n        \"semantic_type\": \"\",\n        \"description\": \"\"\n      }\n    },\n    {\n      \"column\": \"Total\",\n      \"properties\": {\n        \"dtype\": \"number\",\n        \"std\": 373.26952865944077,\n        \"min\": 2.0,\n        \"max\": 1318.0,\n        \"num_unique_values\": 13,\n        \"samples\": [\n          64.0,\n          27.0,\n          78.0\n        ],\n        \"semantic_type\": \"\",\n        \"description\": \"\"\n      }\n    },\n    {\n      \"column\": \"Chargedoff_Proportion\",\n      \"properties\": {\n        \"dtype\": \"number\",\n        \"std\": 0.07530111428823477,\n        \"min\": 0.0,\n        \"max\": 0.3076923076923077,\n        \"num_unique_values\": 13,\n        \"samples\": [\n          0.0625,\n          0.14814814814814814,\n          0.3076923076923077\n        ],\n        \"semantic_type\": \"\",\n        \"description\": \"\"\n      }\n    }\n  ]\n}"
            }
          },
          "metadata": {},
          "execution_count": 42
        }
      ]
    },
    {
      "cell_type": "code",
      "source": [
        "fig, ax1 = plt.subplots(figsize=(12, 8),facecolor='b')\n",
        "ax1.set_title('Purpose vs Chargedoff Proportion',fontsize=15,color='w')\n",
        "ax1=sns.barplot(x='purpose', y='Chargedoff_Proportion', data=purpose_vs_loan)\n",
        "ax1.set_xlabel('Purchase of Loan',fontsize=14,color='w')\n",
        "ax1.set_ylabel('Chargedoff Proportion',fontsize=14,color = 'w')\n",
        "plt.xticks(rotation=45)\n",
        "plt.show()"
      ],
      "metadata": {
        "colab": {
          "base_uri": "https://localhost:8080/",
          "height": 656
        },
        "id": "N0bsXCpNMNT2",
        "outputId": "4f2b403b-4155-4558-ac2b-ccdb4e83b227"
      },
      "execution_count": null,
      "outputs": [
        {
          "output_type": "display_data",
          "data": {
            "text/plain": [
              "<Figure size 1200x800 with 1 Axes>"
            ],
            "image/png": "[encoded data removed]"
          },
          "metadata": {}
        }
      ]
    },
    {
      "cell_type": "markdown",
      "source": [
        "#1. Those applicants who is having home loan is having low chances of loan defaults.\n",
        "#2. Those applicants having loan for small bussiness is having high chances for loan defaults."
      ],
      "metadata": {
        "id": "_OoPEydVMdcv"
      }
    },
    {
      "cell_type": "code",
      "source": [
        "#Bivariate Analysis on DTI against Chargedoff_Proportion -\n",
        "\n",
        "dti_vs_loan = filtered.groupby(['dti_b', 'loan_status']).loan_status.count().unstack().fillna(0).reset_index()\n",
        "dti_vs_loan['Total'] = dti_vs_loan['Charged Off']+ dti_vs_loan['Fully Paid']\n",
        "dti_vs_loan['Chargedoff_Proportion'] = dti_vs_loan['Charged Off'] / dti_vs_loan['Total']\n",
        "dti_vs_loan.sort_values('Chargedoff_Proportion', ascending=False)"
      ],
      "metadata": {
        "colab": {
          "base_uri": "https://localhost:8080/",
          "height": 206
        },
        "id": "nBDXErLQMfFR",
        "outputId": "013ecfb0-263b-4141-fb54-a74bbf268ef1"
      },
      "execution_count": null,
      "outputs": [
        {
          "output_type": "execute_result",
          "data": {
            "text/plain": [
              "loan_status      dti_b  Charged Off  Fully Paid  Total  Chargedoff_Proportion\n",
              "3            Very High          134         424    558               0.240143\n",
              "2             Moderate          101         396    497               0.203219\n",
              "0                 High           94         446    540               0.174074\n",
              "4             Very Low           70         372    442               0.158371\n",
              "1                  Low           70         413    483               0.144928"
            ],
            "text/html": [
              "\n",
              "  <div id=\"df-ea1acf5b-c4f2-4f42-937f-90cf69b8988f\" class=\"colab-df-container\">\n",
              "    <div>\n",
              "<style scoped>\n",
              "    .dataframe tbody tr th:only-of-type {\n",
              "        vertical-align: middle;\n",
              "    }\n",
              "\n",
              "    .dataframe tbody tr th {\n",
              "        vertical-align: top;\n",
              "    }\n",
              "\n",
              "    .dataframe thead th {\n",
              "        text-align: right;\n",
              "    }\n",
              "</style>\n",
              "<table border=\"1\" class=\"dataframe\">\n",
              "  <thead>\n",
              "    <tr style=\"text-align: right;\">\n",
              "      <th>loan_status</th>\n",
              "      <th>dti_b</th>\n",
              "      <th>Charged Off</th>\n",
              "      <th>Fully Paid</th>\n",
              "      <th>Total</th>\n",
              "      <th>Chargedoff_Proportion</th>\n",
              "    </tr>\n",
              "  </thead>\n",
              "  <tbody>\n",
              "    <tr>\n",
              "      <th>3</th>\n",
              "      <td>Very High</td>\n",
              "      <td>134</td>\n",
              "      <td>424</td>\n",
              "      <td>558</td>\n",
              "      <td>0.240143</td>\n",
              "    </tr>\n",
              "    <tr>\n",
              "      <th>2</th>\n",
              "      <td>Moderate</td>\n",
              "      <td>101</td>\n",
              "      <td>396</td>\n",
              "      <td>497</td>\n",
              "      <td>0.203219</td>\n",
              "    </tr>\n",
              "    <tr>\n",
              "      <th>0</th>\n",
              "      <td>High</td>\n",
              "      <td>94</td>\n",
              "      <td>446</td>\n",
              "      <td>540</td>\n",
              "      <td>0.174074</td>\n",
              "    </tr>\n",
              "    <tr>\n",
              "      <th>4</th>\n",
              "      <td>Very Low</td>\n",
              "      <td>70</td>\n",
              "      <td>372</td>\n",
              "      <td>442</td>\n",
              "      <td>0.158371</td>\n",
              "    </tr>\n",
              "    <tr>\n",
              "      <th>1</th>\n",
              "      <td>Low</td>\n",
              "      <td>70</td>\n",
              "      <td>413</td>\n",
              "      <td>483</td>\n",
              "      <td>0.144928</td>\n",
              "    </tr>\n",
              "  </tbody>\n",
              "</table>\n",
              "</div>\n",
              "    <div class=\"colab-df-buttons\">\n",
              "\n",
              "  <div class=\"colab-df-container\">\n",
              "    <button class=\"colab-df-convert\" onclick=\"convertToInteractive('df-ea1acf5b-c4f2-4f42-937f-90cf69b8988f')\"\n",
              "            title=\"Convert this dataframe to an interactive table.\"\n",
              "            style=\"display:none;\">\n",
              "\n",
              "  <svg xmlns=\"http://www.w3.org/2000/svg\" height=\"24px\" viewBox=\"0 -960 960 960\">\n",
              "    <path d=\"M120-120v-720h720v720H120Zm60-500h600v-160H180v160Zm220 220h160v-160H400v160Zm0 220h160v-160H400v160ZM180-400h160v-160H180v160Zm440 0h160v-160H620v160ZM180-180h160v-160H180v160Zm440 0h160v-160H620v160Z\"/>\n",
              "  </svg>\n",
              "    </button>\n",
              "\n",
              "  <style>\n",
              "    .colab-df-container {\n",
              "      display:flex;\n",
              "      gap: 12px;\n",
              "    }\n",
              "\n",
              "    .colab-df-convert {\n",
              "      background-color: #E8F0FE;\n",
              "      border: none;\n",
              "      border-radius: 50%;\n",
              "      cursor: pointer;\n",
              "      display: none;\n",
              "      fill: #1967D2;\n",
              "      height: 32px;\n",
              "      padding: 0 0 0 0;\n",
              "      width: 32px;\n",
              "    }\n",
              "\n",
              "    .colab-df-convert:hover {\n",
              "      background-color: #E2EBFA;\n",
              "      box-shadow: 0px 1px 2px rgba(60, 64, 67, 0.3), 0px 1px 3px 1px rgba(60, 64, 67, 0.15);\n",
              "      fill: #174EA6;\n",
              "    }\n",
              "\n",
              "    .colab-df-buttons div {\n",
              "      margin-bottom: 4px;\n",
              "    }\n",
              "\n",
              "    [theme=dark] .colab-df-convert {\n",
              "      background-color: #3B4455;\n",
              "      fill: #D2E3FC;\n",
              "    }\n",
              "\n",
              "    [theme=dark] .colab-df-convert:hover {\n",
              "      background-color: #434B5C;\n",
              "      box-shadow: 0px 1px 3px 1px rgba(0, 0, 0, 0.15);\n",
              "      filter: drop-shadow(0px 1px 2px rgba(0, 0, 0, 0.3));\n",
              "      fill: #FFFFFF;\n",
              "    }\n",
              "  </style>\n",
              "\n",
              "    <script>\n",
              "      const buttonEl =\n",
              "        document.querySelector('#df-ea1acf5b-c4f2-4f42-937f-90cf69b8988f button.colab-df-convert');\n",
              "      buttonEl.style.display =\n",
              "        google.colab.kernel.accessAllowed ? 'block' : 'none';\n",
              "\n",
              "      async function convertToInteractive(key) {\n",
              "        const element = document.querySelector('#df-ea1acf5b-c4f2-4f42-937f-90cf69b8988f');\n",
              "        const dataTable =\n",
              "          await google.colab.kernel.invokeFunction('convertToInteractive',\n",
              "                                                    [key], {});\n",
              "        if (!dataTable) return;\n",
              "\n",
              "        const docLinkHtml = 'Like what you see? Visit the ' +\n",
              "          '<a target=\"_blank\" href=https://colab.research.google.com/notebooks/data_table.ipynb>data table notebook</a>'\n",
              "          + ' to learn more about interactive tables.';\n",
              "        element.innerHTML = '';\n",
              "        dataTable['output_type'] = 'display_data';\n",
              "        await google.colab.output.renderOutput(dataTable, element);\n",
              "        const docLink = document.createElement('div');\n",
              "        docLink.innerHTML = docLinkHtml;\n",
              "        element.appendChild(docLink);\n",
              "      }\n",
              "    </script>\n",
              "  </div>\n",
              "\n",
              "\n",
              "<div id=\"df-cd2a8cd2-ce25-42df-9e7e-5355f7ac1d88\">\n",
              "  <button class=\"colab-df-quickchart\" onclick=\"quickchart('df-cd2a8cd2-ce25-42df-9e7e-5355f7ac1d88')\"\n",
              "            title=\"Suggest charts\"\n",
              "            style=\"display:none;\">\n",
              "\n",
              "<svg xmlns=\"http://www.w3.org/2000/svg\" height=\"24px\"viewBox=\"0 0 24 24\"\n",
              "     width=\"24px\">\n",
              "    <g>\n",
              "        <path d=\"M19 3H5c-1.1 0-2 .9-2 2v14c0 1.1.9 2 2 2h14c1.1 0 2-.9 2-2V5c0-1.1-.9-2-2-2zM9 17H7v-7h2v7zm4 0h-2V7h2v10zm4 0h-2v-4h2v4z\"/>\n",
              "    </g>\n",
              "</svg>\n",
              "  </button>\n",
              "\n",
              "<style>\n",
              "  .colab-df-quickchart {\n",
              "      --bg-color: #E8F0FE;\n",
              "      --fill-color: #1967D2;\n",
              "      --hover-bg-color: #E2EBFA;\n",
              "      --hover-fill-color: #174EA6;\n",
              "      --disabled-fill-color: #AAA;\n",
              "      --disabled-bg-color: #DDD;\n",
              "  }\n",
              "\n",
              "  [theme=dark] .colab-df-quickchart {\n",
              "      --bg-color: #3B4455;\n",
              "      --fill-color: #D2E3FC;\n",
              "      --hover-bg-color: #434B5C;\n",
              "      --hover-fill-color: #FFFFFF;\n",
              "      --disabled-bg-color: #3B4455;\n",
              "      --disabled-fill-color: #666;\n",
              "  }\n",
              "\n",
              "  .colab-df-quickchart {\n",
              "    background-color: var(--bg-color);\n",
              "    border: none;\n",
              "    border-radius: 50%;\n",
              "    cursor: pointer;\n",
              "    display: none;\n",
              "    fill: var(--fill-color);\n",
              "    height: 32px;\n",
              "    padding: 0;\n",
              "    width: 32px;\n",
              "  }\n",
              "\n",
              "  .colab-df-quickchart:hover {\n",
              "    background-color: var(--hover-bg-color);\n",
              "    box-shadow: 0 1px 2px rgba(60, 64, 67, 0.3), 0 1px 3px 1px rgba(60, 64, 67, 0.15);\n",
              "    fill: var(--button-hover-fill-color);\n",
              "  }\n",
              "\n",
              "  .colab-df-quickchart-complete:disabled,\n",
              "  .colab-df-quickchart-complete:disabled:hover {\n",
              "    background-color: var(--disabled-bg-color);\n",
              "    fill: var(--disabled-fill-color);\n",
              "    box-shadow: none;\n",
              "  }\n",
              "\n",
              "  .colab-df-spinner {\n",
              "    border: 2px solid var(--fill-color);\n",
              "    border-color: transparent;\n",
              "    border-bottom-color: var(--fill-color);\n",
              "    animation:\n",
              "      spin 1s steps(1) infinite;\n",
              "  }\n",
              "\n",
              "  @keyframes spin {\n",
              "    0% {\n",
              "      border-color: transparent;\n",
              "      border-bottom-color: var(--fill-color);\n",
              "      border-left-color: var(--fill-color);\n",
              "    }\n",
              "    20% {\n",
              "      border-color: transparent;\n",
              "      border-left-color: var(--fill-color);\n",
              "      border-top-color: var(--fill-color);\n",
              "    }\n",
              "    30% {\n",
              "      border-color: transparent;\n",
              "      border-left-color: var(--fill-color);\n",
              "      border-top-color: var(--fill-color);\n",
              "      border-right-color: var(--fill-color);\n",
              "    }\n",
              "    40% {\n",
              "      border-color: transparent;\n",
              "      border-right-color: var(--fill-color);\n",
              "      border-top-color: var(--fill-color);\n",
              "    }\n",
              "    60% {\n",
              "      border-color: transparent;\n",
              "      border-right-color: var(--fill-color);\n",
              "    }\n",
              "    80% {\n",
              "      border-color: transparent;\n",
              "      border-right-color: var(--fill-color);\n",
              "      border-bottom-color: var(--fill-color);\n",
              "    }\n",
              "    90% {\n",
              "      border-color: transparent;\n",
              "      border-bottom-color: var(--fill-color);\n",
              "    }\n",
              "  }\n",
              "</style>\n",
              "\n",
              "  <script>\n",
              "    async function quickchart(key) {\n",
              "      const quickchartButtonEl =\n",
              "        document.querySelector('#' + key + ' button');\n",
              "      quickchartButtonEl.disabled = true;  // To prevent multiple clicks.\n",
              "      quickchartButtonEl.classList.add('colab-df-spinner');\n",
              "      try {\n",
              "        const charts = await google.colab.kernel.invokeFunction(\n",
              "            'suggestCharts', [key], {});\n",
              "      } catch (error) {\n",
              "        console.error('Error during call to suggestCharts:', error);\n",
              "      }\n",
              "      quickchartButtonEl.classList.remove('colab-df-spinner');\n",
              "      quickchartButtonEl.classList.add('colab-df-quickchart-complete');\n",
              "    }\n",
              "    (() => {\n",
              "      let quickchartButtonEl =\n",
              "        document.querySelector('#df-cd2a8cd2-ce25-42df-9e7e-5355f7ac1d88 button');\n",
              "      quickchartButtonEl.style.display =\n",
              "        google.colab.kernel.accessAllowed ? 'block' : 'none';\n",
              "    })();\n",
              "  </script>\n",
              "</div>\n",
              "\n",
              "    </div>\n",
              "  </div>\n"
            ],
            "application/vnd.google.colaboratory.intrinsic+json": {
              "type": "dataframe",
              "summary": "{\n  \"name\": \"dti_vs_loan\",\n  \"rows\": 5,\n  \"fields\": [\n    {\n      \"column\": \"dti_b\",\n      \"properties\": {\n        \"dtype\": \"string\",\n        \"num_unique_values\": 5,\n        \"samples\": [\n          \"Moderate\",\n          \"Low\",\n          \"High\"\n        ],\n        \"semantic_type\": \"\",\n        \"description\": \"\"\n      }\n    },\n    {\n      \"column\": \"Charged Off\",\n      \"properties\": {\n        \"dtype\": \"number\",\n        \"std\": 26,\n        \"min\": 70,\n        \"max\": 134,\n        \"num_unique_values\": 4,\n        \"samples\": [\n          101,\n          70,\n          134\n        ],\n        \"semantic_type\": \"\",\n        \"description\": \"\"\n      }\n    },\n    {\n      \"column\": \"Fully Paid\",\n      \"properties\": {\n        \"dtype\": \"number\",\n        \"std\": 28,\n        \"min\": 372,\n        \"max\": 446,\n        \"num_unique_values\": 5,\n        \"samples\": [\n          396,\n          413,\n          446\n        ],\n        \"semantic_type\": \"\",\n        \"description\": \"\"\n      }\n    },\n    {\n      \"column\": \"Total\",\n      \"properties\": {\n        \"dtype\": \"number\",\n        \"std\": 46,\n        \"min\": 442,\n        \"max\": 558,\n        \"num_unique_values\": 5,\n        \"samples\": [\n          497,\n          483,\n          540\n        ],\n        \"semantic_type\": \"\",\n        \"description\": \"\"\n      }\n    },\n    {\n      \"column\": \"Chargedoff_Proportion\",\n      \"properties\": {\n        \"dtype\": \"number\",\n        \"std\": 0.038089948956417964,\n        \"min\": 0.14492753623188406,\n        \"max\": 0.24014336917562723,\n        \"num_unique_values\": 5,\n        \"samples\": [\n          0.20321931589537223,\n          0.14492753623188406,\n          0.17407407407407408\n        ],\n        \"semantic_type\": \"\",\n        \"description\": \"\"\n      }\n    }\n  ]\n}"
            }
          },
          "metadata": {},
          "execution_count": 44
        }
      ]
    },
    {
      "cell_type": "code",
      "source": [
        "fig, ax1 = plt.subplots(figsize=(12, 8),facecolor='b')\n",
        "ax1.set_title('Debt To Income Ratio vs Chargedoff Proportion',fontsize=15,color='w')\n",
        "ax1=sns.barplot(x='dti_b', y='Chargedoff_Proportion', data=dti_vs_loan)\n",
        "ax1.set_xlabel('Debt To Income Ratio',fontsize=14,color='w')\n",
        "ax1.set_ylabel('Chargedoff Proportion',fontsize=14,color = 'w')\n",
        "plt.xticks(rotation=45)\n",
        "plt.show()"
      ],
      "metadata": {
        "colab": {
          "base_uri": "https://localhost:8080/",
          "height": 615
        },
        "id": "FnYC0Rn8NIvP",
        "outputId": "b417a12c-ada7-40fc-9dba-c0b9f0bcb196"
      },
      "execution_count": null,
      "outputs": [
        {
          "output_type": "display_data",
          "data": {
            "text/plain": [
              "<Figure size 1200x800 with 1 Axes>"
            ],
            "image/png": "[encoded data removed]"
          },
          "metadata": {}
        }
      ]
    },
    {
      "cell_type": "markdown",
      "source": [
        "# Observation:\n",
        "#1.High DTI value  having high risk of defaults\n",
        "# 2 Lower the DIT having low chances loan defaults."
      ],
      "metadata": {
        "id": "M1sIIP_YNT6P"
      }
    },
    {
      "cell_type": "code",
      "source": [
        "# #Bivariate Analysis on Bankruptcies Record against Chargedoff_Proportion -\n",
        "pub_rec_bankruptcies_vs_loan = filtered.groupby(['pub_rec_bankruptcies', 'loan_status']).loan_status.count().unstack().fillna(0).reset_index()\n",
        "pub_rec_bankruptcies_vs_loan['Total'] = pub_rec_bankruptcies_vs_loan['Charged Off']+ pub_rec_bankruptcies_vs_loan['Fully Paid']\n",
        "pub_rec_bankruptcies_vs_loan['Chargedoff_Proportion'] = pub_rec_bankruptcies_vs_loan['Charged Off'] / pub_rec_bankruptcies_vs_loan['Total']\n",
        "pub_rec_bankruptcies_vs_loan.sort_values('Chargedoff_Proportion', ascending=False)\n",
        "\n",
        "\n",
        "# graph\n",
        "fig, ax1 = plt.subplots(figsize=(12, 8),facecolor='b')\n",
        "ax1.set_title('Bankruptcies Record vs Chargedoff Proportion',fontsize=15,color='w')\n",
        "ax1=sns.barplot(x='pub_rec_bankruptcies', y='Chargedoff_Proportion', data=pub_rec_bankruptcies_vs_loan)\n",
        "ax1.set_xlabel('Bankruptcies Record To Income Ratio',fontsize=14,color='w')\n",
        "ax1.set_ylabel('Chargedoff Proportion',fontsize=14,color = 'w')\n",
        "plt.xticks(rotation=45)\n",
        "plt.show()"
      ],
      "metadata": {
        "colab": {
          "base_uri": "https://localhost:8080/",
          "height": 590
        },
        "id": "FMR4Qt_wNOIa",
        "outputId": "a932a971-1097-46c8-9b5b-ed6df222a55e"
      },
      "execution_count": null,
      "outputs": [
        {
          "output_type": "display_data",
          "data": {
            "text/plain": [
              "<Figure size 1200x800 with 1 Axes>"
            ],
            "image/png": "[encoded data removed]"
          },
          "metadata": {}
        }
      ]
    },
    {
      "cell_type": "markdown",
      "source": [
        "# Observations:\n",
        "#1.Bankruptcies Record with 2 is having high impact on loan defaults\n",
        "# 2.Bankruptcies Record with 0 is low impact on loan defaults\n",
        "# 3.Lower the Bankruptcies lower the risk."
      ],
      "metadata": {
        "id": "L64Pu-clPa4k"
      }
    },
    {
      "cell_type": "code",
      "source": [
        "# #Bivariate Analysis on Issues of Year  against Chargedoff_Proportion -\n",
        "\n",
        "issue_year_vs_loan = filtered.groupby(['issue_year', 'loan_status']).loan_status.count().unstack().fillna(0).reset_index()\n",
        "issue_year_vs_loan['Total'] = issue_year_vs_loan['Charged Off']+ issue_year_vs_loan['Fully Paid']\n",
        "issue_year_vs_loan['Chargedoff_Proportion'] = issue_year_vs_loan['Charged Off'] / issue_year_vs_loan['Total']\n",
        "issue_year_vs_loan.sort_values('Chargedoff_Proportion', ascending=False)\n",
        "\n",
        "\n",
        "# graph\n",
        "fig, ax1 = plt.subplots(figsize=(12, 8),facecolor='b')\n",
        "ax1.set_title('Issues Year  vs Chargedoff Proportion',fontsize=15,color='w')\n",
        "ax1=sns.barplot(x='issue_year', y='Chargedoff_Proportion', data=issue_year_vs_loan)\n",
        "ax1.set_xlabel('Year',fontsize=14,color='w')\n",
        "ax1.set_ylabel('Chargedoff Proportion',fontsize=14,color = 'w')\n",
        "plt.xticks(rotation=45)\n",
        "plt.show()"
      ],
      "metadata": {
        "colab": {
          "base_uri": "https://localhost:8080/",
          "height": 593
        },
        "id": "0vitEsBuPcBd",
        "outputId": "9a14260c-4a5d-41b3-e245-51f8fed59625"
      },
      "execution_count": null,
      "outputs": [
        {
          "output_type": "display_data",
          "data": {
            "text/plain": [
              "<Figure size 1200x800 with 1 Axes>"
            ],
            "image/png": "[encoded data removed]"
          },
          "metadata": {}
        }
      ]
    },
    {
      "cell_type": "markdown",
      "source": [
        "    # Year 2007 is highest loan defaults.\n",
        "    # 2009 is having lowest loan defaults."
      ],
      "metadata": {
        "id": "3BlJ4lkOW-Zs"
      }
    },
    {
      "cell_type": "code",
      "source": [
        "# #Bivariate Analysis on Month of Issue of loan Record against Chargedoff_Proportion -\n",
        "\n",
        "issue_month_vs_loan = filtered.groupby(['issue_month', 'loan_status']).loan_status.count().unstack().fillna(0).reset_index()\n",
        "issue_month_vs_loan['Total'] = issue_month_vs_loan['Charged Off']+ issue_month_vs_loan['Fully Paid']\n",
        "issue_month_vs_loan['Chargedoff_Proportion'] = issue_month_vs_loan['Charged Off'] / issue_month_vs_loan['Total']\n",
        "issue_month_vs_loan.sort_values('Chargedoff_Proportion', ascending=False)\n",
        "\n",
        "\n",
        "# graph\n",
        "fig, ax1 = plt.subplots(figsize=(12, 8),facecolor='b')\n",
        "ax1.set_title('Issue Month  vs Chargedoff Proportion',fontsize=15,color='w')\n",
        "ax1=sns.barplot(x='issue_month', y='Chargedoff_Proportion', data=issue_month_vs_loan)\n",
        "ax1.set_xlabel('Issue Month ',fontsize=14,color='w')\n",
        "ax1.set_ylabel('Chargedoff Proportion',fontsize=14,color = 'w')\n",
        "plt.xticks(rotation=45)\n",
        "plt.show()"
      ],
      "metadata": {
        "id": "Rl1zJnA5W9P3",
        "colab": {
          "base_uri": "https://localhost:8080/",
          "height": 584
        },
        "outputId": "f7a52969-0902-4edd-d6c8-16e62304e99b"
      },
      "execution_count": null,
      "outputs": [
        {
          "output_type": "display_data",
          "data": {
            "text/plain": [
              "<Figure size 1200x800 with 1 Axes>"
            ],
            "image/png": "[encoded data removed]"
          },
          "metadata": {}
        }
      ]
    },
    {
      "cell_type": "code",
      "source": [
        "# 1. Those loan has been issued in May, September and december is having high number of loan defaults\n",
        "# 2. Those loan has been issued in month of February is having high number of loan defaults\n",
        "#3. Majority of loan defaults comig from applicants whose loan has been aprroved from September-to Deceber"
      ],
      "metadata": {
        "id": "2z5vO1Z6Xk9m"
      },
      "execution_count": null,
      "outputs": []
    },
    {
      "cell_type": "code",
      "source": [
        "# #Bivariate Analysis on Address state  against Chargedoff_Proportion -\n",
        "\n",
        "addr_state_vs_loan = filtered.groupby(['addr_state', 'loan_status']).loan_status.count().unstack().fillna(0).reset_index()\n",
        "addr_state_vs_loan['Total'] = addr_state_vs_loan['Charged Off']+ addr_state_vs_loan['Fully Paid']\n",
        "addr_state_vs_loan['Chargedoff_Proportion'] = addr_state_vs_loan['Charged Off'] / addr_state_vs_loan['Total']\n",
        "addr_state_vs_loan.sort_values('Chargedoff_Proportion', ascending=False)\n",
        "\n",
        "# graph\n",
        "fig, ax1 = plt.subplots(figsize=(12, 8),facecolor='b')\n",
        "ax1.set_title('State  vs Chargedoff Proportion',fontsize=15,color='w')\n",
        "ax1=sns.barplot(x='addr_state', y='Chargedoff_Proportion', data=addr_state_vs_loan)\n",
        "ax1.set_xlabel('State ',fontsize=14,color='w')\n",
        "ax1.set_ylabel('Chargedoff Proportion',fontsize=14,color = 'w')\n",
        "plt.xticks(rotation=45)\n",
        "plt.show()"
      ],
      "metadata": {
        "colab": {
          "base_uri": "https://localhost:8080/",
          "height": 590
        },
        "id": "c6j159gIXwqf",
        "outputId": "192b23e6-fded-4ae0-9c07-e9c7939e10a8"
      },
      "execution_count": null,
      "outputs": [
        {
          "output_type": "display_data",
          "data": {
            "text/plain": [
              "<Figure size 1200x800 with 1 Axes>"
            ],
            "image/png": "[encoded data removed]"
          },
          "metadata": {}
        }
      ]
    },
    {
      "cell_type": "markdown",
      "source": [
        "# Observations:\n",
        "# 1.NE States is holding highest number of loan defaults.\n"
      ],
      "metadata": {
        "id": "vK6kU0ASYcZk"
      }
    },
    {
      "cell_type": "code",
      "source": [
        "# #Bivariate Analysis on Grade against Chargedoff_Proportion -\n",
        "\n",
        "grade_vs_loan = filtered.groupby(['grade', 'loan_status']).loan_status.count().unstack().fillna(0).reset_index()\n",
        "grade_vs_loan['Total'] = grade_vs_loan['Charged Off']+ grade_vs_loan['Fully Paid']\n",
        "grade_vs_loan['Chargedoff_Proportion'] = grade_vs_loan['Charged Off'] / grade_vs_loan['Total']\n",
        "grade_vs_loan.sort_values('Chargedoff_Proportion', ascending=False)\n",
        "\n",
        "\n",
        "# graph\n",
        "fig, ax1 = plt.subplots(figsize=(12, 8),facecolor='b')\n",
        "ax1.set_title('Grade  vs Chargedoff Proportion',fontsize=15,color='w')\n",
        "ax1=sns.barplot(x='grade', y='Chargedoff_Proportion', data=grade_vs_loan)\n",
        "ax1.set_xlabel('Grade ',fontsize=14,color='w')\n",
        "ax1.set_ylabel('Chargedoff Proportion',fontsize=14,color = 'w')\n",
        "plt.xticks(rotation=45)\n",
        "plt.show()"
      ],
      "metadata": {
        "colab": {
          "base_uri": "https://localhost:8080/",
          "height": 589
        },
        "id": "qjcOO1qKYtjR",
        "outputId": "1c756e3c-7ef2-4147-b43e-f776e7ec078d"
      },
      "execution_count": null,
      "outputs": [
        {
          "output_type": "display_data",
          "data": {
            "text/plain": [
              "<Figure size 1200x800 with 1 Axes>"
            ],
            "image/png": "[encoded data removed]"
          },
          "metadata": {}
        }
      ]
    },
    {
      "cell_type": "markdown",
      "source": [
        "    # observations :\n",
        "    # 1. The Loan applicants with loan Grade G is having higest Loan    Defaults.\n",
        "    #2. The Loan applicants with loan A is having lowest Loan Defaults."
      ],
      "metadata": {
        "id": "W8T0m_B0Y6O3"
      }
    },
    {
      "cell_type": "markdown",
      "source": [],
      "metadata": {
        "id": "2cnke-qtY9Po"
      }
    },
    {
      "cell_type": "markdown",
      "source": [
        "**Correlation Analysis**"
      ],
      "metadata": {
        "id": "9IMXA8BYZGvF"
      }
    },
    {
      "cell_type": "code",
      "source": [
        "corr_loan = loan_df\n",
        "corr = corr_loan.corr()\n",
        "sns.set(font_scale=1.1)\n",
        "sns.clustermap(corr, annot=True, figsize=(12, 8), cmap=\"Blues\")\n",
        "plot.show()"
      ],
      "metadata": {
        "id": "6ZL80SbTZbog",
        "colab": {
          "base_uri": "https://localhost:8080/",
          "height": 158
        },
        "outputId": "c1ce72f9-fee9-4446-c60e-aef772092262"
      },
      "execution_count": null,
      "outputs": [
        {
          "output_type": "error",
          "ename": "NameError",
          "evalue": "name 'corr_loan' is not defined",
          "traceback": [
            "\u001b[0;31m---------------------------------------------------------------------------\u001b[0m",
            "\u001b[0;31mNameError\u001b[0m                                 Traceback (most recent call last)",
            "\u001b[0;32m<ipython-input-52-0e0a01ee5bfc>\u001b[0m in \u001b[0;36m<cell line: 2>\u001b[0;34m()\u001b[0m\n\u001b[1;32m      1\u001b[0m \u001b[0mdrop_columns\u001b[0m \u001b[0;34m=\u001b[0m \u001b[0;34m[\u001b[0m\u001b[0;34m'installment'\u001b[0m\u001b[0;34m,\u001b[0m \u001b[0;34m'id'\u001b[0m\u001b[0;34m,\u001b[0m \u001b[0;34m'issue_year'\u001b[0m\u001b[0;34m,\u001b[0m \u001b[0;34m'issue_month'\u001b[0m\u001b[0;34m]\u001b[0m\u001b[0;34m\u001b[0m\u001b[0;34m\u001b[0m\u001b[0m\n\u001b[0;32m----> 2\u001b[0;31m \u001b[0mcorr_loan\u001b[0m \u001b[0;34m=\u001b[0m \u001b[0mcorr_loan\u001b[0m\u001b[0;34m.\u001b[0m\u001b[0mdrop\u001b[0m\u001b[0;34m(\u001b[0m\u001b[0mcolumns\u001b[0m\u001b[0;34m=\u001b[0m\u001b[0mdrop_columns\u001b[0m\u001b[0;34m)\u001b[0m\u001b[0;34m\u001b[0m\u001b[0;34m\u001b[0m\u001b[0m\n\u001b[0m",
            "\u001b[0;31mNameError\u001b[0m: name 'corr_loan' is not defined"
          ]
        }
      ]
    },
    {
      "cell_type": "markdown",
      "source": [
        "Negative Correlation:\n",
        "\n",
        "1.loan_amnt has negative correlation with pub_rec_bankrupticies\n",
        "\n",
        "2.annual income has a negative correlation with dti\n",
        "\n",
        "Strong Correlation:\n",
        "\n",
        "1.term has a strong correlation with loan amount\n",
        "\n",
        "2.term has a strong correlation with interest rate\n",
        "\n",
        "3.annual income has a strong correlation with loan_amount\n",
        "\n",
        "\n",
        "\n"
      ],
      "metadata": {
        "id": "NXyjk1JSZtmm"
      }
    },
    {
      "cell_type": "code",
      "source": [
        "sns.boxplot(x = 'term', y = 'loan_amnt', data=corr_loan)"
      ],
      "metadata": {
        "id": "lR0AFihjZc_z"
      },
      "execution_count": null,
      "outputs": []
    },
    {
      "cell_type": "markdown",
      "source": [
        "**from the above graph we can see that if term is increasing loan amount is also increasing**"
      ],
      "metadata": {
        "id": "sx5RU6yKZqvb"
      }
    },
    {
      "cell_type": "code",
      "source": [
        "sns.boxplot(x = 'term', y = 'int_rate', data=corr_loan)"
      ],
      "metadata": {
        "id": "gcjITVswZgW1"
      },
      "execution_count": null,
      "outputs": []
    },
    {
      "cell_type": "markdown",
      "source": [],
      "metadata": {
        "id": "Y6DYyIyTZpap"
      }
    }
  ],
  "metadata": {
    "colab": {
      "provenance": [],
      "include_colab_link": true
    },
    "kernelspec": {
      "display_name": "Python 3",
      "name": "python3"
    },
    "language_info": {
      "name": "python"
    }
  },
  "nbformat": 4,
  "nbformat_minor": 0
}